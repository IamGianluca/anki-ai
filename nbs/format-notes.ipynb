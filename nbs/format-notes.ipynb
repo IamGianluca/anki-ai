{
 "cells": [
  {
   "cell_type": "code",
   "execution_count": 1,
   "id": "de3eefeb-4844-42a6-b03e-c4af38dafb18",
   "metadata": {},
   "outputs": [],
   "source": [
    "import sys\n",
    "\n",
    "from loguru import logger\n",
    "from transformers import AutoModelForCausalLM, AutoTokenizer\n",
    "\n",
    "from anki_ai.domain.model import Deck"
   ]
  },
  {
   "cell_type": "code",
   "execution_count": 2,
   "id": "336ace9c-f427-416c-b9ae-00460321e63b",
   "metadata": {},
   "outputs": [
    {
     "data": {
      "text/plain": [
       "1"
      ]
     },
     "execution_count": 2,
     "metadata": {},
     "output_type": "execute_result"
    }
   ],
   "source": [
    "logger.remove()\n",
    "logger.add(sys.stderr, level=\"ERROR\")"
   ]
  },
  {
   "cell_type": "code",
   "execution_count": 3,
   "id": "30e56d3c-c5c1-424c-bb10-6ab14a59eaa0",
   "metadata": {},
   "outputs": [],
   "source": [
    "deck = Deck(\"default\")"
   ]
  },
  {
   "cell_type": "code",
   "execution_count": 4,
   "id": "d988d3d1-84bc-4029-baf2-2d6280abdc40",
   "metadata": {},
   "outputs": [
    {
     "data": {
      "text/plain": [
       "2241"
      ]
     },
     "execution_count": 4,
     "metadata": {},
     "output_type": "execute_result"
    }
   ],
   "source": [
    "deck.read_txt(\"../data/Selected Notes.txt\")\n",
    "len(deck)"
   ]
  },
  {
   "cell_type": "code",
   "execution_count": 5,
   "id": "b2d6d6b9-3682-4599-ab8f-2d3f4d9f4d21",
   "metadata": {},
   "outputs": [
    {
     "data": {
      "application/vnd.jupyter.widget-view+json": {
       "model_id": "f2f0e557c81d4f11aec094644412efa1",
       "version_major": 2,
       "version_minor": 0
      },
      "text/plain": [
       "Loading checkpoint shards:   0%|          | 0/4 [00:00<?, ?it/s]"
      ]
     },
     "metadata": {},
     "output_type": "display_data"
    }
   ],
   "source": [
    "model_id = \"meta-llama/Meta-Llama-3.1-8B-Instruct\"\n",
    "tokenizer = AutoTokenizer.from_pretrained(model_id)\n",
    "model = AutoModelForCausalLM.from_pretrained(model_id)"
   ]
  },
  {
   "cell_type": "code",
   "execution_count": 6,
   "id": "174d8940-9dde-440b-9c47-5f2bdffc0d60",
   "metadata": {},
   "outputs": [
    {
     "name": "stderr",
     "output_type": "stream",
     "text": [
      "The attention mask and the pad token id were not set. As a consequence, you may observe unexpected behavior. Please pass your input's `attention_mask` to obtain reliable results.\n",
      "Setting `pad_token_id` to `eos_token_id`:128001 for open-end generation.\n",
      "The attention mask is not set and cannot be inferred from input because pad token is same as eos token. As a consequence, you may observe unexpected behavior. Please pass your input's `attention_mask` to obtain reliable results.\n",
      "The attention mask and the pad token id were not set. As a consequence, you may observe unexpected behavior. Please pass your input's `attention_mask` to obtain reliable results.\n",
      "Setting `pad_token_id` to `eos_token_id`:128001 for open-end generation.\n"
     ]
    },
    {
     "name": "stdout",
     "output_type": "stream",
     "text": [
      "#######################\n",
      "Front: What command does create a soft link?\n",
      "Back: ```bash<br>$ ln -s &lt;file_name&gt; &lt;link_name&gt;<br>```\n",
      "Front: Create a soft link\n",
      "Back: $ ln -s <file_name> <link_name>\n"
     ]
    },
    {
     "name": "stderr",
     "output_type": "stream",
     "text": [
      "The attention mask and the pad token id were not set. As a consequence, you may observe unexpected behavior. Please pass your input's `attention_mask` to obtain reliable results.\n",
      "Setting `pad_token_id` to `eos_token_id`:128001 for open-end generation.\n"
     ]
    },
    {
     "name": "stdout",
     "output_type": "stream",
     "text": [
      "#######################\n",
      "Front: In the `ln -s` command, what is the order of file name and link name?\n",
      "Back: ```bash<br>$ ln -s &lt;file_name&gt; &lt;link_name&gt;<br>```\n",
      "Front: What is the order of file name and link name in the `ln -s` command?\n",
      "Back: File name, then link name.\n"
     ]
    },
    {
     "name": "stderr",
     "output_type": "stream",
     "text": [
      "The attention mask and the pad token id were not set. As a consequence, you may observe unexpected behavior. Please pass your input's `attention_mask` to obtain reliable results.\n",
      "Setting `pad_token_id` to `eos_token_id`:128001 for open-end generation.\n"
     ]
    },
    {
     "name": "stdout",
     "output_type": "stream",
     "text": [
      "#######################\n",
      "Front: What command does extract files from a zip archive?\n",
      "Back: ```bash<br>$ unzip &lt;file&gt;<br>```\n",
      "Front: Unzip file\n",
      "Back: $ unzip <file>\n",
      "\n",
      "Front: What is the command to view the content of a text file?\n",
      "Back: $ cat <file>\n"
     ]
    },
    {
     "name": "stderr",
     "output_type": "stream",
     "text": [
      "The attention mask and the pad token id were not set. As a consequence, you may observe unexpected behavior. Please pass your input's `attention_mask` to obtain reliable results.\n",
      "Setting `pad_token_id` to `eos_token_id`:128001 for open-end generation.\n"
     ]
    },
    {
     "name": "stdout",
     "output_type": "stream",
     "text": [
      "#######################\n",
      "Front: What is the command to list the content of a directory?\n",
      "Back: ```bash<br>$ ls &lt;path&gt;<br>```\n",
      "Front: List directory content\n",
      "Back: $ ls <path>\n"
     ]
    },
    {
     "name": "stderr",
     "output_type": "stream",
     "text": [
      "The attention mask and the pad token id were not set. As a consequence, you may observe unexpected behavior. Please pass your input's `attention_mask` to obtain reliable results.\n",
      "Setting `pad_token_id` to `eos_token_id`:128001 for open-end generation.\n"
     ]
    },
    {
     "name": "stdout",
     "output_type": "stream",
     "text": [
      "#######################\n",
      "Front: What is the command to print text to the terminal window?\n",
      "Back: ```bash<br>$ echo ...<br>```\n",
      "Front: How do I print text to the terminal?\n",
      "Back: $ echo\n"
     ]
    },
    {
     "name": "stderr",
     "output_type": "stream",
     "text": [
      "The attention mask and the pad token id were not set. As a consequence, you may observe unexpected behavior. Please pass your input's `attention_mask` to obtain reliable results.\n",
      "Setting `pad_token_id` to `eos_token_id`:128001 for open-end generation.\n"
     ]
    },
    {
     "name": "stdout",
     "output_type": "stream",
     "text": [
      "#######################\n",
      "Front: What is the command to create a new file?\n",
      "Back: ```bash<br>$ touch ...<br>```\n",
      "Front: What is the command to create a new file?\n",
      "Back: $ touch \n",
      "\n",
      "Front: What does the touch command do?\n",
      "Back: Creates a new file or updates the timestamp of an existing file.\n"
     ]
    },
    {
     "name": "stderr",
     "output_type": "stream",
     "text": [
      "The attention mask and the pad token id were not set. As a consequence, you may observe unexpected behavior. Please pass your input's `attention_mask` to obtain reliable results.\n",
      "Setting `pad_token_id` to `eos_token_id`:128001 for open-end generation.\n"
     ]
    },
    {
     "name": "stdout",
     "output_type": "stream",
     "text": [
      "#######################\n",
      "Front: What is the command to create a new directory?\n",
      "Back: ```bash<br>mkdir ...<br>```\n",
      "Front: Create a new directory\n",
      "Back: $ mkdir\n"
     ]
    },
    {
     "name": "stderr",
     "output_type": "stream",
     "text": [
      "The attention mask and the pad token id were not set. As a consequence, you may observe unexpected behavior. Please pass your input's `attention_mask` to obtain reliable results.\n",
      "Setting `pad_token_id` to `eos_token_id`:128001 for open-end generation.\n"
     ]
    },
    {
     "name": "stdout",
     "output_type": "stream",
     "text": [
      "#######################\n",
      "Front: What is the command to search text for patterns?\n",
      "Back: ```bash<br>$ grep ...<br>```\n",
      "Front: Search text for patterns\n",
      "Back: $ grep\n"
     ]
    },
    {
     "name": "stderr",
     "output_type": "stream",
     "text": [
      "The attention mask and the pad token id were not set. As a consequence, you may observe unexpected behavior. Please pass your input's `attention_mask` to obtain reliable results.\n",
      "Setting `pad_token_id` to `eos_token_id`:128001 for open-end generation.\n"
     ]
    },
    {
     "name": "stdout",
     "output_type": "stream",
     "text": [
      "#######################\n",
      "Front: What is the command to print manual or get help for a command?\n",
      "Back: ```bash<br>$ man ...<br>```\n",
      "Front: Man page command\n",
      "Back: $ man [command name]\n",
      "\n",
      "Front: What is the purpose of the man command?\n",
      "Back: To view the manual page of a command\n",
      "#######################\n",
      "Front: What is the command to print the current working directory?\n",
      "Back: ```bash<br>$ pwd&nbsp;<br>```\n",
      "Front: What command prints the current working directory?\n",
      "Back: pwd\n"
     ]
    }
   ],
   "source": [
    "system_msg = \"\"\"You are an expert in building Anki cards.\n",
    "\n",
    "The user will share an existing Anki note with you. Your job is to edit it to be more concise, simple, straightforward, and distinct.\n",
    "\n",
    "Do not describe the changes you made. Reply in this format:\n",
    "   \n",
    "Front: [front section of card 1]\n",
    "Back: [back section of card 1]\n",
    "\n",
    "When providing commands to be executed in a terminal, please prefix each command with the $ symbol. This helps distinguish executable commands from output or other text. For example:\n",
    "$ ls -l\n",
    "$ cd /path/to/directory\n",
    "$ python script.py\"\n",
    "\n",
    "Note that the $ symbol represents the command prompt and should not be typed when actually executing the commands.\n",
    "\"\"\"\n",
    "\n",
    "for i in range(10):\n",
    "    user_msg = f\"\"\"Front: {deck[i].front}\n",
    "    Back: {deck[i].back}\n",
    "    \"\"\"\n",
    "\n",
    "    messages = [\n",
    "        {\"role\": \"system\", \"content\": system_msg},\n",
    "        {\"role\": \"user\", \"content\": user_msg},\n",
    "    ]\n",
    "\n",
    "    tokenized_chat = tokenizer.apply_chat_template(\n",
    "        messages, tokenize=True, add_generation_prompt=True, return_tensors=\"pt\"\n",
    "    )\n",
    "    new_tokens = model.generate(tokenized_chat, max_new_tokens=150)\n",
    "    gen_text = tokenizer.batch_decode(\n",
    "        new_tokens[:, tokenized_chat.shape[1] :], skip_special_tokens=True\n",
    "    )[0]\n",
    "\n",
    "    print(\"#######################\")\n",
    "    print(f\"Front: {deck[i].front}\\nBack: {deck[i].back}\")\n",
    "    print(gen_text)"
   ]
  }
 ],
 "metadata": {
  "kernelspec": {
   "display_name": "Python 3 (ipykernel)",
   "language": "python",
   "name": "python3"
  },
  "language_info": {
   "codemirror_mode": {
    "name": "ipython",
    "version": 3
   },
   "file_extension": ".py",
   "mimetype": "text/x-python",
   "name": "python",
   "nbconvert_exporter": "python",
   "pygments_lexer": "ipython3",
   "version": "3.11.8"
  }
 },
 "nbformat": 4,
 "nbformat_minor": 5
}
