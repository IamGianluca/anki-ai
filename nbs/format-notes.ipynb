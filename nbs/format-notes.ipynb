{
 "cells": [
  {
   "cell_type": "code",
   "execution_count": 3,
   "id": "de3eefeb-4844-42a6-b03e-c4af38dafb18",
   "metadata": {},
   "outputs": [],
   "source": [
    "import torch\n",
    "import transformers\n",
    "\n",
    "from anki_ai.domain.model import Deck"
   ]
  },
  {
   "cell_type": "code",
   "execution_count": 4,
   "id": "30e56d3c-c5c1-424c-bb10-6ab14a59eaa0",
   "metadata": {},
   "outputs": [],
   "source": [
    "deck = Deck(\"default\")"
   ]
  },
  {
   "cell_type": "code",
   "execution_count": 5,
   "id": "d988d3d1-84bc-4029-baf2-2d6280abdc40",
   "metadata": {},
   "outputs": [
    {
     "name": "stderr",
     "output_type": "stream",
     "text": [
      "\u001b[32m2024-08-25 09:35:51.861\u001b[0m | \u001b[33m\u001b[1mWARNING \u001b[0m | \u001b[36manki_ai.domain.model\u001b[0m:\u001b[36mread_txt\u001b[0m:\u001b[36m48\u001b[0m - \u001b[33m\u001b[1mWas not able to process line 0: #separator:tab\n",
      "\u001b[0m\n",
      "\u001b[32m2024-08-25 09:35:51.862\u001b[0m | \u001b[33m\u001b[1mWARNING \u001b[0m | \u001b[36manki_ai.domain.model\u001b[0m:\u001b[36mread_txt\u001b[0m:\u001b[36m48\u001b[0m - \u001b[33m\u001b[1mWas not able to process line 1: #html:true\n",
      "\u001b[0m\n",
      "\u001b[32m2024-08-25 09:35:51.863\u001b[0m | \u001b[33m\u001b[1mWARNING \u001b[0m | \u001b[36manki_ai.domain.model\u001b[0m:\u001b[36mread_txt\u001b[0m:\u001b[36m48\u001b[0m - \u001b[33m\u001b[1mWas not able to process line 2: #tags column:6\n",
      "\u001b[0m\n",
      "\u001b[32m2024-08-25 09:35:51.864\u001b[0m | \u001b[33m\u001b[1mWARNING \u001b[0m | \u001b[36manki_ai.domain.model\u001b[0m:\u001b[36mread_txt\u001b[0m:\u001b[36m48\u001b[0m - \u001b[33m\u001b[1mWas not able to process line 366: \"<div>What pandas DataFrame method and arguments can be used to create a histogram with 50 bins for the 'age' column of a DataFrame called 'users'?</div>\n",
      "\u001b[0m\n",
      "\u001b[32m2024-08-25 09:35:51.865\u001b[0m | \u001b[33m\u001b[1mWARNING \u001b[0m | \u001b[36manki_ai.domain.model\u001b[0m:\u001b[36mread_txt\u001b[0m:\u001b[36m48\u001b[0m - \u001b[33m\u001b[1mWas not able to process line 378: \"What is the command to return <b><font color=\"\"#ef2929\"\">all unique values</font></b> for a variable?\"\t\"<center><table class=\"\"highlighttable\"\"><tbody><tr><td><div class=\"\"linenodiv\"\" style=\"\"background-color: #f0f0f0; padding-right: 10px\"\"><pre style=\"\"line-height: 125%\"\">1</pre></div></td><td class=\"\"code\"\"><div class=\"\"highlight\"\" style=\"\"background: #f8f8f8\"\"><pre style=\"\"line-height: 125%\"\">transactions<span style=\"\"color: #666666\"\">.</span>t_dat<span style=\"\"color: #666666\"\">.</span>unique()\n",
      "\u001b[0m\n",
      "\u001b[32m2024-08-25 09:35:51.865\u001b[0m | \u001b[33m\u001b[1mWARNING \u001b[0m | \u001b[36manki_ai.domain.model\u001b[0m:\u001b[36mread_txt\u001b[0m:\u001b[36m48\u001b[0m - \u001b[33m\u001b[1mWas not able to process line 379: </pre></div>\n",
      "\u001b[0m\n",
      "\u001b[32m2024-08-25 09:35:51.866\u001b[0m | \u001b[33m\u001b[1mWARNING \u001b[0m | \u001b[36manki_ai.domain.model\u001b[0m:\u001b[36mread_txt\u001b[0m:\u001b[36m48\u001b[0m - \u001b[33m\u001b[1mWas not able to process line 380: </td></tr></tbody></table></center><br>\"\t\t\t\tpandas\n",
      "\u001b[0m\n",
      "\u001b[32m2024-08-25 09:35:51.866\u001b[0m | \u001b[33m\u001b[1mWARNING \u001b[0m | \u001b[36manki_ai.domain.model\u001b[0m:\u001b[36mread_txt\u001b[0m:\u001b[36m48\u001b[0m - \u001b[33m\u001b[1mWas not able to process line 381: How can you access the year component of a datetime variable?\t\"<center><table class=\"\"highlighttable\"\"><tbody><tr><td><div class=\"\"linenodiv\"\" style=\"\"background-color: #f0f0f0; padding-right: 10px\"\"><pre style=\"\"line-height: 125%\"\">1</pre></div></td><td class=\"\"code\"\"><div class=\"\"highlight\"\" style=\"\"background: #f8f8f8\"\"><pre style=\"\"line-height: 125%\"\">transactions<span style=\"\"color: #666666\"\">.</span>date<font color=\"\"#ef2929\"\"><b>.dt.year</b></font><span style=\"\"color: #666666\"\">.</span>unique()\n",
      "\u001b[0m\n",
      "\u001b[32m2024-08-25 09:35:51.867\u001b[0m | \u001b[33m\u001b[1mWARNING \u001b[0m | \u001b[36manki_ai.domain.model\u001b[0m:\u001b[36mread_txt\u001b[0m:\u001b[36m48\u001b[0m - \u001b[33m\u001b[1mWas not able to process line 382: </pre></div>\n",
      "\u001b[0m\n",
      "\u001b[32m2024-08-25 09:35:51.867\u001b[0m | \u001b[33m\u001b[1mWARNING \u001b[0m | \u001b[36manki_ai.domain.model\u001b[0m:\u001b[36mread_txt\u001b[0m:\u001b[36m48\u001b[0m - \u001b[33m\u001b[1mWas not able to process line 383: </td></tr></tbody></table></center><br>\"\t\t\t\tpandas\n",
      "\u001b[0m\n",
      "\u001b[32m2024-08-25 09:35:51.868\u001b[0m | \u001b[33m\u001b[1mWARNING \u001b[0m | \u001b[36manki_ai.domain.model\u001b[0m:\u001b[36mread_txt\u001b[0m:\u001b[36m48\u001b[0m - \u001b[33m\u001b[1mWas not able to process line 396: What command casts a pandas object to a specified dtype?\t\"<center><table class=\"\"highlighttable\"\"><tbody><tr><td><div class=\"\"linenodiv\"\" style=\"\"background-color: #f0f0f0; padding-right: 10px\"\"><pre style=\"\"line-height: 125%\"\">1</pre></div></td><td class=\"\"code\"\"><div class=\"\"highlight\"\" style=\"\"background: #f8f8f8\"\"><pre style=\"\"line-height: 125%\"\">DataFrame<span style=\"\"color: #666666\"\">.</span>astype(dtype)\n",
      "\u001b[0m\n",
      "\u001b[32m2024-08-25 09:35:51.868\u001b[0m | \u001b[33m\u001b[1mWARNING \u001b[0m | \u001b[36manki_ai.domain.model\u001b[0m:\u001b[36mread_txt\u001b[0m:\u001b[36m48\u001b[0m - \u001b[33m\u001b[1mWas not able to process line 397: </pre></div>\n",
      "\u001b[0m\n",
      "\u001b[32m2024-08-25 09:35:51.869\u001b[0m | \u001b[33m\u001b[1mWARNING \u001b[0m | \u001b[36manki_ai.domain.model\u001b[0m:\u001b[36mread_txt\u001b[0m:\u001b[36m48\u001b[0m - \u001b[33m\u001b[1mWas not able to process line 398: </td></tr></tbody></table></center><br>\"\t\t\t\tpandas\n",
      "\u001b[0m\n",
      "\u001b[32m2024-08-25 09:35:51.869\u001b[0m | \u001b[33m\u001b[1mWARNING \u001b[0m | \u001b[36manki_ai.domain.model\u001b[0m:\u001b[36mread_txt\u001b[0m:\u001b[36m48\u001b[0m - \u001b[33m\u001b[1mWas not able to process line 400: What is the command to run the garbage collector?\t\"<center><table class=\"\"highlighttable\"\"><tbody><tr><td><div class=\"\"linenodiv\"\" style=\"\"background-color: #f0f0f0; padding-right: 10px\"\"><pre style=\"\"line-height: 125%\"\">1\n",
      "\u001b[0m\n",
      "\u001b[32m2024-08-25 09:35:51.869\u001b[0m | \u001b[33m\u001b[1mWARNING \u001b[0m | \u001b[36manki_ai.domain.model\u001b[0m:\u001b[36mread_txt\u001b[0m:\u001b[36m48\u001b[0m - \u001b[33m\u001b[1mWas not able to process line 401: 2\n",
      "\u001b[0m\n",
      "\u001b[32m2024-08-25 09:35:51.870\u001b[0m | \u001b[33m\u001b[1mWARNING \u001b[0m | \u001b[36manki_ai.domain.model\u001b[0m:\u001b[36mread_txt\u001b[0m:\u001b[36m48\u001b[0m - \u001b[33m\u001b[1mWas not able to process line 402: 3\n",
      "\u001b[0m\n",
      "\u001b[32m2024-08-25 09:35:51.870\u001b[0m | \u001b[33m\u001b[1mWARNING \u001b[0m | \u001b[36manki_ai.domain.model\u001b[0m:\u001b[36mread_txt\u001b[0m:\u001b[36m48\u001b[0m - \u001b[33m\u001b[1mWas not able to process line 403: 4</pre></div></td><td class=\"\"code\"\"><div class=\"\"highlight\"\" style=\"\"background: #f8f8f8\"\"><pre style=\"\"line-height: 125%\"\"><span style=\"\"color: #008000; font-weight: bold\"\">import</span> <span style=\"\"color: #0000FF; font-weight: bold\"\">gc</span>\n",
      "\u001b[0m\n",
      "\u001b[32m2024-08-25 09:35:51.870\u001b[0m | \u001b[33m\u001b[1mWARNING \u001b[0m | \u001b[36manki_ai.domain.model\u001b[0m:\u001b[36mread_txt\u001b[0m:\u001b[36m48\u001b[0m - \u001b[33m\u001b[1mWas not able to process line 404: \n",
      "\u001b[0m\n",
      "\u001b[32m2024-08-25 09:35:51.871\u001b[0m | \u001b[33m\u001b[1mWARNING \u001b[0m | \u001b[36manki_ai.domain.model\u001b[0m:\u001b[36mread_txt\u001b[0m:\u001b[36m48\u001b[0m - \u001b[33m\u001b[1mWas not able to process line 405: <span style=\"\"color: #008000; font-weight: bold\"\">del</span> session_past_ids, items_first_ts_df\n",
      "\u001b[0m\n",
      "\u001b[32m2024-08-25 09:35:51.871\u001b[0m | \u001b[33m\u001b[1mWARNING \u001b[0m | \u001b[36manki_ai.domain.model\u001b[0m:\u001b[36mread_txt\u001b[0m:\u001b[36m48\u001b[0m - \u001b[33m\u001b[1mWas not able to process line 406: gc<span style=\"\"color: #666666\"\">.</span>collect()\n",
      "\u001b[0m\n",
      "\u001b[32m2024-08-25 09:35:51.871\u001b[0m | \u001b[33m\u001b[1mWARNING \u001b[0m | \u001b[36manki_ai.domain.model\u001b[0m:\u001b[36mread_txt\u001b[0m:\u001b[36m48\u001b[0m - \u001b[33m\u001b[1mWas not able to process line 407: </pre></div>\n",
      "\u001b[0m\n",
      "\u001b[32m2024-08-25 09:35:51.872\u001b[0m | \u001b[33m\u001b[1mWARNING \u001b[0m | \u001b[36manki_ai.domain.model\u001b[0m:\u001b[36mread_txt\u001b[0m:\u001b[36m48\u001b[0m - \u001b[33m\u001b[1mWas not able to process line 408: </td></tr></tbody></table></center><br>\"\t\t\t\tpython\n",
      "\u001b[0m\n",
      "\u001b[32m2024-08-25 09:35:51.874\u001b[0m | \u001b[33m\u001b[1mWARNING \u001b[0m | \u001b[36manki_ai.domain.model\u001b[0m:\u001b[36mread_txt\u001b[0m:\u001b[36m48\u001b[0m - \u001b[33m\u001b[1mWas not able to process line 536: How can we access the gradients of a tensor?\t\"<center><table class=\"\"highlighttable\"\"><tbody><tr><td><div class=\"\"linenodiv\"\" style=\"\"background-color: #f0f0f0; padding-right: 10px\"\"><pre style=\"\"line-height: 125%\"\">1</pre></div></td><td class=\"\"code\"\"><div class=\"\"highlight\"\" style=\"\"background: #f8f8f8\"\"><pre style=\"\"line-height: 125%\"\">x<span style=\"\"color: #666666\"\">.</span>grad\n",
      "\u001b[0m\n",
      "\u001b[32m2024-08-25 09:35:51.874\u001b[0m | \u001b[33m\u001b[1mWARNING \u001b[0m | \u001b[36manki_ai.domain.model\u001b[0m:\u001b[36mread_txt\u001b[0m:\u001b[36m48\u001b[0m - \u001b[33m\u001b[1mWas not able to process line 537: </pre></div>\n",
      "\u001b[0m\n",
      "\u001b[32m2024-08-25 09:35:51.874\u001b[0m | \u001b[33m\u001b[1mWARNING \u001b[0m | \u001b[36manki_ai.domain.model\u001b[0m:\u001b[36mread_txt\u001b[0m:\u001b[36m48\u001b[0m - \u001b[33m\u001b[1mWas not able to process line 538: </td></tr></tbody></table></center><br>\"\t\t\t\tpytorch\n",
      "\u001b[0m\n",
      "\u001b[32m2024-08-25 09:35:51.876\u001b[0m | \u001b[33m\u001b[1mWARNING \u001b[0m | \u001b[36manki_ai.domain.model\u001b[0m:\u001b[36mread_txt\u001b[0m:\u001b[36m48\u001b[0m - \u001b[33m\u001b[1mWas not able to process line 699: What method should we use to train our model after increasing the image size (Progressive Resizing)?\t\"<center><table class=\"\"highlighttable\"\"><tbody><tr><td><div class=\"\"linenodiv\"\" style=\"\"background-color: #f0f0f0; padding-right: 10px\"\"><pre style=\"\"line-height: 125%\"\">1</pre></div></td><td class=\"\"code\"\"><div class=\"\"highlight\"\" style=\"\"background: #f8f8f8\"\"><pre style=\"\"line-height: 125%\"\">learner<span style=\"\"color: #666666\"\">.</span>fine_tune()\n",
      "\u001b[0m\n",
      "\u001b[32m2024-08-25 09:35:51.876\u001b[0m | \u001b[33m\u001b[1mWARNING \u001b[0m | \u001b[36manki_ai.domain.model\u001b[0m:\u001b[36mread_txt\u001b[0m:\u001b[36m48\u001b[0m - \u001b[33m\u001b[1mWas not able to process line 700: </pre></div>\n",
      "\u001b[0m\n",
      "\u001b[32m2024-08-25 09:35:51.877\u001b[0m | \u001b[33m\u001b[1mWARNING \u001b[0m | \u001b[36manki_ai.domain.model\u001b[0m:\u001b[36mread_txt\u001b[0m:\u001b[36m48\u001b[0m - \u001b[33m\u001b[1mWas not able to process line 701: </td></tr></tbody></table></center><br>\"\t\t\t\tfastai\n",
      "\u001b[0m\n",
      "\u001b[32m2024-08-25 09:35:51.877\u001b[0m | \u001b[33m\u001b[1mWARNING \u001b[0m | \u001b[36manki_ai.domain.model\u001b[0m:\u001b[36mread_txt\u001b[0m:\u001b[36m48\u001b[0m - \u001b[33m\u001b[1mWas not able to process line 745: \"What does **kwargs means in a argument list?<br><br><center><table class=\"\"highlighttable\"\"><tbody><tr><td><div class=\"\"linenodiv\"\" style=\"\"background-color: #f0f0f0; padding-right: 10px\"\"><pre style=\"\"line-height: 125%\"\">1</pre></div></td><td class=\"\"code\"\"><div class=\"\"highlight\"\" style=\"\"background: #f8f8f8\"\"><pre style=\"\"line-height: 125%\"\">lastfm_similar_tracks(<span style=\"\"color: #666666\"\">**</span>kwargs)\n",
      "\u001b[0m\n",
      "\u001b[32m2024-08-25 09:35:51.878\u001b[0m | \u001b[33m\u001b[1mWARNING \u001b[0m | \u001b[36manki_ai.domain.model\u001b[0m:\u001b[36mread_txt\u001b[0m:\u001b[36m48\u001b[0m - \u001b[33m\u001b[1mWas not able to process line 746: </pre></div>\n",
      "\u001b[0m\n",
      "\u001b[32m2024-08-25 09:35:51.880\u001b[0m | \u001b[33m\u001b[1mWARNING \u001b[0m | \u001b[36manki_ai.domain.model\u001b[0m:\u001b[36mread_txt\u001b[0m:\u001b[36m48\u001b[0m - \u001b[33m\u001b[1mWas not able to process line 1138: \"What does the \"\"cmp\"\" method do?<br><br><center><table class=\"\"highlighttable\"\"><tbody><tr><td><div class=\"\"linenodiv\"\" style=\"\"background-color: #f0f0f0; padding-right: 10px\"\"><pre style=\"\"line-height: 125%\"\">1\n",
      "\u001b[0m\n",
      "\u001b[32m2024-08-25 09:35:51.880\u001b[0m | \u001b[33m\u001b[1mWARNING \u001b[0m | \u001b[36manki_ai.domain.model\u001b[0m:\u001b[36mread_txt\u001b[0m:\u001b[36m48\u001b[0m - \u001b[33m\u001b[1mWas not able to process line 1139: 2\n",
      "\u001b[0m\n",
      "\u001b[32m2024-08-25 09:35:51.880\u001b[0m | \u001b[33m\u001b[1mWARNING \u001b[0m | \u001b[36manki_ai.domain.model\u001b[0m:\u001b[36mread_txt\u001b[0m:\u001b[36m48\u001b[0m - \u001b[33m\u001b[1mWas not able to process line 1140: 3\n",
      "\u001b[0m\n",
      "\u001b[32m2024-08-25 09:35:51.881\u001b[0m | \u001b[33m\u001b[1mWARNING \u001b[0m | \u001b[36manki_ai.domain.model\u001b[0m:\u001b[36mread_txt\u001b[0m:\u001b[36m48\u001b[0m - \u001b[33m\u001b[1mWas not able to process line 1141: 4\n",
      "\u001b[0m\n",
      "\u001b[32m2024-08-25 09:35:51.881\u001b[0m | \u001b[33m\u001b[1mWARNING \u001b[0m | \u001b[36manki_ai.domain.model\u001b[0m:\u001b[36mread_txt\u001b[0m:\u001b[36m48\u001b[0m - \u001b[33m\u001b[1mWas not able to process line 1142: 5</pre></div></td><td class=\"\"code\"\"><div class=\"\"highlight\"\" style=\"\"background: #f8f8f8\"\"><pre style=\"\"line-height: 125%\"\"><span style=\"\"color: #008000; font-weight: bold\"\">match</span><span style=\"\"color: #bbbbbb\"\"> </span>guess.cmp(<span style=\"\"color: #666666\"\">&amp;</span>secret_number)<span style=\"\"color: #bbbbbb\"\"> </span>{<span style=\"\"color: #bbbbbb\"\"></span>\n",
      "\u001b[0m\n",
      "\u001b[32m2024-08-25 09:35:51.881\u001b[0m | \u001b[33m\u001b[1mWARNING \u001b[0m | \u001b[36manki_ai.domain.model\u001b[0m:\u001b[36mread_txt\u001b[0m:\u001b[36m48\u001b[0m - \u001b[33m\u001b[1mWas not able to process line 1143: <span style=\"\"color: #bbbbbb\"\">    </span>Ordering::Less<span style=\"\"color: #bbbbbb\"\"> </span><span style=\"\"color: #666666\"\">=&gt;</span><span style=\"\"color: #bbbbbb\"\"> </span>println<span style=\"\"color: #666666\"\">!</span>(<span style=\"\"color: #BA2121\"\">\"\"Too small\"\"</span>),<span style=\"\"color: #bbbbbb\"\"></span>\n",
      "\u001b[0m\n",
      "\u001b[32m2024-08-25 09:35:51.882\u001b[0m | \u001b[33m\u001b[1mWARNING \u001b[0m | \u001b[36manki_ai.domain.model\u001b[0m:\u001b[36mread_txt\u001b[0m:\u001b[36m48\u001b[0m - \u001b[33m\u001b[1mWas not able to process line 1144: <span style=\"\"color: #bbbbbb\"\">    </span>Ordering::Greater<span style=\"\"color: #bbbbbb\"\"> </span><span style=\"\"color: #666666\"\">=&gt;</span><span style=\"\"color: #bbbbbb\"\"> </span>println<span style=\"\"color: #666666\"\">!</span>(<span style=\"\"color: #BA2121\"\">\"\"Too big\"\"</span>),<span style=\"\"color: #bbbbbb\"\"></span>\n",
      "\u001b[0m\n",
      "\u001b[32m2024-08-25 09:35:51.882\u001b[0m | \u001b[33m\u001b[1mWARNING \u001b[0m | \u001b[36manki_ai.domain.model\u001b[0m:\u001b[36mread_txt\u001b[0m:\u001b[36m48\u001b[0m - \u001b[33m\u001b[1mWas not able to process line 1145: <span style=\"\"color: #bbbbbb\"\">    </span>Ordering::Equal<span style=\"\"color: #bbbbbb\"\"> </span><span style=\"\"color: #666666\"\">=&gt;</span><span style=\"\"color: #bbbbbb\"\"> </span>println<span style=\"\"color: #666666\"\">!</span>(<span style=\"\"color: #BA2121\"\">\"\"You win!\"\"</span>),<span style=\"\"color: #bbbbbb\"\"></span>\n",
      "\u001b[0m\n",
      "\u001b[32m2024-08-25 09:35:51.882\u001b[0m | \u001b[33m\u001b[1mWARNING \u001b[0m | \u001b[36manki_ai.domain.model\u001b[0m:\u001b[36mread_txt\u001b[0m:\u001b[36m48\u001b[0m - \u001b[33m\u001b[1mWas not able to process line 1146: }<span style=\"\"color: #bbbbbb\"\"></span>\n",
      "\u001b[0m\n",
      "\u001b[32m2024-08-25 09:35:51.883\u001b[0m | \u001b[33m\u001b[1mWARNING \u001b[0m | \u001b[36manki_ai.domain.model\u001b[0m:\u001b[36mread_txt\u001b[0m:\u001b[36m48\u001b[0m - \u001b[33m\u001b[1mWas not able to process line 1147: </pre></div>\n",
      "\u001b[0m\n",
      "\u001b[32m2024-08-25 09:35:51.884\u001b[0m | \u001b[33m\u001b[1mWARNING \u001b[0m | \u001b[36manki_ai.domain.model\u001b[0m:\u001b[36mread_txt\u001b[0m:\u001b[36m48\u001b[0m - \u001b[33m\u001b[1mWas not able to process line 1276: \"What does this code snippet do?<br><br><center><table class=\"\"highlighttable\"\"><tbody><tr><td><div class=\"\"linenodiv\"\" style=\"\"background-color: #f0f0f0; padding-right: 10px\"\"><pre style=\"\"line-height: 125%\"\">1</pre></div></td><td class=\"\"code\"\"><div class=\"\"highlight\"\" style=\"\"background: #f8f8f8\"\"><pre style=\"\"line-height: 125%\"\">tokenizer(batch_sentences, padding<span style=\"\"color: #666666\"\">=</span><span style=\"\"color: #BA2121\"\">'max_length'</span>, truncation<span style=\"\"color: #666666\"\">=</span><span style=\"\"color: #008000; font-weight: bold\"\">True</span>, max_length<span style=\"\"color: #666666\"\">=128</span>)\n",
      "\u001b[0m\n",
      "\u001b[32m2024-08-25 09:35:51.884\u001b[0m | \u001b[33m\u001b[1mWARNING \u001b[0m | \u001b[36manki_ai.domain.model\u001b[0m:\u001b[36mread_txt\u001b[0m:\u001b[36m48\u001b[0m - \u001b[33m\u001b[1mWas not able to process line 1277: </pre></div>\n",
      "\u001b[0m\n",
      "\u001b[32m2024-08-25 09:35:51.886\u001b[0m | \u001b[33m\u001b[1mWARNING \u001b[0m | \u001b[36manki_ai.domain.model\u001b[0m:\u001b[36mread_txt\u001b[0m:\u001b[36m48\u001b[0m - \u001b[33m\u001b[1mWas not able to process line 1360: What are asynchronous routines?\t\"<div style=\"\"text-align: justify;\"\">\n",
      "\u001b[0m\n",
      "\u001b[32m2024-08-25 09:35:51.886\u001b[0m | \u001b[33m\u001b[1mWARNING \u001b[0m | \u001b[36manki_ai.domain.model\u001b[0m:\u001b[36mread_txt\u001b[0m:\u001b[36m48\u001b[0m - \u001b[33m\u001b[1mWas not able to process line 1361: <div>Functions that are able to “pause” while waiting on their ultimate result and let other routines run in the meantime<br></div></div>\"\t\t\t\tsoftware-engineering\n",
      "\u001b[0m\n",
      "\u001b[32m2024-08-25 09:35:51.888\u001b[0m | \u001b[33m\u001b[1mWARNING \u001b[0m | \u001b[36manki_ai.domain.model\u001b[0m:\u001b[36mread_txt\u001b[0m:\u001b[36m48\u001b[0m - \u001b[33m\u001b[1mWas not able to process line 1811: \"How is the variable `s1` represented in memory?<br><br>```rust<br>let s1 = String::from(\"\"hello\"\");<br>```\"\t\"The pointer to the memory that holds the contents of the `String`, a length, and a capacity are stored on the stack. The memory on the heap holds the contents.<br><br><img alt=\"\"Two tables: the first table contains the representation of s1 on the\n",
      "\u001b[0m\n",
      "\u001b[32m2024-08-25 09:35:51.888\u001b[0m | \u001b[33m\u001b[1mWARNING \u001b[0m | \u001b[36manki_ai.domain.model\u001b[0m:\u001b[36mread_txt\u001b[0m:\u001b[36m48\u001b[0m - \u001b[33m\u001b[1mWas not able to process line 1812: stack, consisting of its length (5), capacity (5), and a pointer to the first\n",
      "\u001b[0m\n",
      "\u001b[32m2024-08-25 09:35:51.889\u001b[0m | \u001b[33m\u001b[1mWARNING \u001b[0m | \u001b[36manki_ai.domain.model\u001b[0m:\u001b[36mread_txt\u001b[0m:\u001b[36m48\u001b[0m - \u001b[33m\u001b[1mWas not able to process line 1813: value in the second table. The second table contains the representation of the\n",
      "\u001b[0m\n",
      "\u001b[32m2024-08-25 09:35:51.889\u001b[0m | \u001b[33m\u001b[1mWARNING \u001b[0m | \u001b[36manki_ai.domain.model\u001b[0m:\u001b[36mread_txt\u001b[0m:\u001b[36m48\u001b[0m - \u001b[33m\u001b[1mWas not able to process line 1814: string data on the heap, byte by byte.\"\" src=\"\"trpl04-01.svg\"\">\"\t\t\t\trust-lang\n",
      "\u001b[0m\n",
      "\u001b[32m2024-08-25 09:35:51.890\u001b[0m | \u001b[33m\u001b[1mWARNING \u001b[0m | \u001b[36manki_ai.domain.model\u001b[0m:\u001b[36mread_txt\u001b[0m:\u001b[36m48\u001b[0m - \u001b[33m\u001b[1mWas not able to process line 1815: \"Under the hood, what happens when we assign `s1` to `s2`?<br><br>```rust<br>let s1 = String::from(\"\"hello\"\");<br>let s2 = s1;<br>```\"\t\"The pointer, length, and the capacity that are on the stack are copied. The data on the heap is not copied.&nbsp;<br><br><img alt=\"\"Three tables: tables s1 and s2 representing those strings on the\n",
      "\u001b[0m\n",
      "\u001b[32m2024-08-25 09:35:51.890\u001b[0m | \u001b[33m\u001b[1mWARNING \u001b[0m | \u001b[36manki_ai.domain.model\u001b[0m:\u001b[36mread_txt\u001b[0m:\u001b[36m48\u001b[0m - \u001b[33m\u001b[1mWas not able to process line 1816: stack, respectively, and both pointing to the same string data on the heap.\n",
      "\u001b[0m\n",
      "\u001b[32m2024-08-25 09:35:51.890\u001b[0m | \u001b[33m\u001b[1mWARNING \u001b[0m | \u001b[36manki_ai.domain.model\u001b[0m:\u001b[36mread_txt\u001b[0m:\u001b[36m48\u001b[0m - \u001b[33m\u001b[1mWas not able to process line 1817: Table s1 is grayed out be-cause s1 is no longer valid; only s2 can be used to\n",
      "\u001b[0m\n",
      "\u001b[32m2024-08-25 09:35:51.891\u001b[0m | \u001b[33m\u001b[1mWARNING \u001b[0m | \u001b[36manki_ai.domain.model\u001b[0m:\u001b[36mread_txt\u001b[0m:\u001b[36m48\u001b[0m - \u001b[33m\u001b[1mWas not able to process line 1818: access the heap data.\"\" src=\"\"trpl04-04.svg\"\">\"\t\t\t\trust-lang\n",
      "\u001b[0m\n",
      "\u001b[32m2024-08-25 09:35:51.891\u001b[0m | \u001b[33m\u001b[1mWARNING \u001b[0m | \u001b[36manki_ai.domain.model\u001b[0m:\u001b[36mread_txt\u001b[0m:\u001b[36m48\u001b[0m - \u001b[33m\u001b[1mWas not able to process line 1820: \"How does the assignment of `s1` to `s2` differ from a _shallow copy_?<br><br>```rust<br>let s1 = String::from(\"\"hello\"\");<br>let s2 = s1;<br>```\"\t\"Rust also invalidates the reference to `s1`&nbsp;<br><br><img alt=\"\"Three tables: tables s1 and s2 representing those strings on the\n",
      "\u001b[0m\n",
      "\u001b[32m2024-08-25 09:35:51.892\u001b[0m | \u001b[33m\u001b[1mWARNING \u001b[0m | \u001b[36manki_ai.domain.model\u001b[0m:\u001b[36mread_txt\u001b[0m:\u001b[36m48\u001b[0m - \u001b[33m\u001b[1mWas not able to process line 1821: stack, respectively, and both pointing to the same string data on the heap.\n",
      "\u001b[0m\n",
      "\u001b[32m2024-08-25 09:35:51.892\u001b[0m | \u001b[33m\u001b[1mWARNING \u001b[0m | \u001b[36manki_ai.domain.model\u001b[0m:\u001b[36mread_txt\u001b[0m:\u001b[36m48\u001b[0m - \u001b[33m\u001b[1mWas not able to process line 1822: Table s1 is grayed out be-cause s1 is no longer valid; only s2 can be used to\n",
      "\u001b[0m\n",
      "\u001b[32m2024-08-25 09:35:51.892\u001b[0m | \u001b[33m\u001b[1mWARNING \u001b[0m | \u001b[36manki_ai.domain.model\u001b[0m:\u001b[36mread_txt\u001b[0m:\u001b[36m48\u001b[0m - \u001b[33m\u001b[1mWas not able to process line 1823: access the heap data.\"\" src=\"\"trpl04-04.svg\"\">\"\t\t\t\trust-lang\n",
      "\u001b[0m\n",
      "\u001b[32m2024-08-25 09:35:51.893\u001b[0m | \u001b[33m\u001b[1mWARNING \u001b[0m | \u001b[36manki_ai.domain.model\u001b[0m:\u001b[36mread_txt\u001b[0m:\u001b[36m48\u001b[0m - \u001b[33m\u001b[1mWas not able to process line 1824: \"How is the operation on the second line a.k.a.?<br><br>```rust<br>let s1 = String::from(\"\"hello\"\");<br>let s2 = s1;<br>```\"\t\"`s1` was _moved_ into `s2`<br><br><img alt=\"\"Three tables: tables s1 and s2 representing those strings on the\n",
      "\u001b[0m\n",
      "\u001b[32m2024-08-25 09:35:51.893\u001b[0m | \u001b[33m\u001b[1mWARNING \u001b[0m | \u001b[36manki_ai.domain.model\u001b[0m:\u001b[36mread_txt\u001b[0m:\u001b[36m48\u001b[0m - \u001b[33m\u001b[1mWas not able to process line 1825: stack, respectively, and both pointing to the same string data on the heap.\n",
      "\u001b[0m\n",
      "\u001b[32m2024-08-25 09:35:51.894\u001b[0m | \u001b[33m\u001b[1mWARNING \u001b[0m | \u001b[36manki_ai.domain.model\u001b[0m:\u001b[36mread_txt\u001b[0m:\u001b[36m48\u001b[0m - \u001b[33m\u001b[1mWas not able to process line 1826: Table s1 is grayed out be-cause s1 is no longer valid; only s2 can be used to\n",
      "\u001b[0m\n",
      "\u001b[32m2024-08-25 09:35:51.894\u001b[0m | \u001b[33m\u001b[1mWARNING \u001b[0m | \u001b[36manki_ai.domain.model\u001b[0m:\u001b[36mread_txt\u001b[0m:\u001b[36m48\u001b[0m - \u001b[33m\u001b[1mWas not able to process line 1827: access the heap data.\"\" src=\"\"trpl04-04.svg\"\">\"\t\t\t\trust-lang\n",
      "\u001b[0m\n",
      "\u001b[32m2024-08-25 09:35:51.894\u001b[0m | \u001b[33m\u001b[1mWARNING \u001b[0m | \u001b[36manki_ai.domain.model\u001b[0m:\u001b[36mread_txt\u001b[0m:\u001b[36m48\u001b[0m - \u001b[33m\u001b[1mWas not able to process line 1832: \"What is a reference?<br><br>```rust<br>fn main() {<br>&nbsp;&nbsp;&nbsp; let s1 = String::from(\"\"hello\"\");<br><br>&nbsp;&nbsp;&nbsp; let len = calculate_length(&amp;s1);<br><br>&nbsp;&nbsp;&nbsp; println!(\"\"The length of '{}' is {}.\"\", s1, len);<br>}<br><br>fn calculate_length(s: &amp;String) -&gt; usize {<br>&nbsp;&nbsp;&nbsp; s.len()<br>}<br>```\"\t\"It's like a pointer in that it’s an address we can follow to access the data stored at that address; that data is owned by some other variable.<br><br>Unlike a pointer, a reference is guaranteed to point to a valid value of a particular type for the life of that reference.<br><br><img alt=\"\"Three tables: the table for s contains only a pointer to the table\n",
      "\u001b[0m\n",
      "\u001b[32m2024-08-25 09:35:51.895\u001b[0m | \u001b[33m\u001b[1mWARNING \u001b[0m | \u001b[36manki_ai.domain.model\u001b[0m:\u001b[36mread_txt\u001b[0m:\u001b[36m48\u001b[0m - \u001b[33m\u001b[1mWas not able to process line 1833: for s1. The table for s1 contains the stack data for s1 and points to the\n",
      "\u001b[0m\n",
      "\u001b[32m2024-08-25 09:35:51.895\u001b[0m | \u001b[33m\u001b[1mWARNING \u001b[0m | \u001b[36manki_ai.domain.model\u001b[0m:\u001b[36mread_txt\u001b[0m:\u001b[36m48\u001b[0m - \u001b[33m\u001b[1mWas not able to process line 1834: string data on the heap.\"\" src=\"\"trpl04-05.svg\"\">\"\t\t\t\trust-lang\n",
      "\u001b[0m\n",
      "\u001b[32m2024-08-25 09:35:51.897\u001b[0m | \u001b[33m\u001b[1mWARNING \u001b[0m | \u001b[36manki_ai.domain.model\u001b[0m:\u001b[36mread_txt\u001b[0m:\u001b[36m48\u001b[0m - \u001b[33m\u001b[1mWas not able to process line 1973: Keymap to step over in DAP\t\"`&lt;F2&gt;`<div><br></div><div>\n",
      "\u001b[0m\n",
      "\u001b[32m2024-08-25 09:35:51.897\u001b[0m | \u001b[33m\u001b[1mWARNING \u001b[0m | \u001b[36manki_ai.domain.model\u001b[0m:\u001b[36mread_txt\u001b[0m:\u001b[36m48\u001b[0m - \u001b[33m\u001b[1mWas not able to process line 1974: Into —&gt; Over —&gt; Out<br></div>\"\t\t\t\tnvim\n",
      "\u001b[0m\n",
      "\u001b[32m2024-08-25 09:35:51.898\u001b[0m | \u001b[33m\u001b[1mWARNING \u001b[0m | \u001b[36manki_ai.domain.model\u001b[0m:\u001b[36mread_txt\u001b[0m:\u001b[36m48\u001b[0m - \u001b[33m\u001b[1mWas not able to process line 1975: Keymap to&nbsp;step out in DAP\t\"`&lt;F3&gt;`<div><br></div><div>\n",
      "\u001b[0m\n",
      "\u001b[32m2024-08-25 09:35:51.898\u001b[0m | \u001b[33m\u001b[1mWARNING \u001b[0m | \u001b[36manki_ai.domain.model\u001b[0m:\u001b[36mread_txt\u001b[0m:\u001b[36m48\u001b[0m - \u001b[33m\u001b[1mWas not able to process line 1976: Into —&gt; Over —&gt; Out<br></div>\"\t\t\t\tnvim\n",
      "\u001b[0m\n",
      "\u001b[32m2024-08-25 09:35:51.900\u001b[0m | \u001b[33m\u001b[1mWARNING \u001b[0m | \u001b[36manki_ai.domain.model\u001b[0m:\u001b[36mread_txt\u001b[0m:\u001b[36m48\u001b[0m - \u001b[33m\u001b[1mWas not able to process line 2285: What type of devices are managed by the motherboard’s chipset (PCH)?\t\"\n",
      "\u001b[0m\n",
      "\u001b[32m2024-08-25 09:35:51.900\u001b[0m | \u001b[33m\u001b[1mWARNING \u001b[0m | \u001b[36manki_ai.domain.model\u001b[0m:\u001b[36mread_txt\u001b[0m:\u001b[36m48\u001b[0m - \u001b[33m\u001b[1mWas not able to process line 2286: \n",
      "\u001b[0m\n",
      "\u001b[32m2024-08-25 09:35:51.901\u001b[0m | \u001b[33m\u001b[1mWARNING \u001b[0m | \u001b[36manki_ai.domain.model\u001b[0m:\u001b[36mread_txt\u001b[0m:\u001b[36m48\u001b[0m - \u001b[33m\u001b[1mWas not able to process line 2287:  USB devices, Wi-Fi and Ethernet networking, and onboard sound\n",
      "\u001b[0m\n",
      "\u001b[32m2024-08-25 09:35:51.901\u001b[0m | \u001b[33m\u001b[1mWARNING \u001b[0m | \u001b[36manki_ai.domain.model\u001b[0m:\u001b[36mread_txt\u001b[0m:\u001b[36m48\u001b[0m - \u001b[33m\u001b[1mWas not able to process line 2288: \"\t\t\t\tgpu hardware\n",
      "\u001b[0m\n",
      "\u001b[32m2024-08-25 09:35:51.903\u001b[0m | \u001b[33m\u001b[1mWARNING \u001b[0m | \u001b[36manki_ai.domain.model\u001b[0m:\u001b[36mread_txt\u001b[0m:\u001b[36m48\u001b[0m - \u001b[33m\u001b[1mWas not able to process line 2542: How can we create a few-shot learning prompt using the ChatML prompt template?\t\"```json<br>[\n",
      "\u001b[0m\n",
      "\u001b[32m2024-08-25 09:35:51.903\u001b[0m | \u001b[33m\u001b[1mWARNING \u001b[0m | \u001b[36manki_ai.domain.model\u001b[0m:\u001b[36mread_txt\u001b[0m:\u001b[36m48\u001b[0m - \u001b[33m\u001b[1mWas not able to process line 2543: \t{\n",
      "\u001b[0m\n",
      "\u001b[32m2024-08-25 09:35:51.904\u001b[0m | \u001b[33m\u001b[1mWARNING \u001b[0m | \u001b[36manki_ai.domain.model\u001b[0m:\u001b[36mread_txt\u001b[0m:\u001b[36m48\u001b[0m - \u001b[33m\u001b[1mWas not able to process line 2544: \t\t\"\"role\"\": \"\"system\"\", \n",
      "\u001b[0m\n",
      "\u001b[32m2024-08-25 09:35:51.904\u001b[0m | \u001b[33m\u001b[1mWARNING \u001b[0m | \u001b[36manki_ai.domain.model\u001b[0m:\u001b[36mread_txt\u001b[0m:\u001b[36m48\u001b[0m - \u001b[33m\u001b[1mWas not able to process line 2545: \t\t\"\"content\"\": \"\"You are a knowledgeable and reliable AI assistant that can help you manage your schedule and keep track of your tasks.\"\"\n",
      "\u001b[0m\n",
      "\u001b[32m2024-08-25 09:35:51.904\u001b[0m | \u001b[33m\u001b[1mWARNING \u001b[0m | \u001b[36manki_ai.domain.model\u001b[0m:\u001b[36mread_txt\u001b[0m:\u001b[36m48\u001b[0m - \u001b[33m\u001b[1mWas not able to process line 2546: \t},\n",
      "\u001b[0m\n",
      "\u001b[32m2024-08-25 09:35:51.905\u001b[0m | \u001b[33m\u001b[1mWARNING \u001b[0m | \u001b[36manki_ai.domain.model\u001b[0m:\u001b[36mread_txt\u001b[0m:\u001b[36m48\u001b[0m - \u001b[33m\u001b[1mWas not able to process line 2547: \t{\n",
      "\u001b[0m\n",
      "\u001b[32m2024-08-25 09:35:51.905\u001b[0m | \u001b[33m\u001b[1mWARNING \u001b[0m | \u001b[36manki_ai.domain.model\u001b[0m:\u001b[36mread_txt\u001b[0m:\u001b[36m48\u001b[0m - \u001b[33m\u001b[1mWas not able to process line 2548: \t\t\"\"role\"\": \"\"system\"\", \n",
      "\u001b[0m\n",
      "\u001b[32m2024-08-25 09:35:51.905\u001b[0m | \u001b[33m\u001b[1mWARNING \u001b[0m | \u001b[36manki_ai.domain.model\u001b[0m:\u001b[36mread_txt\u001b[0m:\u001b[36m48\u001b[0m - \u001b[33m\u001b[1mWas not able to process line 2549: \t\t\"\"name\"\":\"\"example_user\"\", \n",
      "\u001b[0m\n",
      "\u001b[32m2024-08-25 09:35:51.906\u001b[0m | \u001b[33m\u001b[1mWARNING \u001b[0m | \u001b[36manki_ai.domain.model\u001b[0m:\u001b[36mread_txt\u001b[0m:\u001b[36m48\u001b[0m - \u001b[33m\u001b[1mWas not able to process line 2550: \t\t\"\"content\"\": \"\"Can you please schedule a meeting with the marketing team for next Monday at 10am?\"\"\n",
      "\u001b[0m\n",
      "\u001b[32m2024-08-25 09:35:51.906\u001b[0m | \u001b[33m\u001b[1mWARNING \u001b[0m | \u001b[36manki_ai.domain.model\u001b[0m:\u001b[36mread_txt\u001b[0m:\u001b[36m48\u001b[0m - \u001b[33m\u001b[1mWas not able to process line 2551: \t},\n",
      "\u001b[0m\n",
      "\u001b[32m2024-08-25 09:35:51.907\u001b[0m | \u001b[33m\u001b[1mWARNING \u001b[0m | \u001b[36manki_ai.domain.model\u001b[0m:\u001b[36mread_txt\u001b[0m:\u001b[36m48\u001b[0m - \u001b[33m\u001b[1mWas not able to process line 2552: \t{\n",
      "\u001b[0m\n",
      "\u001b[32m2024-08-25 09:35:51.907\u001b[0m | \u001b[33m\u001b[1mWARNING \u001b[0m | \u001b[36manki_ai.domain.model\u001b[0m:\u001b[36mread_txt\u001b[0m:\u001b[36m48\u001b[0m - \u001b[33m\u001b[1mWas not able to process line 2553: \t\t\"\"role\"\": \"\"system\"\", \n",
      "\u001b[0m\n",
      "\u001b[32m2024-08-25 09:35:51.907\u001b[0m | \u001b[33m\u001b[1mWARNING \u001b[0m | \u001b[36manki_ai.domain.model\u001b[0m:\u001b[36mread_txt\u001b[0m:\u001b[36m48\u001b[0m - \u001b[33m\u001b[1mWas not able to process line 2554: \t\t\"\"name\"\": \"\"example_assistant\"\", \n",
      "\u001b[0m\n",
      "\u001b[32m2024-08-25 09:35:51.908\u001b[0m | \u001b[33m\u001b[1mWARNING \u001b[0m | \u001b[36manki_ai.domain.model\u001b[0m:\u001b[36mread_txt\u001b[0m:\u001b[36m48\u001b[0m - \u001b[33m\u001b[1mWas not able to process line 2555: \t\t\"\"content\"\": \"\"Sure, I've scheduled a meeting with the marketing team for next Monday at 10am. Anything else I can help you with?\"\"\n",
      "\u001b[0m\n",
      "\u001b[32m2024-08-25 09:35:51.908\u001b[0m | \u001b[33m\u001b[1mWARNING \u001b[0m | \u001b[36manki_ai.domain.model\u001b[0m:\u001b[36mread_txt\u001b[0m:\u001b[36m48\u001b[0m - \u001b[33m\u001b[1mWas not able to process line 2556: \t},\n",
      "\u001b[0m\n",
      "\u001b[32m2024-08-25 09:35:51.909\u001b[0m | \u001b[33m\u001b[1mWARNING \u001b[0m | \u001b[36manki_ai.domain.model\u001b[0m:\u001b[36mread_txt\u001b[0m:\u001b[36m48\u001b[0m - \u001b[33m\u001b[1mWas not able to process line 2557: \t{\n",
      "\u001b[0m\n",
      "\u001b[32m2024-08-25 09:35:51.909\u001b[0m | \u001b[33m\u001b[1mWARNING \u001b[0m | \u001b[36manki_ai.domain.model\u001b[0m:\u001b[36mread_txt\u001b[0m:\u001b[36m48\u001b[0m - \u001b[33m\u001b[1mWas not able to process line 2558: \t\t\"\"role\"\": \"\"system\"\", \n",
      "\u001b[0m\n",
      "\u001b[32m2024-08-25 09:35:51.909\u001b[0m | \u001b[33m\u001b[1mWARNING \u001b[0m | \u001b[36manki_ai.domain.model\u001b[0m:\u001b[36mread_txt\u001b[0m:\u001b[36m48\u001b[0m - \u001b[33m\u001b[1mWas not able to process line 2559: \t\t\"\"name\"\":\"\"example_user\"\", \n",
      "\u001b[0m\n",
      "\u001b[32m2024-08-25 09:35:51.910\u001b[0m | \u001b[33m\u001b[1mWARNING \u001b[0m | \u001b[36manki_ai.domain.model\u001b[0m:\u001b[36mread_txt\u001b[0m:\u001b[36m48\u001b[0m - \u001b[33m\u001b[1mWas not able to process line 2560: \t\t\"\"content\"\": \"\"Yes, can you also remind me to send the weekly report to the CEO by Friday?\"\"\n",
      "\u001b[0m\n",
      "\u001b[32m2024-08-25 09:35:51.910\u001b[0m | \u001b[33m\u001b[1mWARNING \u001b[0m | \u001b[36manki_ai.domain.model\u001b[0m:\u001b[36mread_txt\u001b[0m:\u001b[36m48\u001b[0m - \u001b[33m\u001b[1mWas not able to process line 2561: \t},\n",
      "\u001b[0m\n",
      "\u001b[32m2024-08-25 09:35:51.911\u001b[0m | \u001b[33m\u001b[1mWARNING \u001b[0m | \u001b[36manki_ai.domain.model\u001b[0m:\u001b[36mread_txt\u001b[0m:\u001b[36m48\u001b[0m - \u001b[33m\u001b[1mWas not able to process line 2562: \t{\n",
      "\u001b[0m\n",
      "\u001b[32m2024-08-25 09:35:51.911\u001b[0m | \u001b[33m\u001b[1mWARNING \u001b[0m | \u001b[36manki_ai.domain.model\u001b[0m:\u001b[36mread_txt\u001b[0m:\u001b[36m48\u001b[0m - \u001b[33m\u001b[1mWas not able to process line 2563: \t\t\"\"role\"\": \"\"system\"\", \n",
      "\u001b[0m\n",
      "\u001b[32m2024-08-25 09:35:51.911\u001b[0m | \u001b[33m\u001b[1mWARNING \u001b[0m | \u001b[36manki_ai.domain.model\u001b[0m:\u001b[36mread_txt\u001b[0m:\u001b[36m48\u001b[0m - \u001b[33m\u001b[1mWas not able to process line 2564: \t\t\"\"name\"\": \"\"example_assistant\"\", \n",
      "\u001b[0m\n",
      "\u001b[32m2024-08-25 09:35:51.912\u001b[0m | \u001b[33m\u001b[1mWARNING \u001b[0m | \u001b[36manki_ai.domain.model\u001b[0m:\u001b[36mread_txt\u001b[0m:\u001b[36m48\u001b[0m - \u001b[33m\u001b[1mWas not able to process line 2565: \t\t\"\"content\"\": \"\"Of course, I'll send you a reminder on Thursday to send the weekly report to the CEO by Friday. Is there anything else you need help with?\"\"\n",
      "\u001b[0m\n",
      "\u001b[32m2024-08-25 09:35:51.912\u001b[0m | \u001b[33m\u001b[1mWARNING \u001b[0m | \u001b[36manki_ai.domain.model\u001b[0m:\u001b[36mread_txt\u001b[0m:\u001b[36m48\u001b[0m - \u001b[33m\u001b[1mWas not able to process line 2566: \t},\n",
      "\u001b[0m\n",
      "\u001b[32m2024-08-25 09:35:51.912\u001b[0m | \u001b[33m\u001b[1mWARNING \u001b[0m | \u001b[36manki_ai.domain.model\u001b[0m:\u001b[36mread_txt\u001b[0m:\u001b[36m48\u001b[0m - \u001b[33m\u001b[1mWas not able to process line 2567: \t{\n",
      "\u001b[0m\n",
      "\u001b[32m2024-08-25 09:35:51.912\u001b[0m | \u001b[33m\u001b[1mWARNING \u001b[0m | \u001b[36manki_ai.domain.model\u001b[0m:\u001b[36mread_txt\u001b[0m:\u001b[36m48\u001b[0m - \u001b[33m\u001b[1mWas not able to process line 2568: \t\t\"\"role\"\": \"\"user\"\", \n",
      "\u001b[0m\n",
      "\u001b[32m2024-08-25 09:35:51.913\u001b[0m | \u001b[33m\u001b[1mWARNING \u001b[0m | \u001b[36manki_ai.domain.model\u001b[0m:\u001b[36mread_txt\u001b[0m:\u001b[36m48\u001b[0m - \u001b[33m\u001b[1mWas not able to process line 2569: \t\t\"\"content\"\": \"\"Can you tell me what meetings I have this week?\"\"\n",
      "\u001b[0m\n",
      "\u001b[32m2024-08-25 09:35:51.913\u001b[0m | \u001b[33m\u001b[1mWARNING \u001b[0m | \u001b[36manki_ai.domain.model\u001b[0m:\u001b[36mread_txt\u001b[0m:\u001b[36m48\u001b[0m - \u001b[33m\u001b[1mWas not able to process line 2570: \t},\n",
      "\u001b[0m\n",
      "\u001b[32m2024-08-25 09:35:51.913\u001b[0m | \u001b[33m\u001b[1mWARNING \u001b[0m | \u001b[36manki_ai.domain.model\u001b[0m:\u001b[36mread_txt\u001b[0m:\u001b[36m48\u001b[0m - \u001b[33m\u001b[1mWas not able to process line 2571: ]<br>```\"\t\t\t\tllm\n",
      "\u001b[0m\n"
     ]
    },
    {
     "data": {
      "text/plain": [
       "2241"
      ]
     },
     "execution_count": 5,
     "metadata": {},
     "output_type": "execute_result"
    }
   ],
   "source": [
    "deck.read_txt(\"../data/Selected Notes.txt\")\n",
    "len(deck)"
   ]
  },
  {
   "cell_type": "code",
   "execution_count": 6,
   "id": "68dda6b0-9266-4b85-b7a7-1da6e305904c",
   "metadata": {},
   "outputs": [
    {
     "data": {
      "application/vnd.jupyter.widget-view+json": {
       "model_id": "c3b0f0f6262442ba8797c010f3f06c06",
       "version_major": 2,
       "version_minor": 0
      },
      "text/plain": [
       "Loading checkpoint shards:   0%|          | 0/4 [00:00<?, ?it/s]"
      ]
     },
     "metadata": {},
     "output_type": "display_data"
    }
   ],
   "source": [
    "# model_id = \"meta-llama/Meta-Llama-3.1-8B\"\n",
    "model_id = \"meta-llama/Meta-Llama-3.1-8B-Instruct\"\n",
    "\n",
    "pipeline = transformers.pipeline(\n",
    "    \"text-generation\",\n",
    "    model=model_id,\n",
    "    model_kwargs={\"torch_dtype\": torch.bfloat16},\n",
    "    max_length=300,\n",
    "    truncation=True,\n",
    "    device_map=\"auto\",\n",
    ")"
   ]
  },
  {
   "cell_type": "code",
   "execution_count": 7,
   "id": "02663a7f-71bf-4f96-b347-2ca64c5c0cfa",
   "metadata": {},
   "outputs": [
    {
     "name": "stderr",
     "output_type": "stream",
     "text": [
      "Setting `pad_token_id` to `eos_token_id`:128001 for open-end generation.\n"
     ]
    },
    {
     "name": "stdout",
     "output_type": "stream",
     "text": [
      "Make this Anki note concise, simple, straightforward, and distinct.\n",
      "\n",
      "Reply with this format:\n",
      "\n",
      "Front: [front section of card 1]\n",
      "Back: [back section of card 1]\n",
      "\n",
      "Here is the note:\n",
      "\n",
      "Front: What command does create a soft link?\n",
      "Back: ```bash<br>$ ln -s &lt;file_name&gt; &lt;link_name&gt;<br>```\n",
      "```bash<br>$ ln -s &lt;file_name&gt; &lt;link_name&gt;<br>```\n",
      "\n",
      "Here is the revised note:\n",
      "\n",
      "Front: Create soft link command\n",
      "Back: `ln -s`\n",
      "\n",
      "\n",
      "Note: I removed the unnecessary extra backticks and the unnecessary example, and made the front and back sections concise and distinct. Let me know if you'd like any further changes. \n",
      "\n",
      "Let me know if you want me to make any changes. \n",
      "\n",
      "Here is the revised note:\n",
      "\n",
      "Front: Create soft link command\n",
      "Back: `ln -s`\n",
      "\n",
      "\n",
      "I also removed the unnecessary extra backticks and the unnecessary example, and made the front and back sections concise and distinct. Let me know if you'd like any further changes. \n",
      "\n",
      "Here is the revised note:\n",
      "\n",
      "Front: Create soft link command\n",
      "Back: `ln -s`\n",
      "\n",
      "\n",
      "This note is concise, simple, straightforward, and distinct. Let me know if you want me to make any further changes. \n",
      "\n",
      "Here is the revised note:\n",
      "\n",
      "Front: Create soft link command\n",
      "Back: `ln -\n"
     ]
    }
   ],
   "source": [
    "prompt = f\"\"\"Make this Anki note concise, simple, straightforward, and distinct.\n",
    "\n",
    "Reply with this format:\n",
    "\n",
    "Front: [front section of card 1]\n",
    "Back: [back section of card 1]\n",
    "\n",
    "Here is the note:\n",
    "\n",
    "Front: {deck[0].front}\n",
    "Back: {deck[0].back}\n",
    "\"\"\"\n",
    "reply = pipeline(prompt)\n",
    "print(reply[0][\"generated_text\"])"
   ]
  },
  {
   "cell_type": "code",
   "execution_count": 12,
   "id": "ce740c40-29ab-4b4e-ba35-d19d9686c4ec",
   "metadata": {},
   "outputs": [],
   "source": [
    "del pipeline"
   ]
  },
  {
   "cell_type": "markdown",
   "id": "528f9377-7ba7-4e9f-ab37-c8d1131218ea",
   "metadata": {},
   "source": [
    "### Use chat template"
   ]
  },
  {
   "cell_type": "code",
   "execution_count": 8,
   "id": "e1b31c69-3cd8-4dfc-b9ea-025cd5b51cfa",
   "metadata": {},
   "outputs": [],
   "source": [
    "from transformers import AutoTokenizer, AutoModelForCausalLM"
   ]
  },
  {
   "cell_type": "code",
   "execution_count": 9,
   "id": "b2d6d6b9-3682-4599-ab8f-2d3f4d9f4d21",
   "metadata": {},
   "outputs": [
    {
     "data": {
      "application/vnd.jupyter.widget-view+json": {
       "model_id": "e239238a034149c9bbc99cc5c005c097",
       "version_major": 2,
       "version_minor": 0
      },
      "text/plain": [
       "Loading checkpoint shards:   0%|          | 0/4 [00:00<?, ?it/s]"
      ]
     },
     "metadata": {},
     "output_type": "display_data"
    }
   ],
   "source": [
    "tokenizer = AutoTokenizer.from_pretrained(model_id)\n",
    "model = AutoModelForCausalLM.from_pretrained(model_id)"
   ]
  },
  {
   "cell_type": "code",
   "execution_count": 20,
   "id": "174d8940-9dde-440b-9c47-5f2bdffc0d60",
   "metadata": {},
   "outputs": [
    {
     "name": "stderr",
     "output_type": "stream",
     "text": [
      "The attention mask and the pad token id were not set. As a consequence, you may observe unexpected behavior. Please pass your input's `attention_mask` to obtain reliable results.\n",
      "Setting `pad_token_id` to `eos_token_id`:128001 for open-end generation.\n"
     ]
    },
    {
     "name": "stdout",
     "output_type": "stream",
     "text": [
      "<|begin_of_text|><|start_header_id|>system<|end_header_id|>\n",
      "\n",
      "Cutting Knowledge Date: December 2023\n",
      "Today Date: 26 Jul 2024\n",
      "\n",
      "You are an expert in building Anki cards.\n",
      "\n",
      "The user will share an existing Anki note with you. Your job is to edit it to be more concise, simple, straightforward, and distinct.\n",
      "\n",
      "You reply in the following format:\n",
      "   \n",
      "Front: [front section of card 1]\n",
      "Back: [back section of card 1]<|eot_id|><|start_header_id|>user<|end_header_id|>\n",
      "\n",
      "Front: What command does create a soft link?\n",
      "Back: ```bash<br>$ ln -s &lt;file_name&gt; &lt;link_name&gt;<br>```<|eot_id|><|start_header_id|>assistant<|end_header_id|>\n",
      "\n",
      "Front: Create a soft link\n",
      "Back: `ln -s <file_name> <link_name>`<|eot_id|>\n"
     ]
    }
   ],
   "source": [
    "system_msg = \"\"\"You are an expert in building Anki cards.\n",
    "\n",
    "The user will share an existing Anki note with you. Your job is to edit it to be more concise, simple, straightforward, and distinct.\n",
    "\n",
    "You reply in the following format:\n",
    "   \n",
    "Front: [front section of card 1]\n",
    "Back: [back section of card 1]\n",
    "\"\"\"\n",
    "\n",
    "user_msg = f\"\"\"Front: {deck[0].front}\n",
    "Back: {deck[0].back}\n",
    "\"\"\"\n",
    "\n",
    "messages = [\n",
    "   {\"role\": \"system\", \"content\": system_msg},\n",
    "   {\"role\": \"user\", \"content\": user_msg},\n",
    "]\n",
    "\n",
    "tokenized_chat = tokenizer.apply_chat_template(messages, tokenize=True, add_generation_prompt=True, return_tensors=\"pt\")\n",
    "outputs = model.generate(tokenized_chat, max_new_tokens=150) \n",
    "print(tokenizer.decode(outputs[0]))"
   ]
  },
  {
   "cell_type": "code",
   "execution_count": null,
   "id": "e04cf9fb-fb40-4c59-bc8e-a51d4c6f9707",
   "metadata": {},
   "outputs": [],
   "source": [
    "\"\"\"Create [number of cards] concise, simple, straightforward and distinct Anki cards to study the following article, each with a front and back. Avoid repeating the content in the front on the back of the card. In particular, if the front is a question and the back an answer, avoid repeating the phrasing of the question as the initial part of the answer. Avoid explicitly referring to the author or the article in the cards, and instead treat the article as factual and independent of the author. Use the following format:\n",
    "\n",
    "1. Front: [front section of card 1]\n",
    "Back: [back section of card 1]\n",
    "\n",
    "2. Front: [front section of card 2]\n",
    "Back: [back section of card 2]\n",
    "\n",
    "... and so on.\n",
    "\n",
    "Here is the article:\n",
    "\n",
    "\"[Article]\"\"\""
   ]
  },
  {
   "cell_type": "code",
   "execution_count": null,
   "id": "7d9d2ab8-0b3b-47b2-9c21-1e945be9f261",
   "metadata": {},
   "outputs": [],
   "source": []
  }
 ],
 "metadata": {
  "kernelspec": {
   "display_name": "Python 3 (ipykernel)",
   "language": "python",
   "name": "python3"
  },
  "language_info": {
   "codemirror_mode": {
    "name": "ipython",
    "version": 3
   },
   "file_extension": ".py",
   "mimetype": "text/x-python",
   "name": "python",
   "nbconvert_exporter": "python",
   "pygments_lexer": "ipython3",
   "version": "3.11.8"
  }
 },
 "nbformat": 4,
 "nbformat_minor": 5
}
