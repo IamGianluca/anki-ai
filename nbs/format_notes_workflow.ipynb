{
 "cells": [
  {
   "cell_type": "markdown",
   "id": "7ca84f1e-768a-4192-9c0d-a18992b5d4d3",
   "metadata": {},
   "source": [
    "# Workflows\n",
    "\n",
    "As noted in the article [\"Building effective agents\" by Anthropic](https://www.anthropic.com/research/building-effective-agents), workflows can be an effective way to use LLMs to complete complex tasks. Our experience building the first iteration of the \"note formatting\" feature, small LLMs are not capable of completing such complicated task in one step yet. Our goal in this exploration is to see if breaking down the task in multiple steps of one workflow can significantly improve realability of the system and accuracy."
   ]
  },
  {
   "cell_type": "markdown",
   "id": "13a5f13e-431a-45b7-83a5-dbf35e32384d",
   "metadata": {},
   "source": [
    "### Design\n",
    "\n",
    "1. Original note\n",
    "2. (Assess note quality)\n",
    "3. Make concise (input: original note + edited note)\n",
    "4. Fix code blocks (input: original note + edited note) \n",
    "5. Fix math blocks (input: original note + edited note)\n",
    "6. Fix media (input: original note + edited note)\n",
    "7. Fix HTML formatting (input: original note + edited note)"
   ]
  },
  {
   "cell_type": "code",
   "execution_count": 1,
   "id": "60b424f7-ad67-4a03-864e-2cef165221d7",
   "metadata": {},
   "outputs": [],
   "source": [
    "%load_ext autoreload\n",
    "%autoreload 2"
   ]
  },
  {
   "cell_type": "code",
   "execution_count": 2,
   "id": "8b63761c-3e0b-4a48-8235-c3c2eb89f369",
   "metadata": {},
   "outputs": [],
   "source": [
    "from anki_ai.domain.model import Deck, Note\n",
    "from anki_ai.service_layer.services import get_chat_completion, ChatCompletionsService\n",
    "\n",
    "from html.parser import HTMLParser\n",
    "from io import StringIO"
   ]
  },
  {
   "cell_type": "code",
   "execution_count": 3,
   "id": "919653f6-e128-4f11-9cbc-b5f0cb8f6809",
   "metadata": {},
   "outputs": [
    {
     "name": "stdout",
     "output_type": "stream",
     "text": [
      "The deck contains 2854 notes.\n"
     ]
    }
   ],
   "source": [
    "deck = Deck(\"default\")\n",
    "deck.read_txt(\"../data/Selected Notes v8.txt\", exclude_tags=[\"personal\"])\n",
    "print(f\"The deck contains {len(deck)} notes.\")"
   ]
  },
  {
   "cell_type": "markdown",
   "id": "f29a5afd-99d3-46f2-9807-2e4142d7699a",
   "metadata": {},
   "source": [
    "Let's take a random sample of notes, to iterate more rapidly in our initial exploration. "
   ]
  },
  {
   "cell_type": "code",
   "execution_count": 4,
   "id": "6d456be0-3b1d-4f1d-871e-38cc78087ad4",
   "metadata": {},
   "outputs": [
    {
     "data": {
      "text/plain": [
       "[Note(guid='df7kE~(DT}', front='Motion to move the cursor [count] WORDS forward', back='\"`[count]W`<br><br><img src=\"\"HYaJn.gif\"\">\"', tags=['nvim'], notetype='KaTeX and Markdown Basic (Color)', deck_name='Default'),\n",
       " Note(guid='M%}h1HkX0Q', front='\"What type of tyres can a hooked rim fit?<br><br><img src=\"\"hooked-rim-fast-fwd-1.jpeg\"\">\"', back='Clincher and (if specified) tubeless-ready tyres', tags=['cycling'], notetype='KaTeX and Markdown Basic (Color)', deck_name='Default'),\n",
       " Note(guid='JBmq8%XiDj', front='What command line tool controls the Bluetooth  connections?', back='`bluetoothctl`', tags=['linux'], notetype='KaTeX and Markdown Basic (Color)', deck_name='Default'),\n",
       " Note(guid='sOuU_5Cjji', front='What key returns the `^` in the shifted state?', back='\"`6`<br><br><img src=\"\"paste-35252f02ada229d38491a63d20fa2ea9e8a5f0f8.jpg\"\">\"', tags=['keyboard'], notetype='KaTeX and Markdown Basic (Color)', deck_name='Default'),\n",
       " Note(guid='dbqggvnyg(', front='What does a high negative TSB number says?', back='\"The athlete is in \"\"the hole\"\"\"', tags=['triathlon'], notetype='KaTeX and Markdown Basic (Color)', deck_name='Default'),\n",
       " Note(guid='N(G^8)O=|C', front='Command to delete the character under the cursor and remain in Normal mode', back='`x` (lowercase x)', tags=['nvim'], notetype='KaTeX and Markdown Basic (Color)', deck_name='Default'),\n",
       " Note(guid='t&piMH>Cc$', front='When putting, why it is not so important to read every inch of a break?', back='In the first half of the putt, the ball will be traveling the fastest. When a ball is rolling fast, break has less of an impact on it. So we should focus on the final third of the putt and where the ball will be breaking', tags=['golf'], notetype='KaTeX and Markdown Basic (Color)', deck_name='Default'),\n",
       " Note(guid='kz4JN9}Ca2', front='When using `:grep`, how can we search for a pattern in all files recursively in the current directory and its subdirectories?', back='\"`:grep \"\"&lt;pattern&gt;\"\" **`\"', tags=['nvim'], notetype='KaTeX and Markdown Basic (Color)', deck_name='Default'),\n",
       " Note(guid='DsFO/Qb?nn', front='Why is the turnover important on a Mutual Fund?', back='Because a high-turnover produces higher hidden transaction costs (e.g., brokerage commissions, spreads, market impact costs, increased management costs, and often increased taxes)', tags=['finance'], notetype='KaTeX and Markdown Basic (Color)', deck_name='Default'),\n",
       " Note(guid='M3`k7qtrE', front='What is the disadvantage of Mocks and Spies?', back='\"They tend to \"\"lock in\"\" implementation, making refactoring difficult\"', tags=['software-engineering', 'software-testing'], notetype='KaTeX and Markdown Basic (Color)', deck_name='Default')]"
      ]
     },
     "execution_count": 4,
     "metadata": {},
     "output_type": "execute_result"
    }
   ],
   "source": [
    "deck.shuffle()\n",
    "sample = deck[:10] # NOTE: this returs a list, should it instead return a Deck?\n",
    "sample"
   ]
  },
  {
   "cell_type": "markdown",
   "id": "20099be6-58a0-4643-a082-80465156eca0",
   "metadata": {},
   "source": [
    "Now that we have a small dataset we can use, let's start working on creating those steps in the workflow. "
   ]
  },
  {
   "cell_type": "code",
   "execution_count": 5,
   "id": "9c76063f-d8ee-4f5a-88b7-69b5521c2e13",
   "metadata": {},
   "outputs": [],
   "source": [
    "chat = get_chat_completion()"
   ]
  },
  {
   "cell_type": "code",
   "execution_count": 6,
   "id": "f2480737-f440-4af7-8bd2-c213dc377f7b",
   "metadata": {},
   "outputs": [],
   "source": [
    "class MLStripper(HTMLParser):\n",
    "    def __init__(self):\n",
    "        super().__init__()\n",
    "        self.reset()\n",
    "        self.strict = False\n",
    "        self.convert_charrefs = True\n",
    "        self.text = StringIO()\n",
    "\n",
    "    def handle_data(self, d):\n",
    "        self.text.write(d)\n",
    "\n",
    "    def get_data(self):\n",
    "        return self.text.getvalue()\n",
    "\n",
    "\n",
    "def replace_br_with_newline(html_string):\n",
    "    import re\n",
    "\n",
    "    return re.sub(r\"<br\\s*/?>\", \"\\n\", html_string)\n",
    "\n",
    "\n",
    "def strip_tags(html):\n",
    "    s = MLStripper()\n",
    "    s.feed(replace_br_with_newline(html))\n",
    "    return s.get_data()"
   ]
  },
  {
   "cell_type": "code",
   "execution_count": 7,
   "id": "6f605ebc-5f1e-46da-bf4a-bc38dea834bd",
   "metadata": {},
   "outputs": [],
   "source": [
    "format_note_system_msg = \"\"\"\n",
    "You are an editor, specialized in creating professional Anki notes. Your goal is to create notes that can \n",
    "enhance learning for the user. \n",
    "\n",
    "Great notes are\n",
    "- Concise, simple, distinct\n",
    "- Follow simple formatting rules\n",
    "\n",
    "Formatting rule for terminal commands:\n",
    "```bash\n",
    "$ command <placeholder>\n",
    "```\n",
    "\n",
    "Formatting rule for code blocks:\n",
    "```language\n",
    "code here\n",
    "```\n",
    "\n",
    "When placeholders are needed, only use: <file>, <path>, <link>, or <command>.\n",
    "\n",
    "Do not provide explanations in your answers.\n",
    "\n",
    "Reply in this format:\n",
    "Front: [edited note front]\n",
    "Back: [edited note back]\n",
    "\n",
    "\n",
    "Example 1:\n",
    "Front: What command does extract files from a zip archive?\n",
    "Back: ```bash\n",
    "$ unzip <file>\n",
    "```\n",
    "Front: Extract zip files\n",
    "Back: ```bash\n",
    "$ unzip <file>\n",
    "```\n",
    "\n",
    "Example 2:\n",
    "Front: What is the command to print manual or get help for a command?\n",
    "Back: ```bash\n",
    "$ man ...\n",
    "```\n",
    "Front: Get command manual/help\n",
    "Back: ```bash\n",
    "$ man <command>\n",
    "```\n",
    "\n",
    "Example 3: \n",
    "Front: What command does create a soft link?\n",
    "Back: ```bash\n",
    "$ ln -s <file_name> <link_name>\n",
    "```\n",
    "Front: Create soft link\n",
    "Back: ```bash\n",
    "$ ln -s <file> <link>\n",
    "```\n",
    "\n",
    "Example 4:\n",
    "Front: In the `ln -s` command, what is the order of file name and link name?\n",
    "Back: ```bash\n",
    "$ ln -s <file_name> <link_name>\n",
    "```\n",
    "Front: `ln -s` argument order\n",
    "Back: <file> then <link>\n",
    "\"\"\""
   ]
  },
  {
   "cell_type": "code",
   "execution_count": 8,
   "id": "f37f8ba0-b650-4332-ba47-0fc9c203e8d3",
   "metadata": {},
   "outputs": [],
   "source": [
    "def apply_transform(\n",
    "    system_msg: str,\n",
    "    note: Note, \n",
    "    chat: ChatCompletionsService,\n",
    "    json_mode: bool = False,\n",
    "):\n",
    "    user_msg = f\"\"\"Front: {strip_tags(note.front)}\\nBack: {strip_tags(note.back)}\\nTags: {note.tags}\"\"\"\n",
    "    messages = [\n",
    "        {\"role\": \"system\", \"content\": system_msg},\n",
    "        {\"role\": \"user\"  , \"content\": user_msg},\n",
    "    ]\n",
    "\n",
    "    if json_mode:\n",
    "        extra_body = {\n",
    "            \"guided_json\": Note.model_json_schema(),\n",
    "            \"guided_whitespace_pattern\": r\"[\\n\\t ]*\",\n",
    "        }\n",
    "    else:\n",
    "        extra_body = {}\n",
    "\n",
    "    chat_response = chat.create(\n",
    "        model=\"meta-llama/Meta-Llama-3.1-8B-Instruct\",\n",
    "        messages=messages,\n",
    "        temperature=0,\n",
    "        extra_body=extra_body,\n",
    "    )\n",
    "\n",
    "    print(\"\\n#######################\\n\")\n",
    "    print(f\"Front: {strip_tags(note.front)}\\nBack: {strip_tags(note.back)}\\nTags: {note.tags}\\n\")\n",
    "    if json_mode:\n",
    "        json_data = chat_response.choices[0].message.content\n",
    "        new_note = Note.model_validate_json(json_data)\n",
    "        print(f\"Front: {strip_tags(new_note.front)}\\nBack: {strip_tags(new_note.back)}\\nTags: {new_note.tags}\")\n",
    "    else:\n",
    "        print(chat_response.choices[0].message.content)\n",
    "\n",
    "    return (note, new_note)"
   ]
  },
  {
   "cell_type": "code",
   "execution_count": 9,
   "id": "5cf61295-bedd-4f1e-9633-c9ccf5d848d0",
   "metadata": {},
   "outputs": [
    {
     "name": "stdout",
     "output_type": "stream",
     "text": [
      "\n",
      "#######################\n",
      "\n",
      "Front: Motion to move the cursor [count] WORDS forward\n",
      "Back: \"`[count]W`\n",
      "\n",
      "\"\n",
      "Tags: ['nvim']\n",
      "\n",
      "Front: Motion to move the cursor [count] WORDS forward\n",
      "Back: `[count]W`\n",
      "Tags: ['nvim']\n",
      "\n",
      "#######################\n",
      "\n",
      "Front: \"What type of tyres can a hooked rim fit?\n",
      "\n",
      "\"\n",
      "Back: Clincher and (if specified) tubeless-ready tyres\n",
      "Tags: ['cycling']\n",
      "\n",
      "Front: What type of tyres can a hooked rim fit?\n",
      "Back: Clincher and (if specified) tubeless-ready tyres\n",
      "Tags: ['cycling']\n",
      "\n",
      "#######################\n",
      "\n",
      "Front: What command line tool controls the Bluetooth  connections?\n",
      "Back: `bluetoothctl`\n",
      "Tags: ['linux']\n",
      "\n",
      "Front: What command line tool controls the Bluetooth connections?\n",
      "Back: bluetoothctl\n",
      "Tags: ['linux']\n",
      "\n",
      "#######################\n",
      "\n",
      "Front: What key returns the `^` in the shifted state?\n",
      "Back: \"`6`\n",
      "\n",
      "\"\n",
      "Tags: ['keyboard']\n",
      "\n",
      "Front: What key returns the `^` in the shifted state?\n",
      "Back: `6\n",
      "Tags: ['keyboard']\n",
      "\n",
      "#######################\n",
      "\n",
      "Front: What does a high negative TSB number says?\n",
      "Back: \"The athlete is in \"\"the hole\"\"\"\n",
      "Tags: ['triathlon']\n",
      "\n",
      "Front: High negative TSB number\n",
      "Back: The athlete is in \"the hole\"\n",
      "Tags: ['triathlon']\n",
      "\n",
      "#######################\n",
      "\n",
      "Front: Command to delete the character under the cursor and remain in Normal mode\n",
      "Back: `x` (lowercase x)\n",
      "Tags: ['nvim']\n",
      "\n",
      "Front: Delete char under cursor in Normal mode\n",
      "Back: x\n",
      "Tags: ['nvim']\n",
      "\n",
      "#######################\n",
      "\n",
      "Front: When putting, why it is not so important to read every inch of a break?\n",
      "Back: In the first half of the putt, the ball will be traveling the fastest. When a ball is rolling fast, break has less of an impact on it. So we should focus on the final third of the putt and where the ball will be breaking\n",
      "Tags: ['golf']\n",
      "\n",
      "Front: Focus on the final third of a putt\n",
      "Back: In the first half of the putt, the ball will be traveling the fastest. When a ball is rolling fast, break has less of an impact on it. So we should focus on the final third of the putt and where the ball will be breaking\n",
      "Tags: ['golf']\n",
      "\n",
      "#######################\n",
      "\n",
      "Front: When using `:grep`, how can we search for a pattern in all files recursively in the current directory and its subdirectories?\n",
      "Back: \"`:grep \"\"<pattern>\"\" **`\"\n",
      "Tags: ['nvim']\n",
      "\n",
      "Front: Search pattern in all files recursively in current directory and subdirectories using :grep\n",
      "Back: :grep  **\n",
      "Tags: ['nvim']\n",
      "\n",
      "#######################\n",
      "\n",
      "Front: Why is the turnover important on a Mutual Fund?\n",
      "Back: Because a high-turnover produces higher hidden transaction costs (e.g., brokerage commissions, spreads, market impact costs, increased management costs, and often increased taxes)\n",
      "Tags: ['finance']\n",
      "\n",
      "Front: High Turnover in Mutual Funds\n",
      "Back: Produces higher hidden transaction costs (e.g., brokerage commissions, spreads, market impact costs, increased management costs, and often increased taxes)\n",
      "Tags: ['finance']\n",
      "\n",
      "#######################\n",
      "\n",
      "Front: What is the disadvantage of Mocks and Spies?\n",
      "Back: \"They tend to \"\"lock in\"\" implementation, making refactoring difficult\"\n",
      "Tags: ['software-engineering', 'software-testing']\n",
      "\n",
      "Front: Disadvantage of Mocks and Spies\n",
      "Back: They tend to \"lock in\" implementation, making refactoring difficult\n",
      "Tags: ['software-engineering', 'software-testing']\n"
     ]
    }
   ],
   "source": [
    "def format_notes(notes, chat) -> (Note, Note):\n",
    "    return [apply_transform(format_note_system_msg, note, chat, json_mode=True) for note in notes]\n",
    "\n",
    "notes_bundle = format_notes(sample, chat)"
   ]
  },
  {
   "cell_type": "code",
   "execution_count": 10,
   "id": "b9fd3364-c728-4946-8619-cf10b3ef88b5",
   "metadata": {},
   "outputs": [],
   "source": [
    "def fix_code_blocks(original_note: Note, edited_note: Note) -> Note:\n",
    "    pass"
   ]
  },
  {
   "cell_type": "code",
   "execution_count": 11,
   "id": "1b30be0e-1546-448f-a09c-f1872806077a",
   "metadata": {},
   "outputs": [],
   "source": [
    "def fix_math_blocks(original_note: Note, edited_note: Note) -> Note:\n",
    "    pass"
   ]
  },
  {
   "cell_type": "code",
   "execution_count": 12,
   "id": "b11da0bc-4d9c-45b0-acb1-d46c3491f2ec",
   "metadata": {},
   "outputs": [],
   "source": [
    "def fix_media_content(original_note: Note, edited_note: Note) -> Note:\n",
    "    pass"
   ]
  },
  {
   "cell_type": "code",
   "execution_count": 13,
   "id": "2d927f25-476a-469b-b5ea-997bdf456f19",
   "metadata": {},
   "outputs": [],
   "source": [
    "def fix_html_tags(original_note: Note, edited_note: Note) -> Note:\n",
    "    pass"
   ]
  },
  {
   "cell_type": "code",
   "execution_count": null,
   "id": "0bf9fa92-3cf6-4a86-8910-0eef429894ce",
   "metadata": {},
   "outputs": [],
   "source": []
  },
  {
   "cell_type": "code",
   "execution_count": null,
   "id": "6a795d1a-1968-4ea1-a46c-27c7faa2b1d2",
   "metadata": {},
   "outputs": [],
   "source": []
  }
 ],
 "metadata": {
  "kernelspec": {
   "display_name": "Python 3 (ipykernel)",
   "language": "python",
   "name": "python3"
  },
  "language_info": {
   "codemirror_mode": {
    "name": "ipython",
    "version": 3
   },
   "file_extension": ".py",
   "mimetype": "text/x-python",
   "name": "python",
   "nbconvert_exporter": "python",
   "pygments_lexer": "ipython3",
   "version": "3.10.12"
  }
 },
 "nbformat": 4,
 "nbformat_minor": 5
}
