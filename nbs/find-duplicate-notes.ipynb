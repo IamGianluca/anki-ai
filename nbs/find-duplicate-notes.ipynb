{
 "cells": [
  {
   "cell_type": "markdown",
   "id": "8bc00c52-d125-488b-bab7-c8d8119441b5",
   "metadata": {},
   "source": [
    "Anki notes can be exported in a convinient `.txt` format. This file contains everything we need to mod"
   ]
  },
  {
   "cell_type": "code",
   "execution_count": 1,
   "id": "dee69b41-0a1f-4e85-92db-9d5a89ff8745",
   "metadata": {},
   "outputs": [
    {
     "name": "stdout",
     "output_type": "stream",
     "text": [
      "#separator:tab\n",
      "#html:true\n",
      "#tags column:6\n",
      "\"<img src=\"\"paste-d0ff77498ff8dde85ba00ae8b7c4bb6032d8483d.jpg\"\">\"\tHeadboard&nbsp;\t\t\t\tenglish\n",
      "\"<img src=\"\"paste-334a3566ffa4cab66033c10810e8d06af8fda194.jpg\"\">\"\tTowel\t\t\t\tenglish\n",
      "\"<img src=\"\"paste-d9689dc830d3f333e81b9b7058d5b25517064954.jpg\"\">\"\tJug\t\t\t\tenglish\n",
      "What command does create a soft link?\t```bash<br>$ ln -s &lt;file_name&gt; &lt;link_name&gt;<br>```\t\t\t\tlinux\n",
      "In the `ln -s` command, what is the order of file name and link name?\t```bash<br>$ ln -s &lt;file_name&gt; &lt;link_name&gt;<br>```\t\t\t\tlinux\n",
      "In the `zip` command, what is the option to specify the destination?\t\"```bash<br>$ unzip &lt;file&gt;<span style=\"\"color: rgb(0, 0, 0);\"\"> -d &lt;path&gt;<br>```<br><br></span><img src=\"\"paste-92e15adfe1d216e9ba6f170e4033b292b7b15756.jpg\"\">\"\t\t\t\tlinux\n",
      "What command does extract files from a zip archive?\t```bash<br>$ unzip &lt;file&gt;<br>```\t\t\t\tlinux\n",
      "What is the command to list the content of a directory?\t```bash<br>$ ls &lt;path&gt;<br>```\t\t\t\tlinux\n",
      "What is the command to print text to the terminal window?\t```bash<br>$ echo ...<br>```\t\t\t\tlinux\n",
      "What is the command to create a new file?\t```bash<br>$ touch ...<br>```\t\t\t\tlinux\n",
      "What is the command to create a new directory?\t```bash<br>mkdir ...<br>```\t\t\t\tlinux\n",
      "What is the command to search text for patterns?\t```bash<br>$ grep ...<br>```\t\t\t\tlinux\n",
      "What is the command to print manual or get help for a command?\t```bash<br>$ man ...<br>```\t\t\t\tlinux\n",
      "What is the command to print the current working directory?\t```bash<br>$ pwd&nbsp;<br>```\t\t\t\tlinux\n",
      "What is the command to change directory?\t```bash<br>$ cd ...<br>```\t\t\t\tlinux\n",
      "What is the command to move or rename directory or file?\t```bash<br>$ mv ...<br>```\t\t\t\tlinux\n",
      "What is the command to remove a non-empty directory?\t```bash<br>$ rm -rf &lt;path&gt;<br>```\t\t\t\tlinux\n",
      "What is the command to locate a specific file or directory?\t```bash<br>$ locate ...<br>```\t\t\t\tlinux\n",
      "Command to view (but not change) the contents of a text file\t```bash<br>$ less &lt;filename&gt;<br>```\t\t\t\tleech linux\n",
      "\"What is the command to pass output to either a&nbsp;<b><font color=\"\"#ff3b30\"\">file</font> </b>or a<b> <font color=\"\"#ff3b30\"\">stream</font></b>?\"\t\"`&gt;` (redirect)<br><br><img src=\"\"paste-976f5d4bd3f9e006c5e84f5f636a75b0e2bc4a7d.jpg\"\">\"\t\t\t\tlinux\n",
      "What is the command to read a file, create a file, and concatenate files?\t```bash<br>$ cat ...<br>```\t\t\t\tlinux\n",
      "What is the command that passes the output of a program to another<b> program or utility</b>?\t\"`|` (pipe)<br><br><img src=\"\"paste-5f950539387e962cc1c6684a0899f066b09c0ce5.jpg\"\">\"\t\t\t\tlinux\n"
     ]
    }
   ],
   "source": [
    "!head -n 25 ../data/Selected\\ Notes.txt"
   ]
  },
  {
   "cell_type": "markdown",
   "id": "033d4a30-9ccd-4739-b234-9ba24502d9d4",
   "metadata": {},
   "source": [
    "Let's write a small helper function to convert this data into a `dict`."
   ]
  },
  {
   "cell_type": "code",
   "execution_count": 2,
   "id": "21d998c5-a388-4c43-ae7a-1c6ac3d9dbc6",
   "metadata": {},
   "outputs": [],
   "source": [
    "from pathlib import Path\n",
    "from typing import Optional, List"
   ]
  },
  {
   "cell_type": "code",
   "execution_count": 3,
   "id": "888095a9-4b75-460e-8d2e-ece596b5ed67",
   "metadata": {},
   "outputs": [],
   "source": [
    "class AnkiNote:\n",
    "    def __init__(self, front: str, back: str, tags: Optional[List[str]]):\n",
    "        self.front = front\n",
    "        self.back = back\n",
    "        self.tags = tags\n",
    "\n",
    "    def __repr__(self) -> str:\n",
    "        return f\"AnkiNote(front={self.front}, back={self.back}, tags={self.tags}\""
   ]
  },
  {
   "cell_type": "code",
   "execution_count": 4,
   "id": "eb4e32a5-ebb6-493d-a1e9-eb8e1f21960e",
   "metadata": {},
   "outputs": [],
   "source": [
    "def txt2notes(fpath: Path, ignore_media: bool = True) -> dict:\n",
    "    with open(fpath) as f:\n",
    "        for i, line in enumerate(f):\n",
    "            if i > 25:\n",
    "                break\n",
    "            if i < 3: \n",
    "                print(f\"full line: {line}\")\n",
    "            else:\n",
    "                if ignore_media:\n",
    "                    if \"<img src=\" in line:\n",
    "                        continue\n",
    "                front, back, _, _, _, tags = line.split(\"\\t\")\n",
    "\n",
    "                # convert tags as a list of str\n",
    "                tags = tags.replace(\"\\n\", \"\")\n",
    "                tags = list(tags.split(\" \"))\n",
    "                \n",
    "                print(f\"FRONT #{i}: {tags} {front}\\nBACK  #{i}: {back}\\n\")\n",
    "                yield AnkiNote(front, back, tags=tags)"
   ]
  },
  {
   "cell_type": "code",
   "execution_count": 5,
   "id": "9d5cb06b-28bb-4737-a01b-8ad5966be1df",
   "metadata": {},
   "outputs": [
    {
     "name": "stdout",
     "output_type": "stream",
     "text": [
      "full line: #separator:tab\n",
      "\n",
      "full line: #html:true\n",
      "\n",
      "full line: #tags column:6\n",
      "\n",
      "FRONT #6: ['linux'] What command does create a soft link?\n",
      "BACK  #6: ```bash<br>$ ln -s &lt;file_name&gt; &lt;link_name&gt;<br>```\n",
      "\n",
      "FRONT #7: ['linux'] In the `ln -s` command, what is the order of file name and link name?\n",
      "BACK  #7: ```bash<br>$ ln -s &lt;file_name&gt; &lt;link_name&gt;<br>```\n",
      "\n",
      "FRONT #9: ['linux'] What command does extract files from a zip archive?\n",
      "BACK  #9: ```bash<br>$ unzip &lt;file&gt;<br>```\n",
      "\n",
      "FRONT #10: ['linux'] What is the command to list the content of a directory?\n",
      "BACK  #10: ```bash<br>$ ls &lt;path&gt;<br>```\n",
      "\n",
      "FRONT #11: ['linux'] What is the command to print text to the terminal window?\n",
      "BACK  #11: ```bash<br>$ echo ...<br>```\n",
      "\n",
      "FRONT #12: ['linux'] What is the command to create a new file?\n",
      "BACK  #12: ```bash<br>$ touch ...<br>```\n",
      "\n",
      "FRONT #13: ['linux'] What is the command to create a new directory?\n",
      "BACK  #13: ```bash<br>mkdir ...<br>```\n",
      "\n",
      "FRONT #14: ['linux'] What is the command to search text for patterns?\n",
      "BACK  #14: ```bash<br>$ grep ...<br>```\n",
      "\n",
      "FRONT #15: ['linux'] What is the command to print manual or get help for a command?\n",
      "BACK  #15: ```bash<br>$ man ...<br>```\n",
      "\n",
      "FRONT #16: ['linux'] What is the command to print the current working directory?\n",
      "BACK  #16: ```bash<br>$ pwd&nbsp;<br>```\n",
      "\n",
      "FRONT #17: ['linux'] What is the command to change directory?\n",
      "BACK  #17: ```bash<br>$ cd ...<br>```\n",
      "\n",
      "FRONT #18: ['linux'] What is the command to move or rename directory or file?\n",
      "BACK  #18: ```bash<br>$ mv ...<br>```\n",
      "\n",
      "FRONT #19: ['linux'] What is the command to remove a non-empty directory?\n",
      "BACK  #19: ```bash<br>$ rm -rf &lt;path&gt;<br>```\n",
      "\n",
      "FRONT #20: ['linux'] What is the command to locate a specific file or directory?\n",
      "BACK  #20: ```bash<br>$ locate ...<br>```\n",
      "\n",
      "FRONT #21: ['leech', 'linux'] Command to view (but not change) the contents of a text file\n",
      "BACK  #21: ```bash<br>$ less &lt;filename&gt;<br>```\n",
      "\n",
      "FRONT #23: ['linux'] What is the command to read a file, create a file, and concatenate files?\n",
      "BACK  #23: ```bash<br>$ cat ...<br>```\n",
      "\n",
      "FRONT #25: ['linux'] What is the command to read the start of a file?\n",
      "BACK  #25: ```bash<br>$ head &lt;filename&gt;<br>```\n",
      "\n"
     ]
    }
   ],
   "source": [
    "notes = list(txt2notes(\"../data/Selected Notes.txt\"))"
   ]
  },
  {
   "cell_type": "code",
   "execution_count": 6,
   "id": "00163a9d-ebab-48f0-875a-793cc52df053",
   "metadata": {},
   "outputs": [
    {
     "data": {
      "text/plain": [
       "[AnkiNote(front=What command does create a soft link?, back=```bash<br>$ ln -s &lt;file_name&gt; &lt;link_name&gt;<br>```, tags=['linux'],\n",
       " AnkiNote(front=In the `ln -s` command, what is the order of file name and link name?, back=```bash<br>$ ln -s &lt;file_name&gt; &lt;link_name&gt;<br>```, tags=['linux'],\n",
       " AnkiNote(front=What command does extract files from a zip archive?, back=```bash<br>$ unzip &lt;file&gt;<br>```, tags=['linux'],\n",
       " AnkiNote(front=What is the command to list the content of a directory?, back=```bash<br>$ ls &lt;path&gt;<br>```, tags=['linux'],\n",
       " AnkiNote(front=What is the command to print text to the terminal window?, back=```bash<br>$ echo ...<br>```, tags=['linux'],\n",
       " AnkiNote(front=What is the command to create a new file?, back=```bash<br>$ touch ...<br>```, tags=['linux'],\n",
       " AnkiNote(front=What is the command to create a new directory?, back=```bash<br>mkdir ...<br>```, tags=['linux'],\n",
       " AnkiNote(front=What is the command to search text for patterns?, back=```bash<br>$ grep ...<br>```, tags=['linux'],\n",
       " AnkiNote(front=What is the command to print manual or get help for a command?, back=```bash<br>$ man ...<br>```, tags=['linux'],\n",
       " AnkiNote(front=What is the command to print the current working directory?, back=```bash<br>$ pwd&nbsp;<br>```, tags=['linux'],\n",
       " AnkiNote(front=What is the command to change directory?, back=```bash<br>$ cd ...<br>```, tags=['linux'],\n",
       " AnkiNote(front=What is the command to move or rename directory or file?, back=```bash<br>$ mv ...<br>```, tags=['linux'],\n",
       " AnkiNote(front=What is the command to remove a non-empty directory?, back=```bash<br>$ rm -rf &lt;path&gt;<br>```, tags=['linux'],\n",
       " AnkiNote(front=What is the command to locate a specific file or directory?, back=```bash<br>$ locate ...<br>```, tags=['linux'],\n",
       " AnkiNote(front=Command to view (but not change) the contents of a text file, back=```bash<br>$ less &lt;filename&gt;<br>```, tags=['leech', 'linux'],\n",
       " AnkiNote(front=What is the command to read a file, create a file, and concatenate files?, back=```bash<br>$ cat ...<br>```, tags=['linux'],\n",
       " AnkiNote(front=What is the command to read the start of a file?, back=```bash<br>$ head &lt;filename&gt;<br>```, tags=['linux']]"
      ]
     },
     "execution_count": 6,
     "metadata": {},
     "output_type": "execute_result"
    }
   ],
   "source": [
    "notes"
   ]
  }
 ],
 "metadata": {
  "kernelspec": {
   "display_name": "Python 3 (ipykernel)",
   "language": "python",
   "name": "python3"
  },
  "language_info": {
   "codemirror_mode": {
    "name": "ipython",
    "version": 3
   },
   "file_extension": ".py",
   "mimetype": "text/x-python",
   "name": "python",
   "nbconvert_exporter": "python",
   "pygments_lexer": "ipython3",
   "version": "3.11.8"
  }
 },
 "nbformat": 4,
 "nbformat_minor": 5
}
