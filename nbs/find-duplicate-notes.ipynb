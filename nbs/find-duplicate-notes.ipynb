{
 "cells": [
  {
   "cell_type": "markdown",
   "id": "8bc00c52-d125-488b-bab7-c8d8119441b5",
   "metadata": {},
   "source": [
    "Anki notes can be exported in a convinient `.txt` format. This file contains everything we need to modify Anki notes, and later update the database.\n",
    "\n",
    "Let's start by checking the content of this file."
   ]
  },
  {
   "cell_type": "code",
   "execution_count": 1,
   "id": "dee69b41-0a1f-4e85-92db-9d5a89ff8745",
   "metadata": {
    "scrolled": true
   },
   "outputs": [
    {
     "name": "stdout",
     "output_type": "stream",
     "text": [
      "#separator:tab\n",
      "#html:true\n",
      "#tags column:6\n",
      "\"<img src=\"\"paste-d0ff77498ff8dde85ba00ae8b7c4bb6032d8483d.jpg\"\">\"\tHeadboard&nbsp;\t\t\t\tenglish\n",
      "\"<img src=\"\"paste-334a3566ffa4cab66033c10810e8d06af8fda194.jpg\"\">\"\tTowel\t\t\t\tenglish\n",
      "\"<img src=\"\"paste-d9689dc830d3f333e81b9b7058d5b25517064954.jpg\"\">\"\tJug\t\t\t\tenglish\n",
      "What command does create a soft link?\t```bash<br>$ ln -s &lt;file_name&gt; &lt;link_name&gt;<br>```\t\t\t\tlinux\n",
      "In the `ln -s` command, what is the order of file name and link name?\t```bash<br>$ ln -s &lt;file_name&gt; &lt;link_name&gt;<br>```\t\t\t\tlinux\n",
      "In the `zip` command, what is the option to specify the destination?\t\"```bash<br>$ unzip &lt;file&gt;<span style=\"\"color: rgb(0, 0, 0);\"\"> -d &lt;path&gt;<br>```<br><br></span><img src=\"\"paste-92e15adfe1d216e9ba6f170e4033b292b7b15756.jpg\"\">\"\t\t\t\tlinux\n",
      "What command does extract files from a zip archive?\t```bash<br>$ unzip &lt;file&gt;<br>```\t\t\t\tlinux\n",
      "What is the command to list the content of a directory?\t```bash<br>$ ls &lt;path&gt;<br>```\t\t\t\tlinux\n",
      "What is the command to print text to the terminal window?\t```bash<br>$ echo ...<br>```\t\t\t\tlinux\n",
      "What is the command to create a new file?\t```bash<br>$ touch ...<br>```\t\t\t\tlinux\n",
      "What is the command to create a new directory?\t```bash<br>mkdir ...<br>```\t\t\t\tlinux\n",
      "What is the command to search text for patterns?\t```bash<br>$ grep ...<br>```\t\t\t\tlinux\n",
      "What is the command to print manual or get help for a command?\t```bash<br>$ man ...<br>```\t\t\t\tlinux\n",
      "What is the command to print the current working directory?\t```bash<br>$ pwd&nbsp;<br>```\t\t\t\tlinux\n",
      "What is the command to change directory?\t```bash<br>$ cd ...<br>```\t\t\t\tlinux\n",
      "What is the command to move or rename directory or file?\t```bash<br>$ mv ...<br>```\t\t\t\tlinux\n",
      "What is the command to remove a non-empty directory?\t```bash<br>$ rm -rf &lt;path&gt;<br>```\t\t\t\tlinux\n",
      "What is the command to locate a specific file or directory?\t```bash<br>$ locate ...<br>```\t\t\t\tlinux\n",
      "Command to view (but not change) the contents of a text file\t```bash<br>$ less &lt;filename&gt;<br>```\t\t\t\tleech linux\n",
      "\"What is the command to pass output to either a&nbsp;<b><font color=\"\"#ff3b30\"\">file</font> </b>or a<b> <font color=\"\"#ff3b30\"\">stream</font></b>?\"\t\"`&gt;` (redirect)<br><br><img src=\"\"paste-976f5d4bd3f9e006c5e84f5f636a75b0e2bc4a7d.jpg\"\">\"\t\t\t\tlinux\n",
      "What is the command to read a file, create a file, and concatenate files?\t```bash<br>$ cat ...<br>```\t\t\t\tlinux\n",
      "What is the command that passes the output of a program to another<b> program or utility</b>?\t\"`|` (pipe)<br><br><img src=\"\"paste-5f950539387e962cc1c6684a0899f066b09c0ce5.jpg\"\">\"\t\t\t\tlinux\n"
     ]
    }
   ],
   "source": [
    "!head -n 25 ../data/Selected\\ Notes.txt"
   ]
  },
  {
   "cell_type": "markdown",
   "id": "625d4c1b-ffe3-46d3-8ba1-d7256338fda8",
   "metadata": {},
   "source": [
    "### Load data"
   ]
  },
  {
   "cell_type": "markdown",
   "id": "033d4a30-9ccd-4739-b234-9ba24502d9d4",
   "metadata": {},
   "source": [
    "We can use the `anki_ai` library to load the notes from the file, and start exploring the content."
   ]
  },
  {
   "cell_type": "code",
   "execution_count": 2,
   "id": "21d998c5-a388-4c43-ae7a-1c6ac3d9dbc6",
   "metadata": {},
   "outputs": [],
   "source": [
    "from anki_ai.domain.model import Note, Deck"
   ]
  },
  {
   "cell_type": "code",
   "execution_count": 3,
   "id": "9d5cb06b-28bb-4737-a01b-8ad5966be1df",
   "metadata": {},
   "outputs": [
    {
     "name": "stdout",
     "output_type": "stream",
     "text": [
      "Was not able to process line 0: #separator:tab\n",
      "\n",
      "Was not able to process line 1: #html:true\n",
      "\n",
      "Was not able to process line 2: #tags column:6\n",
      "\n",
      "Was not able to process line 366: \"<div>What pandas DataFrame method and arguments can be used to create a histogram with 50 bins for the 'age' column of a DataFrame called 'users'?</div>\n",
      "\n",
      "Was not able to process line 378: \"What is the command to return <b><font color=\"\"#ef2929\"\">all unique values</font></b> for a variable?\"\t\"<center><table class=\"\"highlighttable\"\"><tbody><tr><td><div class=\"\"linenodiv\"\" style=\"\"background-color: #f0f0f0; padding-right: 10px\"\"><pre style=\"\"line-height: 125%\"\">1</pre></div></td><td class=\"\"code\"\"><div class=\"\"highlight\"\" style=\"\"background: #f8f8f8\"\"><pre style=\"\"line-height: 125%\"\">transactions<span style=\"\"color: #666666\"\">.</span>t_dat<span style=\"\"color: #666666\"\">.</span>unique()\n",
      "\n",
      "Was not able to process line 379: </pre></div>\n",
      "\n",
      "Was not able to process line 380: </td></tr></tbody></table></center><br>\"\t\t\t\tpandas\n",
      "\n",
      "Was not able to process line 381: How can you access the year component of a datetime variable?\t\"<center><table class=\"\"highlighttable\"\"><tbody><tr><td><div class=\"\"linenodiv\"\" style=\"\"background-color: #f0f0f0; padding-right: 10px\"\"><pre style=\"\"line-height: 125%\"\">1</pre></div></td><td class=\"\"code\"\"><div class=\"\"highlight\"\" style=\"\"background: #f8f8f8\"\"><pre style=\"\"line-height: 125%\"\">transactions<span style=\"\"color: #666666\"\">.</span>date<font color=\"\"#ef2929\"\"><b>.dt.year</b></font><span style=\"\"color: #666666\"\">.</span>unique()\n",
      "\n",
      "Was not able to process line 382: </pre></div>\n",
      "\n",
      "Was not able to process line 383: </td></tr></tbody></table></center><br>\"\t\t\t\tpandas\n",
      "\n",
      "Was not able to process line 396: What command casts a pandas object to a specified dtype?\t\"<center><table class=\"\"highlighttable\"\"><tbody><tr><td><div class=\"\"linenodiv\"\" style=\"\"background-color: #f0f0f0; padding-right: 10px\"\"><pre style=\"\"line-height: 125%\"\">1</pre></div></td><td class=\"\"code\"\"><div class=\"\"highlight\"\" style=\"\"background: #f8f8f8\"\"><pre style=\"\"line-height: 125%\"\">DataFrame<span style=\"\"color: #666666\"\">.</span>astype(dtype)\n",
      "\n",
      "Was not able to process line 397: </pre></div>\n",
      "\n",
      "Was not able to process line 398: </td></tr></tbody></table></center><br>\"\t\t\t\tpandas\n",
      "\n",
      "Was not able to process line 400: What is the command to run the garbage collector?\t\"<center><table class=\"\"highlighttable\"\"><tbody><tr><td><div class=\"\"linenodiv\"\" style=\"\"background-color: #f0f0f0; padding-right: 10px\"\"><pre style=\"\"line-height: 125%\"\">1\n",
      "\n",
      "Was not able to process line 401: 2\n",
      "\n",
      "Was not able to process line 402: 3\n",
      "\n",
      "Was not able to process line 403: 4</pre></div></td><td class=\"\"code\"\"><div class=\"\"highlight\"\" style=\"\"background: #f8f8f8\"\"><pre style=\"\"line-height: 125%\"\"><span style=\"\"color: #008000; font-weight: bold\"\">import</span> <span style=\"\"color: #0000FF; font-weight: bold\"\">gc</span>\n",
      "\n",
      "Was not able to process line 404: \n",
      "\n",
      "Was not able to process line 405: <span style=\"\"color: #008000; font-weight: bold\"\">del</span> session_past_ids, items_first_ts_df\n",
      "\n",
      "Was not able to process line 406: gc<span style=\"\"color: #666666\"\">.</span>collect()\n",
      "\n",
      "Was not able to process line 407: </pre></div>\n",
      "\n",
      "Was not able to process line 408: </td></tr></tbody></table></center><br>\"\t\t\t\tpython\n",
      "\n",
      "Was not able to process line 536: How can we access the gradients of a tensor?\t\"<center><table class=\"\"highlighttable\"\"><tbody><tr><td><div class=\"\"linenodiv\"\" style=\"\"background-color: #f0f0f0; padding-right: 10px\"\"><pre style=\"\"line-height: 125%\"\">1</pre></div></td><td class=\"\"code\"\"><div class=\"\"highlight\"\" style=\"\"background: #f8f8f8\"\"><pre style=\"\"line-height: 125%\"\">x<span style=\"\"color: #666666\"\">.</span>grad\n",
      "\n",
      "Was not able to process line 537: </pre></div>\n",
      "\n",
      "Was not able to process line 538: </td></tr></tbody></table></center><br>\"\t\t\t\tpytorch\n",
      "\n",
      "Was not able to process line 699: What method should we use to train our model after increasing the image size (Progressive Resizing)?\t\"<center><table class=\"\"highlighttable\"\"><tbody><tr><td><div class=\"\"linenodiv\"\" style=\"\"background-color: #f0f0f0; padding-right: 10px\"\"><pre style=\"\"line-height: 125%\"\">1</pre></div></td><td class=\"\"code\"\"><div class=\"\"highlight\"\" style=\"\"background: #f8f8f8\"\"><pre style=\"\"line-height: 125%\"\">learner<span style=\"\"color: #666666\"\">.</span>fine_tune()\n",
      "\n",
      "Was not able to process line 700: </pre></div>\n",
      "\n",
      "Was not able to process line 701: </td></tr></tbody></table></center><br>\"\t\t\t\tfastai\n",
      "\n",
      "Was not able to process line 745: \"What does **kwargs means in a argument list?<br><br><center><table class=\"\"highlighttable\"\"><tbody><tr><td><div class=\"\"linenodiv\"\" style=\"\"background-color: #f0f0f0; padding-right: 10px\"\"><pre style=\"\"line-height: 125%\"\">1</pre></div></td><td class=\"\"code\"\"><div class=\"\"highlight\"\" style=\"\"background: #f8f8f8\"\"><pre style=\"\"line-height: 125%\"\">lastfm_similar_tracks(<span style=\"\"color: #666666\"\">**</span>kwargs)\n",
      "\n",
      "Was not able to process line 746: </pre></div>\n",
      "\n",
      "Was not able to process line 1138: \"What does the \"\"cmp\"\" method do?<br><br><center><table class=\"\"highlighttable\"\"><tbody><tr><td><div class=\"\"linenodiv\"\" style=\"\"background-color: #f0f0f0; padding-right: 10px\"\"><pre style=\"\"line-height: 125%\"\">1\n",
      "\n",
      "Was not able to process line 1139: 2\n",
      "\n",
      "Was not able to process line 1140: 3\n",
      "\n",
      "Was not able to process line 1141: 4\n",
      "\n",
      "Was not able to process line 1142: 5</pre></div></td><td class=\"\"code\"\"><div class=\"\"highlight\"\" style=\"\"background: #f8f8f8\"\"><pre style=\"\"line-height: 125%\"\"><span style=\"\"color: #008000; font-weight: bold\"\">match</span><span style=\"\"color: #bbbbbb\"\"> </span>guess.cmp(<span style=\"\"color: #666666\"\">&amp;</span>secret_number)<span style=\"\"color: #bbbbbb\"\"> </span>{<span style=\"\"color: #bbbbbb\"\"></span>\n",
      "\n",
      "Was not able to process line 1143: <span style=\"\"color: #bbbbbb\"\">    </span>Ordering::Less<span style=\"\"color: #bbbbbb\"\"> </span><span style=\"\"color: #666666\"\">=&gt;</span><span style=\"\"color: #bbbbbb\"\"> </span>println<span style=\"\"color: #666666\"\">!</span>(<span style=\"\"color: #BA2121\"\">\"\"Too small\"\"</span>),<span style=\"\"color: #bbbbbb\"\"></span>\n",
      "\n",
      "Was not able to process line 1144: <span style=\"\"color: #bbbbbb\"\">    </span>Ordering::Greater<span style=\"\"color: #bbbbbb\"\"> </span><span style=\"\"color: #666666\"\">=&gt;</span><span style=\"\"color: #bbbbbb\"\"> </span>println<span style=\"\"color: #666666\"\">!</span>(<span style=\"\"color: #BA2121\"\">\"\"Too big\"\"</span>),<span style=\"\"color: #bbbbbb\"\"></span>\n",
      "\n",
      "Was not able to process line 1145: <span style=\"\"color: #bbbbbb\"\">    </span>Ordering::Equal<span style=\"\"color: #bbbbbb\"\"> </span><span style=\"\"color: #666666\"\">=&gt;</span><span style=\"\"color: #bbbbbb\"\"> </span>println<span style=\"\"color: #666666\"\">!</span>(<span style=\"\"color: #BA2121\"\">\"\"You win!\"\"</span>),<span style=\"\"color: #bbbbbb\"\"></span>\n",
      "\n",
      "Was not able to process line 1146: }<span style=\"\"color: #bbbbbb\"\"></span>\n",
      "\n",
      "Was not able to process line 1147: </pre></div>\n",
      "\n",
      "Was not able to process line 1276: \"What does this code snippet do?<br><br><center><table class=\"\"highlighttable\"\"><tbody><tr><td><div class=\"\"linenodiv\"\" style=\"\"background-color: #f0f0f0; padding-right: 10px\"\"><pre style=\"\"line-height: 125%\"\">1</pre></div></td><td class=\"\"code\"\"><div class=\"\"highlight\"\" style=\"\"background: #f8f8f8\"\"><pre style=\"\"line-height: 125%\"\">tokenizer(batch_sentences, padding<span style=\"\"color: #666666\"\">=</span><span style=\"\"color: #BA2121\"\">'max_length'</span>, truncation<span style=\"\"color: #666666\"\">=</span><span style=\"\"color: #008000; font-weight: bold\"\">True</span>, max_length<span style=\"\"color: #666666\"\">=128</span>)\n",
      "\n",
      "Was not able to process line 1277: </pre></div>\n",
      "\n",
      "Was not able to process line 1360: What are asynchronous routines?\t\"<div style=\"\"text-align: justify;\"\">\n",
      "\n",
      "Was not able to process line 1361: <div>Functions that are able to “pause” while waiting on their ultimate result and let other routines run in the meantime<br></div></div>\"\t\t\t\tsoftware-engineering\n",
      "\n",
      "Was not able to process line 1811: \"How is the variable `s1` represented in memory?<br><br>```rust<br>let s1 = String::from(\"\"hello\"\");<br>```\"\t\"The pointer to the memory that holds the contents of the `String`, a length, and a capacity are stored on the stack. The memory on the heap holds the contents.<br><br><img alt=\"\"Two tables: the first table contains the representation of s1 on the\n",
      "\n",
      "Was not able to process line 1812: stack, consisting of its length (5), capacity (5), and a pointer to the first\n",
      "\n",
      "Was not able to process line 1813: value in the second table. The second table contains the representation of the\n",
      "\n",
      "Was not able to process line 1814: string data on the heap, byte by byte.\"\" src=\"\"trpl04-01.svg\"\">\"\t\t\t\trust-lang\n",
      "\n",
      "Was not able to process line 1815: \"Under the hood, what happens when we assign `s1` to `s2`?<br><br>```rust<br>let s1 = String::from(\"\"hello\"\");<br>let s2 = s1;<br>```\"\t\"The pointer, length, and the capacity that are on the stack are copied. The data on the heap is not copied.&nbsp;<br><br><img alt=\"\"Three tables: tables s1 and s2 representing those strings on the\n",
      "\n",
      "Was not able to process line 1816: stack, respectively, and both pointing to the same string data on the heap.\n",
      "\n",
      "Was not able to process line 1817: Table s1 is grayed out be-cause s1 is no longer valid; only s2 can be used to\n",
      "\n",
      "Was not able to process line 1818: access the heap data.\"\" src=\"\"trpl04-04.svg\"\">\"\t\t\t\trust-lang\n",
      "\n",
      "Was not able to process line 1820: \"How does the assignment of `s1` to `s2` differ from a _shallow copy_?<br><br>```rust<br>let s1 = String::from(\"\"hello\"\");<br>let s2 = s1;<br>```\"\t\"Rust also invalidates the reference to `s1`&nbsp;<br><br><img alt=\"\"Three tables: tables s1 and s2 representing those strings on the\n",
      "\n",
      "Was not able to process line 1821: stack, respectively, and both pointing to the same string data on the heap.\n",
      "\n",
      "Was not able to process line 1822: Table s1 is grayed out be-cause s1 is no longer valid; only s2 can be used to\n",
      "\n",
      "Was not able to process line 1823: access the heap data.\"\" src=\"\"trpl04-04.svg\"\">\"\t\t\t\trust-lang\n",
      "\n",
      "Was not able to process line 1824: \"How is the operation on the second line a.k.a.?<br><br>```rust<br>let s1 = String::from(\"\"hello\"\");<br>let s2 = s1;<br>```\"\t\"`s1` was _moved_ into `s2`<br><br><img alt=\"\"Three tables: tables s1 and s2 representing those strings on the\n",
      "\n",
      "Was not able to process line 1825: stack, respectively, and both pointing to the same string data on the heap.\n",
      "\n",
      "Was not able to process line 1826: Table s1 is grayed out be-cause s1 is no longer valid; only s2 can be used to\n",
      "\n",
      "Was not able to process line 1827: access the heap data.\"\" src=\"\"trpl04-04.svg\"\">\"\t\t\t\trust-lang\n",
      "\n",
      "Was not able to process line 1832: \"What is a reference?<br><br>```rust<br>fn main() {<br>&nbsp;&nbsp;&nbsp; let s1 = String::from(\"\"hello\"\");<br><br>&nbsp;&nbsp;&nbsp; let len = calculate_length(&amp;s1);<br><br>&nbsp;&nbsp;&nbsp; println!(\"\"The length of '{}' is {}.\"\", s1, len);<br>}<br><br>fn calculate_length(s: &amp;String) -&gt; usize {<br>&nbsp;&nbsp;&nbsp; s.len()<br>}<br>```\"\t\"It's like a pointer in that it’s an address we can follow to access the data stored at that address; that data is owned by some other variable.<br><br>Unlike a pointer, a reference is guaranteed to point to a valid value of a particular type for the life of that reference.<br><br><img alt=\"\"Three tables: the table for s contains only a pointer to the table\n",
      "\n",
      "Was not able to process line 1833: for s1. The table for s1 contains the stack data for s1 and points to the\n",
      "\n",
      "Was not able to process line 1834: string data on the heap.\"\" src=\"\"trpl04-05.svg\"\">\"\t\t\t\trust-lang\n",
      "\n",
      "Was not able to process line 1973: Keymap to step over in DAP\t\"`&lt;F2&gt;`<div><br></div><div>\n",
      "\n",
      "Was not able to process line 1974: Into —&gt; Over —&gt; Out<br></div>\"\t\t\t\tnvim\n",
      "\n",
      "Was not able to process line 1975: Keymap to&nbsp;step out in DAP\t\"`&lt;F3&gt;`<div><br></div><div>\n",
      "\n",
      "Was not able to process line 1976: Into —&gt; Over —&gt; Out<br></div>\"\t\t\t\tnvim\n",
      "\n",
      "Was not able to process line 2285: What type of devices are managed by the motherboard’s chipset (PCH)?\t\"\n",
      "\n",
      "Was not able to process line 2286: \n",
      "\n",
      "Was not able to process line 2287:  USB devices, Wi-Fi and Ethernet networking, and onboard sound\n",
      "\n",
      "Was not able to process line 2288: \"\t\t\t\tgpu hardware\n",
      "\n",
      "Was not able to process line 2542: How can we create a few-shot learning prompt using the ChatML prompt template?\t\"```json<br>[\n",
      "\n",
      "Was not able to process line 2543: \t{\n",
      "\n",
      "Was not able to process line 2544: \t\t\"\"role\"\": \"\"system\"\", \n",
      "\n",
      "Was not able to process line 2545: \t\t\"\"content\"\": \"\"You are a knowledgeable and reliable AI assistant that can help you manage your schedule and keep track of your tasks.\"\"\n",
      "\n",
      "Was not able to process line 2546: \t},\n",
      "\n",
      "Was not able to process line 2547: \t{\n",
      "\n",
      "Was not able to process line 2548: \t\t\"\"role\"\": \"\"system\"\", \n",
      "\n",
      "Was not able to process line 2549: \t\t\"\"name\"\":\"\"example_user\"\", \n",
      "\n",
      "Was not able to process line 2550: \t\t\"\"content\"\": \"\"Can you please schedule a meeting with the marketing team for next Monday at 10am?\"\"\n",
      "\n",
      "Was not able to process line 2551: \t},\n",
      "\n",
      "Was not able to process line 2552: \t{\n",
      "\n",
      "Was not able to process line 2553: \t\t\"\"role\"\": \"\"system\"\", \n",
      "\n",
      "Was not able to process line 2554: \t\t\"\"name\"\": \"\"example_assistant\"\", \n",
      "\n",
      "Was not able to process line 2555: \t\t\"\"content\"\": \"\"Sure, I've scheduled a meeting with the marketing team for next Monday at 10am. Anything else I can help you with?\"\"\n",
      "\n",
      "Was not able to process line 2556: \t},\n",
      "\n",
      "Was not able to process line 2557: \t{\n",
      "\n",
      "Was not able to process line 2558: \t\t\"\"role\"\": \"\"system\"\", \n",
      "\n",
      "Was not able to process line 2559: \t\t\"\"name\"\":\"\"example_user\"\", \n",
      "\n",
      "Was not able to process line 2560: \t\t\"\"content\"\": \"\"Yes, can you also remind me to send the weekly report to the CEO by Friday?\"\"\n",
      "\n",
      "Was not able to process line 2561: \t},\n",
      "\n",
      "Was not able to process line 2562: \t{\n",
      "\n",
      "Was not able to process line 2563: \t\t\"\"role\"\": \"\"system\"\", \n",
      "\n",
      "Was not able to process line 2564: \t\t\"\"name\"\": \"\"example_assistant\"\", \n",
      "\n",
      "Was not able to process line 2565: \t\t\"\"content\"\": \"\"Of course, I'll send you a reminder on Thursday to send the weekly report to the CEO by Friday. Is there anything else you need help with?\"\"\n",
      "\n",
      "Was not able to process line 2566: \t},\n",
      "\n",
      "Was not able to process line 2567: \t{\n",
      "\n",
      "Was not able to process line 2568: \t\t\"\"role\"\": \"\"user\"\", \n",
      "\n",
      "Was not able to process line 2569: \t\t\"\"content\"\": \"\"Can you tell me what meetings I have this week?\"\"\n",
      "\n",
      "Was not able to process line 2570: \t},\n",
      "\n",
      "Was not able to process line 2571: ]<br>```\"\t\t\t\tllm\n",
      "\n"
     ]
    },
    {
     "data": {
      "text/plain": [
       "[Note(front=What command does create a soft link?, back=```bash<br>$ ln -s &lt;file_name&gt; &lt;link_name&gt;<br>```, tags=['linux'],\n",
       " Note(front=In the `ln -s` command, what is the order of file name and link name?, back=```bash<br>$ ln -s &lt;file_name&gt; &lt;link_name&gt;<br>```, tags=['linux'],\n",
       " Note(front=What command does extract files from a zip archive?, back=```bash<br>$ unzip &lt;file&gt;<br>```, tags=['linux'],\n",
       " Note(front=What is the command to list the content of a directory?, back=```bash<br>$ ls &lt;path&gt;<br>```, tags=['linux'],\n",
       " Note(front=What is the command to print text to the terminal window?, back=```bash<br>$ echo ...<br>```, tags=['linux'],\n",
       " Note(front=What is the command to create a new file?, back=```bash<br>$ touch ...<br>```, tags=['linux'],\n",
       " Note(front=What is the command to create a new directory?, back=```bash<br>mkdir ...<br>```, tags=['linux'],\n",
       " Note(front=What is the command to search text for patterns?, back=```bash<br>$ grep ...<br>```, tags=['linux'],\n",
       " Note(front=What is the command to print manual or get help for a command?, back=```bash<br>$ man ...<br>```, tags=['linux'],\n",
       " Note(front=What is the command to print the current working directory?, back=```bash<br>$ pwd&nbsp;<br>```, tags=['linux'],\n",
       " Note(front=What is the command to change directory?, back=```bash<br>$ cd ...<br>```, tags=['linux'],\n",
       " Note(front=What is the command to move or rename directory or file?, back=```bash<br>$ mv ...<br>```, tags=['linux'],\n",
       " Note(front=What is the command to remove a non-empty directory?, back=```bash<br>$ rm -rf &lt;path&gt;<br>```, tags=['linux'],\n",
       " Note(front=What is the command to locate a specific file or directory?, back=```bash<br>$ locate ...<br>```, tags=['linux'],\n",
       " Note(front=Command to view (but not change) the contents of a text file, back=```bash<br>$ less &lt;filename&gt;<br>```, tags=['leech', 'linux'],\n",
       " Note(front=What is the command to read a file, create a file, and concatenate files?, back=```bash<br>$ cat ...<br>```, tags=['linux'],\n",
       " Note(front=What is the command to read the start of a file?, back=```bash<br>$ head &lt;filename&gt;<br>```, tags=['linux'],\n",
       " Note(front=What is the command to read the end of a file?, back=```bash<br>$ tail &lt;filename&gt;<br>```, tags=['linux'],\n",
       " Note(front=What command sets the file permissions flag on a file or folder?, back=```bash<br>$ chmod &lt;mode&gt; &lt;filename&gt;<br>```, tags=['linux'],\n",
       " Note(front=What is the command to copy files and directories?, back=```bash<br>$ cp ...<br>```, tags=['linux']]"
      ]
     },
     "execution_count": 3,
     "metadata": {},
     "output_type": "execute_result"
    }
   ],
   "source": [
    "deck = Deck(\"default\")\n",
    "deck.from_txt(fpath=\"../data/Selected Notes.txt\")\n",
    "deck._collection[:20]"
   ]
  },
  {
   "cell_type": "markdown",
   "id": "1f85bf12-6a0e-44de-a06c-2571af594697",
   "metadata": {},
   "source": [
    "### Find duplicate notes (using semantic search)"
   ]
  },
  {
   "cell_type": "markdown",
   "id": "05fe63ad-6a2c-4c90-b034-9d0819ccc332",
   "metadata": {},
   "source": [
    "The Anki client offers some basic functionality to identify repeated notes. It is based on an exact string comparison for the front and back fields of a note. This is a good starting point, but it misses scenarios where a card is semantically similar, or even the same, but not literally perfectly matching. This scenario happens very frequently as we add more notes over a long period of time.\n",
    "\n",
    "We can use an embedding model to create sentence embeddings for front and back fields, to identify notes that are semantically very similar, although not always lexically equal. To do that, let's use one of the embedding models in `sentence-transformers` to generate embeddings for the front of our notes, and add them in `qdrant`."
   ]
  },
  {
   "cell_type": "code",
   "execution_count": 4,
   "id": "201079d6-2a12-4b2e-aecd-de0957e4710b",
   "metadata": {},
   "outputs": [
    {
     "name": "stderr",
     "output_type": "stream",
     "text": [
      "/home/gianluca/git/anki-ai/.venv/lib/python3.11/site-packages/sentence_transformers/cross_encoder/CrossEncoder.py:11: TqdmWarning: IProgress not found. Please update jupyter and ipywidgets. See https://ipywidgets.readthedocs.io/en/stable/user_install.html\n",
      "  from tqdm.autonotebook import tqdm, trange\n",
      "/home/gianluca/git/anki-ai/.venv/lib/python3.11/site-packages/transformers/tokenization_utils_base.py:1601: FutureWarning: `clean_up_tokenization_spaces` was not set. It will be set to `True` by default. This behavior will be depracted in transformers v4.45, and will be then set to `False` by default. For more details check this issue: https://github.com/huggingface/transformers/issues/31884\n",
      "  warnings.warn(\n"
     ]
    }
   ],
   "source": [
    "from sentence_transformers import SentenceTransformer\n",
    "\n",
    "encoder = SentenceTransformer(\"all-MiniLM-L6-v2\")"
   ]
  },
  {
   "cell_type": "code",
   "execution_count": 5,
   "id": "b83606cf-d0a7-4a0d-8a07-eb7eb2b8e862",
   "metadata": {},
   "outputs": [],
   "source": [
    "from qdrant_client import QdrantClient, models\n",
    "from qdrant_client.models import Distance, VectorParams\n",
    "\n",
    "qdrant = QdrantClient(\":memory:\")  # create in-memory Qdrant instance for testing"
   ]
  },
  {
   "cell_type": "code",
   "execution_count": 6,
   "id": "8528df18-7a3d-4dee-aa61-2637c6b20833",
   "metadata": {},
   "outputs": [
    {
     "data": {
      "text/plain": [
       "True"
      ]
     },
     "execution_count": 6,
     "metadata": {},
     "output_type": "execute_result"
    }
   ],
   "source": [
    "qdrant.create_collection(\n",
    "    collection_name=\"anki_deck\",\n",
    "    vectors_config=models.VectorParams(\n",
    "        size=encoder.get_sentence_embedding_dimension(),  # vector size is defined by used model\n",
    "        distance=models.Distance.COSINE,\n",
    "    ),\n",
    ")"
   ]
  },
  {
   "cell_type": "code",
   "execution_count": 7,
   "id": "13737e73-dc3a-47f6-9219-304c9e34ed69",
   "metadata": {},
   "outputs": [
    {
     "data": {
      "text/plain": [
       "[{'front': 'What command does create a soft link?',\n",
       "  'back': '```bash<br>$ ln -s &lt;file_name&gt; &lt;link_name&gt;<br>```',\n",
       "  'tags': ['linux']},\n",
       " {'front': 'In the `ln -s` command, what is the order of file name and link name?',\n",
       "  'back': '```bash<br>$ ln -s &lt;file_name&gt; &lt;link_name&gt;<br>```',\n",
       "  'tags': ['linux']},\n",
       " {'front': 'What command does extract files from a zip archive?',\n",
       "  'back': '```bash<br>$ unzip &lt;file&gt;<br>```',\n",
       "  'tags': ['linux']},\n",
       " {'front': 'What is the command to list the content of a directory?',\n",
       "  'back': '```bash<br>$ ls &lt;path&gt;<br>```',\n",
       "  'tags': ['linux']},\n",
       " {'front': 'What is the command to print text to the terminal window?',\n",
       "  'back': '```bash<br>$ echo ...<br>```',\n",
       "  'tags': ['linux']},\n",
       " {'front': 'What is the command to create a new file?',\n",
       "  'back': '```bash<br>$ touch ...<br>```',\n",
       "  'tags': ['linux']},\n",
       " {'front': 'What is the command to create a new directory?',\n",
       "  'back': '```bash<br>mkdir ...<br>```',\n",
       "  'tags': ['linux']},\n",
       " {'front': 'What is the command to search text for patterns?',\n",
       "  'back': '```bash<br>$ grep ...<br>```',\n",
       "  'tags': ['linux']},\n",
       " {'front': 'What is the command to print manual or get help for a command?',\n",
       "  'back': '```bash<br>$ man ...<br>```',\n",
       "  'tags': ['linux']},\n",
       " {'front': 'What is the command to print the current working directory?',\n",
       "  'back': '```bash<br>$ pwd&nbsp;<br>```',\n",
       "  'tags': ['linux']}]"
      ]
     },
     "execution_count": 7,
     "metadata": {},
     "output_type": "execute_result"
    }
   ],
   "source": [
    "notes = [{\"front\": n.front, \"back\": n.back, \"tags\": n.tags} for n in deck._collection]\n",
    "notes[:10]"
   ]
  },
  {
   "cell_type": "code",
   "execution_count": 8,
   "id": "2c88932f-de58-4611-8045-54a9941b10eb",
   "metadata": {},
   "outputs": [],
   "source": [
    "qdrant.upload_points(\n",
    "    collection_name=\"anki_deck\",\n",
    "    points=[\n",
    "        models.PointStruct(\n",
    "            id=idx, vector=encoder.encode(note[\"front\"]).tolist(), payload=note\n",
    "        )\n",
    "        for idx, note in enumerate(notes)\n",
    "    ],\n",
    ")"
   ]
  },
  {
   "cell_type": "code",
   "execution_count": 9,
   "id": "171e74d9-a24e-47b8-bcf8-b01e2c46836d",
   "metadata": {},
   "outputs": [
    {
     "name": "stdout",
     "output_type": "stream",
     "text": [
      "{'front': 'What are the three main types of attention mechanisms?', 'back': '* Bidirectional (unmasked) self-attention<br>* Unidirectional (masked) self-attention<br>* Cross-attention', 'tags': ['llm']} score: 0.5707765739729703\n",
      "{'front': 'What is the purpose of the query, key, and value vectors in attention mechanisms?', 'back': 'To compute the relevance of context tokens and combine their information', 'tags': ['llm']} score: 0.533562386527354\n",
      "{'front': '\"What did the \"\"Attention is all you need\"\" paper showed?\"', 'back': 'That the Transformer architecture outperformed recurrent neural networks (RNNs) on machine translation tasks, both in terms of translation quality and training cost', 'tags': ['nlp']} score: 0.5147807080540934\n"
     ]
    }
   ],
   "source": [
    "hits = qdrant.search(\n",
    "    collection_name=\"anki_deck\",\n",
    "    query_vector=encoder.encode(\"attention\").tolist(),\n",
    "    limit=3,\n",
    ")\n",
    "for hit in hits:\n",
    "    print(hit.payload, \"score:\", hit.score)"
   ]
  },
  {
   "cell_type": "code",
   "execution_count": null,
   "id": "d79ee9ca-d39f-498e-90a8-88fff22e6014",
   "metadata": {},
   "outputs": [],
   "source": []
  }
 ],
 "metadata": {
  "kernelspec": {
   "display_name": "Python 3 (ipykernel)",
   "language": "python",
   "name": "python3"
  },
  "language_info": {
   "codemirror_mode": {
    "name": "ipython",
    "version": 3
   },
   "file_extension": ".py",
   "mimetype": "text/x-python",
   "name": "python",
   "nbconvert_exporter": "python",
   "pygments_lexer": "ipython3",
   "version": "3.11.8"
  }
 },
 "nbformat": 4,
 "nbformat_minor": 5
}
