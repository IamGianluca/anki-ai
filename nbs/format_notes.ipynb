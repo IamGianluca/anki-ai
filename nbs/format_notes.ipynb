{
 "cells": [
  {
   "cell_type": "code",
   "execution_count": 1,
   "id": "de3eefeb-4844-42a6-b03e-c4af38dafb18",
   "metadata": {},
   "outputs": [],
   "source": [
    "import sys\n",
    "\n",
    "from loguru import logger\n",
    "\n",
    "from anki_ai.domain.model import Deck"
   ]
  },
  {
   "cell_type": "code",
   "execution_count": 2,
   "id": "336ace9c-f427-416c-b9ae-00460321e63b",
   "metadata": {},
   "outputs": [
    {
     "data": {
      "text/plain": [
       "1"
      ]
     },
     "execution_count": 2,
     "metadata": {},
     "output_type": "execute_result"
    }
   ],
   "source": [
    "logger.remove()\n",
    "logger.add(sys.stderr, level=\"ERROR\")"
   ]
  },
  {
   "cell_type": "markdown",
   "id": "e47a1d40-c98c-4d90-8456-3679f2890018",
   "metadata": {},
   "source": [
    "When exporting notes from Anki, select the following options:\n",
    "- Notes in plain text (.txt)\n",
    "- Include HTML and media references\n",
    "- Include tags\n",
    "- Include deck name\n",
    "- Include notetype name\n",
    "- Include unique identifier\n",
    "\n",
    "This is important to later be able to overwrite the notes in our deck, with the changes we made, without losing all of the statistics. "
   ]
  },
  {
   "cell_type": "code",
   "execution_count": 3,
   "id": "d988d3d1-84bc-4029-baf2-2d6280abdc40",
   "metadata": {},
   "outputs": [
    {
     "name": "stdout",
     "output_type": "stream",
     "text": [
      "The deck contains 2241 notes\n"
     ]
    }
   ],
   "source": [
    "deck = Deck()\n",
    "deck.read_txt(\"../data/Selected Notes.txt\")\n",
    "print(f\"The deck contains {len(deck)} notes\")"
   ]
  },
  {
   "cell_type": "markdown",
   "id": "4ee7d8c3-fe58-4324-bdb7-963b98e26246",
   "metadata": {},
   "source": [
    "One issue we need to handle is that our notes might contain HTML and media references, which can confuse the LLM when editing the notes. In our deck, these are quite frequent, because we are using the [Markdown and KaTeX Support (Rework) - Code Highlighting, Math, ... add-on](https://ankiweb.net/shared/info/1786114227). Here is an example:"
   ]
  },
  {
   "cell_type": "code",
   "execution_count": 4,
   "id": "8487d266-27c3-440e-82a7-3b2aa2379f8a",
   "metadata": {},
   "outputs": [
    {
     "data": {
      "text/plain": [
       "'```bash<br>$ ln -s &lt;file_name&gt; &lt;link_name&gt;<br>```'"
      ]
     },
     "execution_count": 4,
     "metadata": {},
     "output_type": "execute_result"
    }
   ],
   "source": [
    "deck[0].back"
   ]
  },
  {
   "cell_type": "code",
   "execution_count": 5,
   "id": "8eb6607d-8493-4955-993e-0b4c7d7bbcbe",
   "metadata": {},
   "outputs": [],
   "source": [
    "from io import StringIO\n",
    "from html.parser import HTMLParser\n",
    "\n",
    "class MLStripper(HTMLParser):\n",
    "    def __init__(self):\n",
    "        super().__init__()\n",
    "        self.reset()\n",
    "        self.strict = False\n",
    "        self.convert_charrefs= True\n",
    "        self.text = StringIO()\n",
    "    def handle_data(self, d):\n",
    "        self.text.write(d)\n",
    "    def get_data(self):\n",
    "        return self.text.getvalue()\n",
    "\n",
    "def replace_br_with_newline(html_string):\n",
    "    import re\n",
    "    return re.sub(r'<br\\s*/?>', '\\n', html_string)\n",
    "\n",
    "def strip_tags(html):\n",
    "    s = MLStripper()\n",
    "    s.feed(replace_br_with_newline(html))\n",
    "    return s.get_data()"
   ]
  },
  {
   "cell_type": "code",
   "execution_count": 6,
   "id": "86233369-9aff-4a29-8ced-a440c0ea5728",
   "metadata": {
    "scrolled": true
   },
   "outputs": [
    {
     "name": "stdout",
     "output_type": "stream",
     "text": [
      "Original note:\n",
      "```bash<br>$ ln -s &lt;file_name&gt; &lt;link_name&gt;<br>```\n",
      "\n",
      "Fixed:\n",
      "```bash\n",
      "$ ln -s <file_name> <link_name>\n",
      "```\n"
     ]
    }
   ],
   "source": [
    "back_card = deck[0].back\n",
    "print(f\"Original note:\\n{back_card}\\n\")\n",
    "print(f\"Fixed:\\n{strip_tags(back_card)}\")"
   ]
  },
  {
   "cell_type": "markdown",
   "id": "ed96d20e-da3e-4ad0-b91f-5e1a6eabf002",
   "metadata": {},
   "source": [
    "### vLLM\n",
    "\n",
    "Please run the following command on the terminal to spin up a vLLM server, which we will query in the rest of the notebook.\n",
    "\n",
    "\n",
    "```bash\n",
    "vllm serve meta-llama/Meta-Llama-3.1-8B-Instruct --max_model_len 4096 --chat-template ./template_llama31.jinja\n",
    "```\n",
    "\n",
    "We might have to wait about 1 minute before the server is up and reachable."
   ]
  },
  {
   "cell_type": "code",
   "execution_count": 7,
   "id": "a71d77e0-afae-42fe-a6f9-0307e6d8add7",
   "metadata": {},
   "outputs": [],
   "source": [
    "from vllm import LLM, SamplingParams\n",
    "from openai import OpenAI"
   ]
  },
  {
   "cell_type": "code",
   "execution_count": 8,
   "id": "4e0e2b0c-fc8c-4a8e-9c55-e5927911ddc9",
   "metadata": {},
   "outputs": [],
   "source": [
    "# Modify OpenAI's API key and API base to use vLLM's API server.\n",
    "openai_api_key = \"EMPTY\"\n",
    "openai_api_base = \"http://localhost:8000/v1\""
   ]
  },
  {
   "cell_type": "code",
   "execution_count": 9,
   "id": "a3a75322-26ad-45ca-b359-c351a6bbde0d",
   "metadata": {},
   "outputs": [],
   "source": [
    "client = OpenAI(\n",
    "    api_key=openai_api_key,\n",
    "    base_url=openai_api_base,\n",
    ")"
   ]
  },
  {
   "cell_type": "code",
   "execution_count": 10,
   "id": "565ba923-681b-4de0-a4d2-9f1c6fd5fd1a",
   "metadata": {},
   "outputs": [],
   "source": [
    "def vllm_generate(prompt: str, n_notes: int=10):\n",
    "    for i in range(n_notes):\n",
    "        user_msg = f\"\"\"Front: {deck[i].front}\n",
    "        Back: {deck[i].back}\n",
    "        \"\"\"\n",
    "    \n",
    "        messages = [\n",
    "            {\"role\": \"system\", \"content\": system_msg},\n",
    "            {\"role\": \"user\", \"content\": user_msg},\n",
    "        ]\n",
    "\n",
    "        chat_response = client.chat.completions.create(\n",
    "            model=\"meta-llama/Meta-Llama-3.1-8B-Instruct\",\n",
    "            messages=messages,\n",
    "            temperature=0,\n",
    "        )\n",
    "    \n",
    "        print(\"#######################\")\n",
    "        print(f\"Front: {deck[i].front}\\nBack: {deck[i].back}\")\n",
    "        print(chat_response.choices[0].message.content)"
   ]
  },
  {
   "cell_type": "code",
   "execution_count": 11,
   "id": "03bb2dc8-cd3f-43d8-b501-2e5a8343efb0",
   "metadata": {},
   "outputs": [
    {
     "name": "stdout",
     "output_type": "stream",
     "text": [
      "#######################\n",
      "Front: What command does create a soft link?\n",
      "Back: ```bash<br>$ ln -s &lt;file_name&gt; &lt;link_name&gt;<br>```\n",
      "Front: Create soft link\n",
      "Back: ```bash\n",
      "$ ln -s <file> <link>\n",
      "```\n",
      "#######################\n",
      "Front: In the `ln -s` command, what is the order of file name and link name?\n",
      "Back: ```bash<br>$ ln -s &lt;file_name&gt; &lt;link_name&gt;<br>```\n",
      "Front: `ln -s` argument order\n",
      "Back: <file> then <link>\n",
      "#######################\n",
      "Front: What command does extract files from a zip archive?\n",
      "Back: ```bash<br>$ unzip &lt;file&gt;<br>```\n",
      "Front: Extract zip files\n",
      "Back: ```bash\n",
      "$ unzip <file>\n",
      "```\n",
      "#######################\n",
      "Front: What is the command to list the content of a directory?\n",
      "Back: ```bash<br>$ ls &lt;path&gt;<br>```\n",
      "Front: List directory content\n",
      "Back: ```bash\n",
      "$ ls <path>\n",
      "```\n",
      "#######################\n",
      "Front: What is the command to print text to the terminal window?\n",
      "Back: ```bash<br>$ echo ...<br>```\n",
      "Front: Print text to terminal\n",
      "Back: ```bash\n",
      "$ echo ...\n",
      "```\n",
      "#######################\n",
      "Front: What is the command to create a new file?\n",
      "Back: ```bash<br>$ touch ...<br>```\n",
      "Front: Create a new file\n",
      "Back: ```bash\n",
      "$ touch <file>\n",
      "```\n",
      "#######################\n",
      "Front: What is the command to create a new directory?\n",
      "Back: ```bash<br>mkdir ...<br>```\n",
      "Front: Create new directory\n",
      "Back: ```bash\n",
      "$ mkdir <path>\n",
      "```\n",
      "#######################\n",
      "Front: What is the command to search text for patterns?\n",
      "Back: ```bash<br>$ grep ...<br>```\n",
      "Front: Search text for patterns\n",
      "Back: ```bash\n",
      "$ grep <pattern> <file>\n",
      "```\n",
      "#######################\n",
      "Front: What is the command to print manual or get help for a command?\n",
      "Back: ```bash<br>$ man ...<br>```\n",
      "Front: Get command manual/help\n",
      "Back: ```bash\n",
      "$ man <command>\n",
      "```\n",
      "#######################\n",
      "Front: What is the command to print the current working directory?\n",
      "Back: ```bash<br>$ pwd&nbsp;<br>```\n",
      "Front: Print current working directory\n",
      "Back: ```bash\n",
      "$ pwd\n",
      "```\n",
      "#######################\n",
      "Front: What is the command to change directory?\n",
      "Back: ```bash<br>$ cd ...<br>```\n",
      "Front: Change directory\n",
      "Back: ```bash\n",
      "$ cd <path>\n",
      "```\n",
      "#######################\n",
      "Front: What is the command to move or rename directory or file?\n",
      "Back: ```bash<br>$ mv ...<br>```\n",
      "Front: Move or rename file/directory\n",
      "Back: ```bash\n",
      "$ mv <file> <path>\n",
      "```\n",
      "#######################\n",
      "Front: What is the command to remove a non-empty directory?\n",
      "Back: ```bash<br>$ rm -rf &lt;path&gt;<br>```\n",
      "Front: Remove non-empty directory\n",
      "Back: ```bash\n",
      "$ rm -rf <path>\n",
      "```\n",
      "#######################\n",
      "Front: What is the command to locate a specific file or directory?\n",
      "Back: ```bash<br>$ locate ...<br>```\n",
      "Front: Locate a file/directory\n",
      "Back: ```bash\n",
      "$ locate <file>\n",
      "```\n",
      "#######################\n",
      "Front: Command to view (but not change) the contents of a text file\n",
      "Back: ```bash<br>$ less &lt;filename&gt;<br>```\n",
      "Front: View text file contents\n",
      "Back: ```bash\n",
      "$ less <file>\n",
      "```\n",
      "#######################\n",
      "Front: What is the command to read a file, create a file, and concatenate files?\n",
      "Back: ```bash<br>$ cat ...<br>```\n",
      "Front: Read/create/concatenate files\n",
      "Back: ```bash\n",
      "$ cat <file>\n",
      "```\n",
      "#######################\n",
      "Front: What is the command to read the start of a file?\n",
      "Back: ```bash<br>$ head &lt;filename&gt;<br>```\n",
      "Front: Read file start\n",
      "Back: ```bash\n",
      "$ head <file>\n",
      "```\n",
      "#######################\n",
      "Front: What is the command to read the end of a file?\n",
      "Back: ```bash<br>$ tail &lt;filename&gt;<br>```\n",
      "Front: Read end of file\n",
      "Back: ```bash\n",
      "$ tail <file>\n",
      "```\n",
      "#######################\n",
      "Front: What command sets the file permissions flag on a file or folder?\n",
      "Back: ```bash<br>$ chmod &lt;mode&gt; &lt;filename&gt;<br>```\n",
      "Front: Set file permissions\n",
      "Back: ```bash\n",
      "$ chmod <mode> <file>\n",
      "```\n",
      "#######################\n",
      "Front: What is the command to copy files and directories?\n",
      "Back: ```bash<br>$ cp ...<br>```\n",
      "Front: Copy files/directories\n",
      "Back: ```bash\n",
      "$ cp <file> <path>\n",
      "```\n",
      "#######################\n",
      "Front: What is the command to clear the terminal window?\n",
      "Back: ```bash<br>$ clear<br>```\n",
      "Front: Clear terminal\n",
      "Back: ```bash\n",
      "$ clear\n",
      "```\n",
      "#######################\n",
      "Front: What is the command to terminate stalled processes?\n",
      "Back: ```bash<br>$ kill ...<br>```\n",
      "Front: Terminate stalled processes\n",
      "Back: ```bash\n",
      "$ kill <command>\n",
      "```\n",
      "#######################\n",
      "Front: What command delays a process for a specified amount of time?\n",
      "Back: ```bash<br>$ sleep ...<br>```\n",
      "Front: Delay process\n",
      "Back: ```bash\n",
      "$ sleep <time>\n",
      "```\n",
      "#######################\n",
      "Front: \"<span style=\"\"background: var(--field-bg);\"\">What is the command to return to the previous directory?</span>\"\n",
      "Back: ```bash<br>$ cd -<br>```\n",
      "Front: What command returns to the previous directory?\n",
      "Back: ```bash\n",
      "$ cd -\n",
      "```\n",
      "#######################\n",
      "Front: What is the option to the `cp` command to copy entire directories?\n",
      "Back: ```bash<br>$ cp -r &lt;target&gt; &lt;destination&gt;<br>```\n",
      "Front: Copy directories with `cp`\n",
      "Back: ```bash\n",
      "$ cp -r <file> <path>\n",
      "```\n"
     ]
    }
   ],
   "source": [
    "system_msg = \"\"\"\n",
    "Optimize this Anki note:\n",
    "- Concise, simple, distinct\n",
    "- Follow format rules\n",
    "\n",
    "Reply in this format:\n",
    "Front: [edited front]\n",
    "Back: [edited back]\n",
    "\n",
    "Terminal commands:\n",
    "```bash\n",
    "$ command <placeholder>\n",
    "```\n",
    "\n",
    "Code:\n",
    "```language\n",
    "code here\n",
    "```\n",
    "\n",
    "Use the following placeholders only: <file>, <path>, <link>, <command>.\n",
    "\n",
    "No explanations.\n",
    "\n",
    "Example 1:\n",
    "Front: What command does extract files from a zip archive?\n",
    "Back: ```bash\n",
    "$ unzip <file>\n",
    "```\n",
    "Front: Extract zip files\n",
    "Back: ```bash\n",
    "$ unzip <file>\n",
    "```\n",
    "\n",
    "Example 2:\n",
    "Front: What is the command to print manual or get help for a command?\n",
    "Back: ```bash\n",
    "$ man ...\n",
    "```\n",
    "Front: Get command manual/help\n",
    "Back: ```bash\n",
    "$ man <command>\n",
    "```\n",
    "\n",
    "Example 3: \n",
    "Front: What command does create a soft link?\n",
    "Back: ```bash\n",
    "$ ln -s <file_name> <link_name>\n",
    "```\n",
    "Front: Create soft link\n",
    "Back: ```bash\n",
    "$ ln -s <file> <link>\n",
    "```\n",
    "\n",
    "Example 4:\n",
    "Front: In the `ln -s` command, what is the order of file name and link name?\n",
    "Back: ```bash\n",
    "$ ln -s <file_name> <link_name>\n",
    "```\n",
    "Front: `ln -s` argument order\n",
    "Back: <file> then <link>\n",
    "\"\"\"\n",
    "\n",
    "vllm_generate(system_msg, n_notes=25)"
   ]
  },
  {
   "cell_type": "code",
   "execution_count": null,
   "id": "7c05748e-efdb-49c7-a75d-ff8b4c0998c1",
   "metadata": {},
   "outputs": [],
   "source": []
  }
 ],
 "metadata": {
  "kernelspec": {
   "display_name": "Python 3 (ipykernel)",
   "language": "python",
   "name": "python3"
  },
  "language_info": {
   "codemirror_mode": {
    "name": "ipython",
    "version": 3
   },
   "file_extension": ".py",
   "mimetype": "text/x-python",
   "name": "python",
   "nbconvert_exporter": "python",
   "pygments_lexer": "ipython3",
   "version": "3.11.8"
  }
 },
 "nbformat": 4,
 "nbformat_minor": 5
}
