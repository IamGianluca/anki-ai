{
 "cells": [
  {
   "cell_type": "code",
   "execution_count": 1,
   "id": "2ec701c6-aebf-4bd3-b3bf-02c73adaa093",
   "metadata": {},
   "outputs": [],
   "source": [
    "%load_ext autoreload\n",
    "%autoreload 2"
   ]
  },
  {
   "cell_type": "code",
   "execution_count": 2,
   "id": "84f0b6e0-ceee-46d1-b484-be0c290e6e1f",
   "metadata": {},
   "outputs": [],
   "source": [
    "from anki_ai.domain.model import Deck\n",
    "from anki_ai.entrypoints.review_note_changes import ReviewApp\n",
    "from anki_ai.adapters.chat_completion import get_chat_completion"
   ]
  },
  {
   "cell_type": "code",
   "execution_count": 3,
   "id": "c049ae4c-c497-4df7-b121-ea78705ee7da",
   "metadata": {},
   "outputs": [
    {
     "name": "stdout",
     "output_type": "stream",
     "text": [
      "Loaded 2891 notes\n"
     ]
    }
   ],
   "source": [
    "deck = Deck(\"default\")\n",
    "deck.read_txt(\"../data/Selected Notes v8.txt\", exclude_tags=\"personal\")\n",
    "print(f\"Loaded {len(deck)} notes\")"
   ]
  },
  {
   "cell_type": "code",
   "execution_count": 4,
   "id": "afe9e502-517a-4068-9552-baee90ff9615",
   "metadata": {},
   "outputs": [
    {
     "name": "stdout",
     "output_type": "stream",
     "text": [
      "Original function called with nullable= False\n"
     ]
    }
   ],
   "source": [
    "llm = get_chat_completion()\n",
    "ra = ReviewApp(deck, llm)"
   ]
  },
  {
   "cell_type": "code",
   "execution_count": 5,
   "id": "5c5a811f-0676-4766-a629-5d757ba932c1",
   "metadata": {},
   "outputs": [
    {
     "name": "stdout",
     "output_type": "stream",
     "text": [
      "\n",
      "Card 1 of 25\n",
      "Front: \"<img src=\"\"paste-d0ff77498ff8dde85ba00ae8b7c4bb6032d8483d.jpg\"\">\"\n",
      "Back: Headboard\n",
      "Tags: ['english']\n",
      "\n",
      "Front: Headboard\n",
      "Back: A piece of furniture placed at the top of a bed\n",
      "Tags: ['english']\n",
      "\n"
     ]
    },
    {
     "name": "stdin",
     "output_type": "stream",
     "text": [
      "Is it correct? (Y/N/S/Q) - Y: Yes, N: No, S: Skip, Q: Quit:  Q\n"
     ]
    },
    {
     "name": "stdout",
     "output_type": "stream",
     "text": [
      "Exiting review.\n"
     ]
    }
   ],
   "source": [
    "ra.review()"
   ]
  }
 ],
 "metadata": {
  "kernelspec": {
   "display_name": "Python 3 (ipykernel)",
   "language": "python",
   "name": "python3"
  },
  "language_info": {
   "codemirror_mode": {
    "name": "ipython",
    "version": 3
   },
   "file_extension": ".py",
   "mimetype": "text/x-python",
   "name": "python",
   "nbconvert_exporter": "python",
   "pygments_lexer": "ipython3",
   "version": "3.10.12"
  }
 },
 "nbformat": 4,
 "nbformat_minor": 5
}
