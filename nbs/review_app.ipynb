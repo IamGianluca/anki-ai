{
 "cells": [
  {
   "cell_type": "code",
   "execution_count": 1,
   "id": "2ec701c6-aebf-4bd3-b3bf-02c73adaa093",
   "metadata": {},
   "outputs": [],
   "source": [
    "%load_ext autoreload\n",
    "%autoreload 2"
   ]
  },
  {
   "cell_type": "code",
   "execution_count": 2,
   "id": "84f0b6e0-ceee-46d1-b484-be0c290e6e1f",
   "metadata": {},
   "outputs": [],
   "source": [
    "from anki_ai.domain.model import Deck\n",
    "from anki_ai.entrypoints.review_note_changes import ReviewApp\n",
    "from anki_ai.adapters.chat_completion import get_chat_completion"
   ]
  },
  {
   "cell_type": "code",
   "execution_count": 3,
   "id": "c049ae4c-c497-4df7-b121-ea78705ee7da",
   "metadata": {},
   "outputs": [
    {
     "name": "stdout",
     "output_type": "stream",
     "text": [
      "Loaded 2891 notes\n"
     ]
    }
   ],
   "source": [
    "deck = Deck(\"default\")\n",
    "deck.read_txt(\"../data/Selected Notes v8.txt\", exclude_tags=\"personal\")\n",
    "print(f\"Loaded {len(deck)} notes\")"
   ]
  },
  {
   "cell_type": "code",
   "execution_count": 4,
   "id": "afe9e502-517a-4068-9552-baee90ff9615",
   "metadata": {},
   "outputs": [],
   "source": [
    "llm = get_chat_completion()\n",
    "ra = ReviewApp(deck, llm)"
   ]
  },
  {
   "cell_type": "code",
   "execution_count": 5,
   "id": "5c5a811f-0676-4766-a629-5d757ba932c1",
   "metadata": {},
   "outputs": [
    {
     "name": "stdout",
     "output_type": "stream",
     "text": [
      "\n",
      "Card 1 of 25\n",
      "Front: \"<img src=\"\"paste-d0ff77498ff8dde85ba00ae8b7c4bb6032d8483d.jpg\"\">\"\n",
      "Back: Headboard\n",
      "Tags: ['english']\n",
      "\n",
      "Front: Headboard\n",
      "Back: A piece of furniture placed at the top of a bed\n",
      "Tags: ['english']\n",
      "\n"
     ]
    },
    {
     "name": "stdin",
     "output_type": "stream",
     "text": [
      "Accept AI suggestions? (Y/N/E/Q) - Y: Yes, N: No, E: Edit, Q: Quit:  Y\n"
     ]
    },
    {
     "name": "stdout",
     "output_type": "stream",
     "text": [
      "\n",
      "\n",
      "\n",
      "Card 2 of 25\n",
      "Front: \"<img src=\"\"paste-334a3566ffa4cab66033c10810e8d06af8fda194.jpg\"\">\"\n",
      "Back: Towel\n",
      "Tags: ['english']\n",
      "\n",
      "Front: Towel\n",
      "Back: Towel\n",
      "Tags: ['english']\n",
      "\n"
     ]
    },
    {
     "name": "stdin",
     "output_type": "stream",
     "text": [
      "Accept AI suggestions? (Y/N/E/Q) - Y: Yes, N: No, E: Edit, Q: Quit:  N\n"
     ]
    },
    {
     "name": "stdout",
     "output_type": "stream",
     "text": [
      "Skipping this card.\n",
      "\n",
      "\n",
      "\n",
      "Card 3 of 25\n",
      "Front: \"<img src=\"\"paste-d9689dc830d3f333e81b9b7058d5b25517064954.jpg\"\">\"\n",
      "Back: Jug\n",
      "Tags: ['english']\n",
      "\n",
      "Front: \n",
      "Back: Jug\n",
      "Tags: ['english']\n",
      "\n"
     ]
    },
    {
     "name": "stdin",
     "output_type": "stream",
     "text": [
      "Accept AI suggestions? (Y/N/E/Q) - Y: Yes, N: No, E: Edit, Q: Quit:  E\n"
     ]
    },
    {
     "name": "stderr",
     "output_type": "stream",
     "text": [
      "Warning: Input is not a terminal (fd=0).\n"
     ]
    },
    {
     "ename": "RuntimeError",
     "evalue": "asyncio.run() cannot be called from a running event loop",
     "output_type": "error",
     "traceback": [
      "\u001b[0;31m---------------------------------------------------------------------------\u001b[0m",
      "\u001b[0;31mRuntimeError\u001b[0m                              Traceback (most recent call last)",
      "Cell \u001b[0;32mIn[5], line 1\u001b[0m\n\u001b[0;32m----> 1\u001b[0m \u001b[43mra\u001b[49m\u001b[38;5;241;43m.\u001b[39;49m\u001b[43mreview\u001b[49m\u001b[43m(\u001b[49m\u001b[43m)\u001b[49m\n",
      "File \u001b[0;32m~/git/anki-ai/src/anki_ai/entrypoints/review_note_changes.py:74\u001b[0m, in \u001b[0;36mReviewApp.review\u001b[0;34m(self, n_reviews)\u001b[0m\n\u001b[1;32m     72\u001b[0m     \u001b[38;5;28;01mbreak\u001b[39;00m\n\u001b[1;32m     73\u001b[0m \u001b[38;5;28;01melif\u001b[39;00m response \u001b[38;5;241m==\u001b[39m \u001b[38;5;124m\"\u001b[39m\u001b[38;5;124me\u001b[39m\u001b[38;5;124m\"\u001b[39m:\n\u001b[0;32m---> 74\u001b[0m     reviewed_note \u001b[38;5;241m=\u001b[39m \u001b[43mprompt\u001b[49m\u001b[43m(\u001b[49m\n\u001b[1;32m     75\u001b[0m \u001b[43m        \u001b[49m\u001b[38;5;124;43m\"\u001b[39;49m\u001b[38;5;124;43m\"\u001b[39;49m\u001b[43m,\u001b[49m\n\u001b[1;32m     76\u001b[0m \u001b[43m        \u001b[49m\u001b[43mdefault\u001b[49m\u001b[38;5;241;43m=\u001b[39;49m\u001b[38;5;124;43mf\u001b[39;49m\u001b[38;5;124;43m\"\u001b[39;49m\u001b[38;5;132;43;01m{\u001b[39;49;00m\u001b[43mproposed_note\u001b[49m\u001b[38;5;241;43m.\u001b[39;49m\u001b[43mtags\u001b[49m\u001b[38;5;132;43;01m}\u001b[39;49;00m\u001b[38;5;124;43m \u001b[39;49m\u001b[38;5;132;43;01m{\u001b[39;49;00m\u001b[43munescape\u001b[49m\u001b[43m(\u001b[49m\u001b[43mproposed_note\u001b[49m\u001b[38;5;241;43m.\u001b[39;49m\u001b[43mfront\u001b[49m\u001b[43m)\u001b[49m\u001b[38;5;132;43;01m}\u001b[39;49;00m\u001b[38;5;130;43;01m\\n\u001b[39;49;00m\u001b[38;5;132;43;01m{\u001b[39;49;00m\u001b[43munescape\u001b[49m\u001b[43m(\u001b[49m\u001b[43mproposed_note\u001b[49m\u001b[38;5;241;43m.\u001b[39;49m\u001b[43mback\u001b[49m\u001b[43m)\u001b[49m\u001b[38;5;132;43;01m}\u001b[39;49;00m\u001b[38;5;124;43m\"\u001b[39;49m\u001b[43m,\u001b[49m\n\u001b[1;32m     77\u001b[0m \u001b[43m    \u001b[49m\u001b[43m)\u001b[49m\n\u001b[1;32m     78\u001b[0m     new_note \u001b[38;5;241m=\u001b[39m deepcopy(note)\n\u001b[1;32m     79\u001b[0m     match \u001b[38;5;241m=\u001b[39m re\u001b[38;5;241m.\u001b[39msearch(\u001b[38;5;124mr\u001b[39m\u001b[38;5;124m\"\u001b[39m\u001b[38;5;124m\\\u001b[39m\u001b[38;5;124m[(.*?)\u001b[39m\u001b[38;5;124m\\\u001b[39m\u001b[38;5;124m] (.*)\u001b[39m\u001b[38;5;124m\\\u001b[39m\u001b[38;5;124mn(.*)\u001b[39m\u001b[38;5;124m\"\u001b[39m, reviewed_note)\n",
      "File \u001b[0;32m~/git/anki-ai/.venv/lib/python3.10/site-packages/prompt_toolkit/shortcuts/prompt.py:1425\u001b[0m, in \u001b[0;36mprompt\u001b[0;34m(message, history, editing_mode, refresh_interval, vi_mode, lexer, completer, complete_in_thread, is_password, key_bindings, bottom_toolbar, style, color_depth, cursor, include_default_pygments_style, style_transformation, swap_light_and_dark_colors, rprompt, multiline, prompt_continuation, wrap_lines, enable_history_search, search_ignore_case, complete_while_typing, validate_while_typing, complete_style, auto_suggest, validator, clipboard, mouse_support, input_processors, placeholder, reserve_space_for_menu, enable_system_prompt, enable_suspend, enable_open_in_editor, tempfile_suffix, tempfile, default, accept_default, pre_run, set_exception_handler, handle_sigint, in_thread, inputhook)\u001b[0m\n\u001b[1;32m   1421\u001b[0m \u001b[38;5;66;03m# The history is the only attribute that has to be passed to the\u001b[39;00m\n\u001b[1;32m   1422\u001b[0m \u001b[38;5;66;03m# `PromptSession`, it can't be passed into the `prompt()` method.\u001b[39;00m\n\u001b[1;32m   1423\u001b[0m session: PromptSession[\u001b[38;5;28mstr\u001b[39m] \u001b[38;5;241m=\u001b[39m PromptSession(history\u001b[38;5;241m=\u001b[39mhistory)\n\u001b[0;32m-> 1425\u001b[0m \u001b[38;5;28;01mreturn\u001b[39;00m \u001b[43msession\u001b[49m\u001b[38;5;241;43m.\u001b[39;49m\u001b[43mprompt\u001b[49m\u001b[43m(\u001b[49m\n\u001b[1;32m   1426\u001b[0m \u001b[43m    \u001b[49m\u001b[43mmessage\u001b[49m\u001b[43m,\u001b[49m\n\u001b[1;32m   1427\u001b[0m \u001b[43m    \u001b[49m\u001b[43mediting_mode\u001b[49m\u001b[38;5;241;43m=\u001b[39;49m\u001b[43mediting_mode\u001b[49m\u001b[43m,\u001b[49m\n\u001b[1;32m   1428\u001b[0m \u001b[43m    \u001b[49m\u001b[43mrefresh_interval\u001b[49m\u001b[38;5;241;43m=\u001b[39;49m\u001b[43mrefresh_interval\u001b[49m\u001b[43m,\u001b[49m\n\u001b[1;32m   1429\u001b[0m \u001b[43m    \u001b[49m\u001b[43mvi_mode\u001b[49m\u001b[38;5;241;43m=\u001b[39;49m\u001b[43mvi_mode\u001b[49m\u001b[43m,\u001b[49m\n\u001b[1;32m   1430\u001b[0m \u001b[43m    \u001b[49m\u001b[43mlexer\u001b[49m\u001b[38;5;241;43m=\u001b[39;49m\u001b[43mlexer\u001b[49m\u001b[43m,\u001b[49m\n\u001b[1;32m   1431\u001b[0m \u001b[43m    \u001b[49m\u001b[43mcompleter\u001b[49m\u001b[38;5;241;43m=\u001b[39;49m\u001b[43mcompleter\u001b[49m\u001b[43m,\u001b[49m\n\u001b[1;32m   1432\u001b[0m \u001b[43m    \u001b[49m\u001b[43mcomplete_in_thread\u001b[49m\u001b[38;5;241;43m=\u001b[39;49m\u001b[43mcomplete_in_thread\u001b[49m\u001b[43m,\u001b[49m\n\u001b[1;32m   1433\u001b[0m \u001b[43m    \u001b[49m\u001b[43mis_password\u001b[49m\u001b[38;5;241;43m=\u001b[39;49m\u001b[43mis_password\u001b[49m\u001b[43m,\u001b[49m\n\u001b[1;32m   1434\u001b[0m \u001b[43m    \u001b[49m\u001b[43mkey_bindings\u001b[49m\u001b[38;5;241;43m=\u001b[39;49m\u001b[43mkey_bindings\u001b[49m\u001b[43m,\u001b[49m\n\u001b[1;32m   1435\u001b[0m \u001b[43m    \u001b[49m\u001b[43mbottom_toolbar\u001b[49m\u001b[38;5;241;43m=\u001b[39;49m\u001b[43mbottom_toolbar\u001b[49m\u001b[43m,\u001b[49m\n\u001b[1;32m   1436\u001b[0m \u001b[43m    \u001b[49m\u001b[43mstyle\u001b[49m\u001b[38;5;241;43m=\u001b[39;49m\u001b[43mstyle\u001b[49m\u001b[43m,\u001b[49m\n\u001b[1;32m   1437\u001b[0m \u001b[43m    \u001b[49m\u001b[43mcolor_depth\u001b[49m\u001b[38;5;241;43m=\u001b[39;49m\u001b[43mcolor_depth\u001b[49m\u001b[43m,\u001b[49m\n\u001b[1;32m   1438\u001b[0m \u001b[43m    \u001b[49m\u001b[43mcursor\u001b[49m\u001b[38;5;241;43m=\u001b[39;49m\u001b[43mcursor\u001b[49m\u001b[43m,\u001b[49m\n\u001b[1;32m   1439\u001b[0m \u001b[43m    \u001b[49m\u001b[43minclude_default_pygments_style\u001b[49m\u001b[38;5;241;43m=\u001b[39;49m\u001b[43minclude_default_pygments_style\u001b[49m\u001b[43m,\u001b[49m\n\u001b[1;32m   1440\u001b[0m \u001b[43m    \u001b[49m\u001b[43mstyle_transformation\u001b[49m\u001b[38;5;241;43m=\u001b[39;49m\u001b[43mstyle_transformation\u001b[49m\u001b[43m,\u001b[49m\n\u001b[1;32m   1441\u001b[0m \u001b[43m    \u001b[49m\u001b[43mswap_light_and_dark_colors\u001b[49m\u001b[38;5;241;43m=\u001b[39;49m\u001b[43mswap_light_and_dark_colors\u001b[49m\u001b[43m,\u001b[49m\n\u001b[1;32m   1442\u001b[0m \u001b[43m    \u001b[49m\u001b[43mrprompt\u001b[49m\u001b[38;5;241;43m=\u001b[39;49m\u001b[43mrprompt\u001b[49m\u001b[43m,\u001b[49m\n\u001b[1;32m   1443\u001b[0m \u001b[43m    \u001b[49m\u001b[43mmultiline\u001b[49m\u001b[38;5;241;43m=\u001b[39;49m\u001b[43mmultiline\u001b[49m\u001b[43m,\u001b[49m\n\u001b[1;32m   1444\u001b[0m \u001b[43m    \u001b[49m\u001b[43mprompt_continuation\u001b[49m\u001b[38;5;241;43m=\u001b[39;49m\u001b[43mprompt_continuation\u001b[49m\u001b[43m,\u001b[49m\n\u001b[1;32m   1445\u001b[0m \u001b[43m    \u001b[49m\u001b[43mwrap_lines\u001b[49m\u001b[38;5;241;43m=\u001b[39;49m\u001b[43mwrap_lines\u001b[49m\u001b[43m,\u001b[49m\n\u001b[1;32m   1446\u001b[0m \u001b[43m    \u001b[49m\u001b[43menable_history_search\u001b[49m\u001b[38;5;241;43m=\u001b[39;49m\u001b[43menable_history_search\u001b[49m\u001b[43m,\u001b[49m\n\u001b[1;32m   1447\u001b[0m \u001b[43m    \u001b[49m\u001b[43msearch_ignore_case\u001b[49m\u001b[38;5;241;43m=\u001b[39;49m\u001b[43msearch_ignore_case\u001b[49m\u001b[43m,\u001b[49m\n\u001b[1;32m   1448\u001b[0m \u001b[43m    \u001b[49m\u001b[43mcomplete_while_typing\u001b[49m\u001b[38;5;241;43m=\u001b[39;49m\u001b[43mcomplete_while_typing\u001b[49m\u001b[43m,\u001b[49m\n\u001b[1;32m   1449\u001b[0m \u001b[43m    \u001b[49m\u001b[43mvalidate_while_typing\u001b[49m\u001b[38;5;241;43m=\u001b[39;49m\u001b[43mvalidate_while_typing\u001b[49m\u001b[43m,\u001b[49m\n\u001b[1;32m   1450\u001b[0m \u001b[43m    \u001b[49m\u001b[43mcomplete_style\u001b[49m\u001b[38;5;241;43m=\u001b[39;49m\u001b[43mcomplete_style\u001b[49m\u001b[43m,\u001b[49m\n\u001b[1;32m   1451\u001b[0m \u001b[43m    \u001b[49m\u001b[43mauto_suggest\u001b[49m\u001b[38;5;241;43m=\u001b[39;49m\u001b[43mauto_suggest\u001b[49m\u001b[43m,\u001b[49m\n\u001b[1;32m   1452\u001b[0m \u001b[43m    \u001b[49m\u001b[43mvalidator\u001b[49m\u001b[38;5;241;43m=\u001b[39;49m\u001b[43mvalidator\u001b[49m\u001b[43m,\u001b[49m\n\u001b[1;32m   1453\u001b[0m \u001b[43m    \u001b[49m\u001b[43mclipboard\u001b[49m\u001b[38;5;241;43m=\u001b[39;49m\u001b[43mclipboard\u001b[49m\u001b[43m,\u001b[49m\n\u001b[1;32m   1454\u001b[0m \u001b[43m    \u001b[49m\u001b[43mmouse_support\u001b[49m\u001b[38;5;241;43m=\u001b[39;49m\u001b[43mmouse_support\u001b[49m\u001b[43m,\u001b[49m\n\u001b[1;32m   1455\u001b[0m \u001b[43m    \u001b[49m\u001b[43minput_processors\u001b[49m\u001b[38;5;241;43m=\u001b[39;49m\u001b[43minput_processors\u001b[49m\u001b[43m,\u001b[49m\n\u001b[1;32m   1456\u001b[0m \u001b[43m    \u001b[49m\u001b[43mplaceholder\u001b[49m\u001b[38;5;241;43m=\u001b[39;49m\u001b[43mplaceholder\u001b[49m\u001b[43m,\u001b[49m\n\u001b[1;32m   1457\u001b[0m \u001b[43m    \u001b[49m\u001b[43mreserve_space_for_menu\u001b[49m\u001b[38;5;241;43m=\u001b[39;49m\u001b[43mreserve_space_for_menu\u001b[49m\u001b[43m,\u001b[49m\n\u001b[1;32m   1458\u001b[0m \u001b[43m    \u001b[49m\u001b[43menable_system_prompt\u001b[49m\u001b[38;5;241;43m=\u001b[39;49m\u001b[43menable_system_prompt\u001b[49m\u001b[43m,\u001b[49m\n\u001b[1;32m   1459\u001b[0m \u001b[43m    \u001b[49m\u001b[43menable_suspend\u001b[49m\u001b[38;5;241;43m=\u001b[39;49m\u001b[43menable_suspend\u001b[49m\u001b[43m,\u001b[49m\n\u001b[1;32m   1460\u001b[0m \u001b[43m    \u001b[49m\u001b[43menable_open_in_editor\u001b[49m\u001b[38;5;241;43m=\u001b[39;49m\u001b[43menable_open_in_editor\u001b[49m\u001b[43m,\u001b[49m\n\u001b[1;32m   1461\u001b[0m \u001b[43m    \u001b[49m\u001b[43mtempfile_suffix\u001b[49m\u001b[38;5;241;43m=\u001b[39;49m\u001b[43mtempfile_suffix\u001b[49m\u001b[43m,\u001b[49m\n\u001b[1;32m   1462\u001b[0m \u001b[43m    \u001b[49m\u001b[43mtempfile\u001b[49m\u001b[38;5;241;43m=\u001b[39;49m\u001b[43mtempfile\u001b[49m\u001b[43m,\u001b[49m\n\u001b[1;32m   1463\u001b[0m \u001b[43m    \u001b[49m\u001b[43mdefault\u001b[49m\u001b[38;5;241;43m=\u001b[39;49m\u001b[43mdefault\u001b[49m\u001b[43m,\u001b[49m\n\u001b[1;32m   1464\u001b[0m \u001b[43m    \u001b[49m\u001b[43maccept_default\u001b[49m\u001b[38;5;241;43m=\u001b[39;49m\u001b[43maccept_default\u001b[49m\u001b[43m,\u001b[49m\n\u001b[1;32m   1465\u001b[0m \u001b[43m    \u001b[49m\u001b[43mpre_run\u001b[49m\u001b[38;5;241;43m=\u001b[39;49m\u001b[43mpre_run\u001b[49m\u001b[43m,\u001b[49m\n\u001b[1;32m   1466\u001b[0m \u001b[43m    \u001b[49m\u001b[43mset_exception_handler\u001b[49m\u001b[38;5;241;43m=\u001b[39;49m\u001b[43mset_exception_handler\u001b[49m\u001b[43m,\u001b[49m\n\u001b[1;32m   1467\u001b[0m \u001b[43m    \u001b[49m\u001b[43mhandle_sigint\u001b[49m\u001b[38;5;241;43m=\u001b[39;49m\u001b[43mhandle_sigint\u001b[49m\u001b[43m,\u001b[49m\n\u001b[1;32m   1468\u001b[0m \u001b[43m    \u001b[49m\u001b[43min_thread\u001b[49m\u001b[38;5;241;43m=\u001b[39;49m\u001b[43min_thread\u001b[49m\u001b[43m,\u001b[49m\n\u001b[1;32m   1469\u001b[0m \u001b[43m    \u001b[49m\u001b[43minputhook\u001b[49m\u001b[38;5;241;43m=\u001b[39;49m\u001b[43minputhook\u001b[49m\u001b[43m,\u001b[49m\n\u001b[1;32m   1470\u001b[0m \u001b[43m\u001b[49m\u001b[43m)\u001b[49m\n",
      "File \u001b[0;32m~/git/anki-ai/.venv/lib/python3.10/site-packages/prompt_toolkit/shortcuts/prompt.py:1035\u001b[0m, in \u001b[0;36mPromptSession.prompt\u001b[0;34m(self, message, editing_mode, refresh_interval, vi_mode, lexer, completer, complete_in_thread, is_password, key_bindings, bottom_toolbar, style, color_depth, cursor, include_default_pygments_style, style_transformation, swap_light_and_dark_colors, rprompt, multiline, prompt_continuation, wrap_lines, enable_history_search, search_ignore_case, complete_while_typing, validate_while_typing, complete_style, auto_suggest, validator, clipboard, mouse_support, input_processors, placeholder, reserve_space_for_menu, enable_system_prompt, enable_suspend, enable_open_in_editor, tempfile_suffix, tempfile, default, accept_default, pre_run, set_exception_handler, handle_sigint, in_thread, inputhook)\u001b[0m\n\u001b[1;32m   1032\u001b[0m     \u001b[38;5;28;01mwith\u001b[39;00m \u001b[38;5;28mself\u001b[39m\u001b[38;5;241m.\u001b[39m_dumb_prompt(\u001b[38;5;28mself\u001b[39m\u001b[38;5;241m.\u001b[39mmessage) \u001b[38;5;28;01mas\u001b[39;00m dump_app:\n\u001b[1;32m   1033\u001b[0m         \u001b[38;5;28;01mreturn\u001b[39;00m dump_app\u001b[38;5;241m.\u001b[39mrun(in_thread\u001b[38;5;241m=\u001b[39min_thread, handle_sigint\u001b[38;5;241m=\u001b[39mhandle_sigint)\n\u001b[0;32m-> 1035\u001b[0m \u001b[38;5;28;01mreturn\u001b[39;00m \u001b[38;5;28;43mself\u001b[39;49m\u001b[38;5;241;43m.\u001b[39;49m\u001b[43mapp\u001b[49m\u001b[38;5;241;43m.\u001b[39;49m\u001b[43mrun\u001b[49m\u001b[43m(\u001b[49m\n\u001b[1;32m   1036\u001b[0m \u001b[43m    \u001b[49m\u001b[43mset_exception_handler\u001b[49m\u001b[38;5;241;43m=\u001b[39;49m\u001b[43mset_exception_handler\u001b[49m\u001b[43m,\u001b[49m\n\u001b[1;32m   1037\u001b[0m \u001b[43m    \u001b[49m\u001b[43min_thread\u001b[49m\u001b[38;5;241;43m=\u001b[39;49m\u001b[43min_thread\u001b[49m\u001b[43m,\u001b[49m\n\u001b[1;32m   1038\u001b[0m \u001b[43m    \u001b[49m\u001b[43mhandle_sigint\u001b[49m\u001b[38;5;241;43m=\u001b[39;49m\u001b[43mhandle_sigint\u001b[49m\u001b[43m,\u001b[49m\n\u001b[1;32m   1039\u001b[0m \u001b[43m    \u001b[49m\u001b[43minputhook\u001b[49m\u001b[38;5;241;43m=\u001b[39;49m\u001b[43minputhook\u001b[49m\u001b[43m,\u001b[49m\n\u001b[1;32m   1040\u001b[0m \u001b[43m\u001b[49m\u001b[43m)\u001b[49m\n",
      "File \u001b[0;32m~/git/anki-ai/.venv/lib/python3.10/site-packages/prompt_toolkit/application/application.py:1002\u001b[0m, in \u001b[0;36mApplication.run\u001b[0;34m(self, pre_run, set_exception_handler, handle_sigint, in_thread, inputhook)\u001b[0m\n\u001b[1;32m    998\u001b[0m         \u001b[38;5;28;01mreturn\u001b[39;00m loop\u001b[38;5;241m.\u001b[39mrun_until_complete(coro)\n\u001b[1;32m   1000\u001b[0m \u001b[38;5;28;01melse\u001b[39;00m:\n\u001b[1;32m   1001\u001b[0m     \u001b[38;5;66;03m# No loop installed. Run like usual.\u001b[39;00m\n\u001b[0;32m-> 1002\u001b[0m     \u001b[38;5;28;01mreturn\u001b[39;00m \u001b[43masyncio\u001b[49m\u001b[38;5;241;43m.\u001b[39;49m\u001b[43mrun\u001b[49m\u001b[43m(\u001b[49m\u001b[43mcoro\u001b[49m\u001b[43m)\u001b[49m\n",
      "File \u001b[0;32m~/.local/share/uv/python/cpython-3.10.15-linux-x86_64-gnu/lib/python3.10/asyncio/runners.py:33\u001b[0m, in \u001b[0;36mrun\u001b[0;34m(main, debug)\u001b[0m\n\u001b[1;32m      9\u001b[0m \u001b[38;5;250m\u001b[39m\u001b[38;5;124;03m\"\"\"Execute the coroutine and return the result.\u001b[39;00m\n\u001b[1;32m     10\u001b[0m \n\u001b[1;32m     11\u001b[0m \u001b[38;5;124;03mThis function runs the passed coroutine, taking care of\u001b[39;00m\n\u001b[0;32m   (...)\u001b[0m\n\u001b[1;32m     30\u001b[0m \u001b[38;5;124;03m    asyncio.run(main())\u001b[39;00m\n\u001b[1;32m     31\u001b[0m \u001b[38;5;124;03m\"\"\"\u001b[39;00m\n\u001b[1;32m     32\u001b[0m \u001b[38;5;28;01mif\u001b[39;00m events\u001b[38;5;241m.\u001b[39m_get_running_loop() \u001b[38;5;129;01mis\u001b[39;00m \u001b[38;5;129;01mnot\u001b[39;00m \u001b[38;5;28;01mNone\u001b[39;00m:\n\u001b[0;32m---> 33\u001b[0m     \u001b[38;5;28;01mraise\u001b[39;00m \u001b[38;5;167;01mRuntimeError\u001b[39;00m(\n\u001b[1;32m     34\u001b[0m         \u001b[38;5;124m\"\u001b[39m\u001b[38;5;124masyncio.run() cannot be called from a running event loop\u001b[39m\u001b[38;5;124m\"\u001b[39m)\n\u001b[1;32m     36\u001b[0m \u001b[38;5;28;01mif\u001b[39;00m \u001b[38;5;129;01mnot\u001b[39;00m coroutines\u001b[38;5;241m.\u001b[39miscoroutine(main):\n\u001b[1;32m     37\u001b[0m     \u001b[38;5;28;01mraise\u001b[39;00m \u001b[38;5;167;01mValueError\u001b[39;00m(\u001b[38;5;124m\"\u001b[39m\u001b[38;5;124ma coroutine was expected, got \u001b[39m\u001b[38;5;132;01m{!r}\u001b[39;00m\u001b[38;5;124m\"\u001b[39m\u001b[38;5;241m.\u001b[39mformat(main))\n",
      "\u001b[0;31mRuntimeError\u001b[0m: asyncio.run() cannot be called from a running event loop"
     ]
    }
   ],
   "source": [
    "ra.review()"
   ]
  }
 ],
 "metadata": {
  "kernelspec": {
   "display_name": "Python 3 (ipykernel)",
   "language": "python",
   "name": "python3"
  },
  "language_info": {
   "codemirror_mode": {
    "name": "ipython",
    "version": 3
   },
   "file_extension": ".py",
   "mimetype": "text/x-python",
   "name": "python",
   "nbconvert_exporter": "python",
   "pygments_lexer": "ipython3",
   "version": "3.10.12"
  }
 },
 "nbformat": 4,
 "nbformat_minor": 5
}
