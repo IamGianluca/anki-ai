{
 "cells": [
  {
   "cell_type": "markdown",
   "id": "8bc00c52-d125-488b-bab7-c8d8119441b5",
   "metadata": {},
   "source": [
    "Anki notes can be exported in a convenient `.txt` format. This file contains everything we need to modify Anki's notes and update the database later.\n",
    "\n",
    "Let's start by checking the content of this file."
   ]
  },
  {
   "cell_type": "code",
   "execution_count": 1,
   "id": "dee69b41-0a1f-4e85-92db-9d5a89ff8745",
   "metadata": {
    "scrolled": true
   },
   "outputs": [
    {
     "name": "stdout",
     "output_type": "stream",
     "text": [
      "#separator:tab\n",
      "#html:true\n",
      "#guid column:1\n",
      "#notetype column:2\n",
      "#deck column:3\n",
      "#tags column:9\n",
      "D?H@y-%%r\tKaTeX and Markdown Basic (Color)\tDefault\t\"<img src=\"\"paste-d0ff77498ff8dde85ba00ae8b7c4bb6032d8483d.jpg\"\">\"\tHeadboard\t\t\t\tenglish\n",
      "IjfKk}wnb@\tKaTeX and Markdown Basic (Color)\tDefault\t\"<img src=\"\"paste-334a3566ffa4cab66033c10810e8d06af8fda194.jpg\"\">\"\tTowel\t\t\t\tenglish\n",
      "\"G1Z_~#;mLc\"\tKaTeX and Markdown Basic (Color)\tDefault\t\"<img src=\"\"paste-d9689dc830d3f333e81b9b7058d5b25517064954.jpg\"\">\"\tJug\t\t\t\tenglish\n",
      "Azd65{j+,q\tKaTeX and Markdown Basic (Color)\tDefault\tCommand to create a soft link\t```bash<br>$ ln -s &lt;file&gt; &lt;link&gt;<br>```\t\t\t\tlinux\n"
     ]
    }
   ],
   "source": [
    "!head -n 10 ../data/Selected\\ Notes\\ v8.txt"
   ]
  },
  {
   "cell_type": "markdown",
   "id": "625d4c1b-ffe3-46d3-8ba1-d7256338fda8",
   "metadata": {},
   "source": [
    "### Load data"
   ]
  },
  {
   "cell_type": "markdown",
   "id": "033d4a30-9ccd-4739-b234-9ba24502d9d4",
   "metadata": {},
   "source": [
    "We can use the `anki_ai` library to load the notes from the file, and start exploring the content."
   ]
  },
  {
   "cell_type": "code",
   "execution_count": 2,
   "id": "21d998c5-a388-4c43-ae7a-1c6ac3d9dbc6",
   "metadata": {},
   "outputs": [],
   "source": [
    "from anki_ai.domain.deck import Deck"
   ]
  },
  {
   "cell_type": "code",
   "execution_count": 3,
   "id": "9d5cb06b-28bb-4737-a01b-8ad5966be1df",
   "metadata": {},
   "outputs": [
    {
     "data": {
      "text/plain": [
       "[Note(guid='D?H@y-%%r', front='<img src=\"paste-d0ff77498ff8dde85ba00ae8b7c4bb6032d8483d.jpg\">', back='Headboard', tags=['english'], notetype='KaTeX and Markdown Basic (Color)', deck_name='Default'),\n",
       " Note(guid='IjfKk}wnb@', front='<img src=\"paste-334a3566ffa4cab66033c10810e8d06af8fda194.jpg\">', back='Towel', tags=['english'], notetype='KaTeX and Markdown Basic (Color)', deck_name='Default'),\n",
       " Note(guid='G1Z_~#;mLc', front='<img src=\"paste-d9689dc830d3f333e81b9b7058d5b25517064954.jpg\">', back='Jug', tags=['english'], notetype='KaTeX and Markdown Basic (Color)', deck_name='Default'),\n",
       " Note(guid='Azd65{j+,q', front='Command to create a soft link', back='```bash<br>$ ln -s &lt;file&gt; &lt;link&gt;<br>```', tags=['linux'], notetype='KaTeX and Markdown Basic (Color)', deck_name='Default'),\n",
       " Note(guid='BGL!8$wV<W', front='In the `ln -s` command, what is the order of file name and link name?', back='```bash<br>$ ln -s &lt;file_name&gt; &lt;link_name&gt;<br>```', tags=['linux'], notetype='KaTeX and Markdown Basic (Color)', deck_name='Default'),\n",
       " Note(guid='be:y>MF$Ae', front='In the `zip` command, what is the option to specify the destination?', back='```bash<br>$ unzip &lt;file&gt; -d &lt;path&gt;<br>```<br><br><img src=\"paste-92e15adfe1d216e9ba6f170e4033b292b7b15756.jpg\">', tags=['linux'], notetype='KaTeX and Markdown Basic (Color)', deck_name='Default'),\n",
       " Note(guid='Ab&$&th[l3', front='What command extracts files from a zip archive?', back='```bash<br>$ unzip &lt;file&gt;<br>```', tags=['linux'], notetype='KaTeX and Markdown Basic (Color)', deck_name='Default'),\n",
       " Note(guid='Mm+g*FhiWM', front='What is the command to list the content of a directory?', back='```bash<br>$ ls &lt;path&gt;<br>```', tags=['linux'], notetype='KaTeX and Markdown Basic (Color)', deck_name='Default'),\n",
       " Note(guid='hbX3.9`gV4', front='What is the command to print text to the terminal window?', back='```bash<br>$ echo ...<br>```', tags=['linux'], notetype='KaTeX and Markdown Basic (Color)', deck_name='Default'),\n",
       " Note(guid='t%Xj3!iT4e', front='What is the command to create a new file?', back='```bash<br>$ touch ...<br>```', tags=['linux'], notetype='KaTeX and Markdown Basic (Color)', deck_name='Default')]"
      ]
     },
     "execution_count": 3,
     "metadata": {},
     "output_type": "execute_result"
    }
   ],
   "source": [
    "deck = Deck()\n",
    "deck.read_txt(fpath=\"../data/Selected Notes v8.txt\", exclude_tags=[\"personal\"])\n",
    "deck[:10]"
   ]
  },
  {
   "cell_type": "markdown",
   "id": "1f85bf12-6a0e-44de-a06c-2571af594697",
   "metadata": {},
   "source": [
    "### Find duplicate notes (using semantic search)"
   ]
  },
  {
   "cell_type": "markdown",
   "id": "05fe63ad-6a2c-4c90-b034-9d0819ccc332",
   "metadata": {},
   "source": [
    "The Anki client offers some basic functionality to identify repeated notes. It is based on an exact string comparison for the front and back fields of a note. This is a good starting point, but it misses scenarios where a card is semantically similar, or even the same, but not literally perfectly matching. This scenario happens very frequently as we add more notes over a long period of time.\n",
    "\n",
    "We can use an embedding model to create sentence embeddings for front and back fields, to identify notes that are semantically very similar, although not always lexically equal. To do that, let's use one of the embedding models in `sentence-transformers` to generate embeddings for the front of our notes, and add them in `qdrant`."
   ]
  },
  {
   "cell_type": "code",
   "execution_count": 4,
   "id": "201079d6-2a12-4b2e-aecd-de0957e4710b",
   "metadata": {},
   "outputs": [],
   "source": [
    "from sentence_transformers import SentenceTransformer\n",
    "\n",
    "encoder = SentenceTransformer(\"all-MiniLM-L6-v2\")"
   ]
  },
  {
   "cell_type": "code",
   "execution_count": 5,
   "id": "b83606cf-d0a7-4a0d-8a07-eb7eb2b8e862",
   "metadata": {},
   "outputs": [],
   "source": [
    "from qdrant_client import QdrantClient, models\n",
    "\n",
    "qdrant = QdrantClient(\":memory:\")  # create in-memory Qdrant instance for testing"
   ]
  },
  {
   "cell_type": "code",
   "execution_count": 6,
   "id": "8528df18-7a3d-4dee-aa61-2637c6b20833",
   "metadata": {},
   "outputs": [
    {
     "data": {
      "text/plain": [
       "True"
      ]
     },
     "execution_count": 6,
     "metadata": {},
     "output_type": "execute_result"
    }
   ],
   "source": [
    "qdrant.create_collection(\n",
    "    collection_name=\"anki_deck\",\n",
    "    vectors_config=models.VectorParams(\n",
    "        size=encoder.get_sentence_embedding_dimension(),  # vector size is defined by used model\n",
    "        distance=models.Distance.COSINE,\n",
    "    ),\n",
    ")"
   ]
  },
  {
   "cell_type": "code",
   "execution_count": 7,
   "id": "13737e73-dc3a-47f6-9219-304c9e34ed69",
   "metadata": {},
   "outputs": [
    {
     "data": {
      "text/plain": [
       "[{'guid': 'D?H@y-%%r',\n",
       "  'front': '<img src=\"paste-d0ff77498ff8dde85ba00ae8b7c4bb6032d8483d.jpg\">',\n",
       "  'back': 'Headboard',\n",
       "  'tags': ['english']},\n",
       " {'guid': 'IjfKk}wnb@',\n",
       "  'front': '<img src=\"paste-334a3566ffa4cab66033c10810e8d06af8fda194.jpg\">',\n",
       "  'back': 'Towel',\n",
       "  'tags': ['english']},\n",
       " {'guid': 'G1Z_~#;mLc',\n",
       "  'front': '<img src=\"paste-d9689dc830d3f333e81b9b7058d5b25517064954.jpg\">',\n",
       "  'back': 'Jug',\n",
       "  'tags': ['english']},\n",
       " {'guid': 'Azd65{j+,q',\n",
       "  'front': 'Command to create a soft link',\n",
       "  'back': '```bash<br>$ ln -s &lt;file&gt; &lt;link&gt;<br>```',\n",
       "  'tags': ['linux']},\n",
       " {'guid': 'BGL!8$wV<W',\n",
       "  'front': 'In the `ln -s` command, what is the order of file name and link name?',\n",
       "  'back': '```bash<br>$ ln -s &lt;file_name&gt; &lt;link_name&gt;<br>```',\n",
       "  'tags': ['linux']},\n",
       " {'guid': 'be:y>MF$Ae',\n",
       "  'front': 'In the `zip` command, what is the option to specify the destination?',\n",
       "  'back': '```bash<br>$ unzip &lt;file&gt; -d &lt;path&gt;<br>```<br><br><img src=\"paste-92e15adfe1d216e9ba6f170e4033b292b7b15756.jpg\">',\n",
       "  'tags': ['linux']},\n",
       " {'guid': 'Ab&$&th[l3',\n",
       "  'front': 'What command extracts files from a zip archive?',\n",
       "  'back': '```bash<br>$ unzip &lt;file&gt;<br>```',\n",
       "  'tags': ['linux']},\n",
       " {'guid': 'Mm+g*FhiWM',\n",
       "  'front': 'What is the command to list the content of a directory?',\n",
       "  'back': '```bash<br>$ ls &lt;path&gt;<br>```',\n",
       "  'tags': ['linux']},\n",
       " {'guid': 'hbX3.9`gV4',\n",
       "  'front': 'What is the command to print text to the terminal window?',\n",
       "  'back': '```bash<br>$ echo ...<br>```',\n",
       "  'tags': ['linux']},\n",
       " {'guid': 't%Xj3!iT4e',\n",
       "  'front': 'What is the command to create a new file?',\n",
       "  'back': '```bash<br>$ touch ...<br>```',\n",
       "  'tags': ['linux']}]"
      ]
     },
     "execution_count": 7,
     "metadata": {},
     "output_type": "execute_result"
    }
   ],
   "source": [
    "notes = [\n",
    "    {\"guid\": n.guid, \"front\": n.front, \"back\": n.back, \"tags\": n.tags} for n in deck\n",
    "]\n",
    "notes[:10]"
   ]
  },
  {
   "cell_type": "code",
   "execution_count": 8,
   "id": "2c88932f-de58-4611-8045-54a9941b10eb",
   "metadata": {},
   "outputs": [],
   "source": [
    "qdrant.upload_points(\n",
    "    collection_name=\"anki_deck\",\n",
    "    points=[\n",
    "        models.PointStruct(\n",
    "            id=idx, vector=encoder.encode(note[\"front\"]).tolist(), payload=note\n",
    "        )\n",
    "        for idx, note in enumerate(notes)\n",
    "    ],\n",
    ")"
   ]
  },
  {
   "cell_type": "code",
   "execution_count": 9,
   "id": "171e74d9-a24e-47b8-bcf8-b01e2c46836d",
   "metadata": {
    "scrolled": true
   },
   "outputs": [
    {
     "name": "stdout",
     "output_type": "stream",
     "text": [
      "{'guid': 'IVX4]l>.K$', 'front': 'What does the attention mechanism do?', 'back': 'It lets the decoder assign a different amount of weight, or \"attention\", to each of the encoder states at every decoding timestep<br><br><img src=\"paste-6efd6ecd3fe7a7d3dbc1e34b5698ec4f5f2368fc.jpg\">', 'tags': ['nlp']} score: 0.6690907923016808\n"
     ]
    }
   ],
   "source": [
    "hits = qdrant.query_points(\n",
    "    collection_name=\"anki_deck\",\n",
    "    query=encoder.encode(\"attention\").tolist(),\n",
    "    limit=3,\n",
    ")\n",
    "for hit in hits:\n",
    "    hit = hit[1][0]\n",
    "    print(hit.payload, \"score:\", hit.score)"
   ]
  },
  {
   "cell_type": "code",
   "execution_count": 10,
   "id": "d79ee9ca-d39f-498e-90a8-88fff22e6014",
   "metadata": {},
   "outputs": [
    {
     "name": "stdout",
     "output_type": "stream",
     "text": [
      "ORIGINAL: guid='D?H@y-%%r' front='<img src=\"paste-d0ff77498ff8dde85ba00ae8b7c4bb6032d8483d.jpg\">' back='Headboard' tags=['english'] notetype='KaTeX and Markdown Basic (Color)' deck_name='Default'\n",
      "\n",
      "POTENTIAL DUPLICATE (98.15%): {'guid': 'L<}Geu>7)g', 'front': '<img src=\"paste-d0059484db4597ce31817cd328cf2a8d7ca598c6.jpg\">', 'back': 'Tubeless', 'tags': ['cycling']}\n",
      "\n",
      "['- <img src=\"paste-d0ff77498ff8dde85ba00ae8b7c4bb6032d8483d.jpg\">',\n",
      " '+ <img src=\"paste-d0059484db4597ce31817cd328cf2a8d7ca598c6.jpg\">']\n",
      "POTENTIAL DUPLICATE (97.74%): {'guid': 'GRGQ&._SC&', 'front': '<img src=\"paste-c41ed6497526ac56d4917668c24c3dfd8718bc7e.jpg\">', 'back': 'Fence', 'tags': ['english']}\n",
      "\n",
      "['- <img src=\"paste-d0ff77498ff8dde85ba00ae8b7c4bb6032d8483d.jpg\">',\n",
      " '+ <img src=\"paste-c41ed6497526ac56d4917668c24c3dfd8718bc7e.jpg\">']\n",
      "\n",
      "---------------------------------------\n",
      "\n",
      "ORIGINAL: guid='G1Z_~#;mLc' front='<img src=\"paste-d9689dc830d3f333e81b9b7058d5b25517064954.jpg\">' back='Jug' tags=['english'] notetype='KaTeX and Markdown Basic (Color)' deck_name='Default'\n",
      "\n",
      "POTENTIAL DUPLICATE (98.54%): {'guid': 's}wZU$-Gk}', 'front': '<img src=\"paste-d01c917e79f587c46763c3b91f40de5ed4d496a0.jpg\">', 'back': 'William Falcon', 'tags': ['dl']}\n",
      "\n",
      "['- <img src=\"paste-d9689dc830d3f333e81b9b7058d5b25517064954.jpg\">',\n",
      " '+ <img src=\"paste-d01c917e79f587c46763c3b91f40de5ed4d496a0.jpg\">']\n",
      "POTENTIAL DUPLICATE (98.25%): {'guid': 'nt*nI|tBZu', 'front': '<img src=\"paste-3e348f4492cc8329d041ce190d92c55843a390f8.jpg\">', 'back': 'Handrail', 'tags': ['english']}\n",
      "\n",
      "['- <img src=\"paste-d9689dc830d3f333e81b9b7058d5b25517064954.jpg\">',\n",
      " '+ <img src=\"paste-3e348f4492cc8329d041ce190d92c55843a390f8.jpg\">']\n",
      "\n",
      "---------------------------------------\n",
      "\n",
      "ORIGINAL: guid='BGL!8$wV<W' front='In the `ln -s` command, what is the order of file name and link name?' back='```bash<br>$ ln -s &lt;file_name&gt; &lt;link_name&gt;<br>```' tags=['linux'] notetype='KaTeX and Markdown Basic (Color)' deck_name='Default'\n",
      "\n",
      "POTENTIAL DUPLICATE (99.61%): {'guid': 'i}[Hu=L@sI', 'front': 'In the `ln -s` command, what is the order of link name and file name?', 'back': '```bash<br>$ ln -s &lt;file_name&gt; &lt;link_name&gt;<br>```', 'tags': ['linux']}\n",
      "\n",
      "['- In the `ln -s` command, what is the order of file name and link name?',\n",
      " '?                                              ^ ^^           ^^^\\n',\n",
      " '+ In the `ln -s` command, what is the order of link name and file name?',\n",
      " '?                                              ^ ^^          ++ ^\\n']\n",
      "\n",
      "---------------------------------------\n",
      "\n",
      "ORIGINAL: guid='Gp6TC$sq:^' front='How can we compute the dot product between two vectors $\\\\vec{a}$ and $\\\\vec{b}$?' back='$\\\\begin{aligned} a \\\\cdot b &amp;= \\\\sum_{i=1}^n a_{i} b_{i} \\\\\\\\ &amp;= a_{1} b_{1} + a_{2} b_{2} + \\\\cdots +a_{n} b_{n} \\\\end{aligned}$' tags=['linear-algebra'] notetype='KaTeX and Markdown Basic (Color)' deck_name='Default'\n",
      "\n",
      "POTENTIAL DUPLICATE (100.00%): {'guid': 'e^IJ*3%El#', 'front': 'How can we compute the dot product between two vectors $\\\\vec{a}$ and $\\\\vec{b}$?', 'back': '$ \\\\mathbf{a}\\\\cdot\\\\mathbf{b} = \\\\left\\\\|\\\\mathbf{a}\\\\right\\\\| \\\\left\\\\|\\\\mathbf{b}\\\\right\\\\| \\\\cos\\\\theta $', 'tags': ['geometry']}\n",
      "\n",
      "['  How can we compute the dot product between two vectors $\\\\vec{a}$ and '\n",
      " '$\\\\vec{b}$?']\n",
      "\n",
      "---------------------------------------\n",
      "\n",
      "ORIGINAL: guid='e^IJ*3%El#' front='How can we compute the dot product between two vectors $\\\\vec{a}$ and $\\\\vec{b}$?' back='$ \\\\mathbf{a}\\\\cdot\\\\mathbf{b} = \\\\left\\\\|\\\\mathbf{a}\\\\right\\\\| \\\\left\\\\|\\\\mathbf{b}\\\\right\\\\| \\\\cos\\\\theta $' tags=['geometry'] notetype='KaTeX and Markdown Basic (Color)' deck_name='Default'\n",
      "\n",
      "POTENTIAL DUPLICATE (100.00%): {'guid': 'Gp6TC$sq:^', 'front': 'How can we compute the dot product between two vectors $\\\\vec{a}$ and $\\\\vec{b}$?', 'back': '$\\\\begin{aligned} a \\\\cdot b &amp;= \\\\sum_{i=1}^n a_{i} b_{i} \\\\\\\\ &amp;= a_{1} b_{1} + a_{2} b_{2} + \\\\cdots +a_{n} b_{n} \\\\end{aligned}$', 'tags': ['linear-algebra']}\n",
      "\n",
      "['  How can we compute the dot product between two vectors $\\\\vec{a}$ and '\n",
      " '$\\\\vec{b}$?']\n",
      "\n",
      "---------------------------------------\n",
      "\n",
      "ORIGINAL: guid='E$=Vf#>Cq*' front='When adding parentheses, what adds a space between the delimiter and text object?' back='`(`, `{`, `[` ' tags=['nvim'] notetype='KaTeX and Markdown Basic (Color)' deck_name='Default'\n",
      "\n",
      "POTENTIAL DUPLICATE (99.35%): {'guid': 'N[t!ptB7cT', 'front': \"When adding parentheses, what doesn't adds a space between the delimiter and text object?\", 'back': '`)`, `}`, `]`', 'tags': ['nvim']}\n",
      "\n",
      "['- When adding parentheses, what adds a space between the delimiter and text '\n",
      " 'object?',\n",
      " \"+ When adding parentheses, what doesn't adds a space between the delimiter \"\n",
      " 'and text object?',\n",
      " '?                             ++++++++\\n']\n",
      "\n",
      "---------------------------------------\n",
      "\n",
      "ORIGINAL: guid='N[t!ptB7cT' front=\"When adding parentheses, what doesn't adds a space between the delimiter and text object?\" back='`)`, `}`, `]`' tags=['nvim'] notetype='KaTeX and Markdown Basic (Color)' deck_name='Default'\n",
      "\n",
      "POTENTIAL DUPLICATE (99.35%): {'guid': 'E$=Vf#>Cq*', 'front': 'When adding parentheses, what adds a space between the delimiter and text object?', 'back': '`(`, `{`, `[` ', 'tags': ['nvim']}\n",
      "\n",
      "[\"- When adding parentheses, what doesn't adds a space between the delimiter \"\n",
      " 'and text object?',\n",
      " '?                             --------\\n',\n",
      " '+ When adding parentheses, what adds a space between the delimiter and text '\n",
      " 'object?']\n",
      "\n",
      "---------------------------------------\n",
      "\n",
      "ORIGINAL: guid='cE=D!Ch*5}' front='Text object for a word' back='`w`' tags=['nvim'] notetype='KaTeX and Markdown Basic (Color)' deck_name='Default'\n",
      "\n",
      "POTENTIAL DUPLICATE (100.00%): {'guid': 'CekT;;>zK*', 'front': 'Text object for a WORD', 'back': '`W`', 'tags': ['nvim']}\n",
      "\n",
      "['- Text object for a word',\n",
      " '?                   ^^^^\\n',\n",
      " '+ Text object for a WORD',\n",
      " '?                   ^^^^\\n']\n",
      "\n",
      "---------------------------------------\n",
      "\n",
      "ORIGINAL: guid='BDRm[29-&I' front='Motion to move cursor `[count]` words forward?' back='`[count]w`<br><br><img src=\"AzzJv.gif\">' tags=['nvim'] notetype='KaTeX and Markdown Basic (Color)' deck_name='Default'\n",
      "\n",
      "POTENTIAL DUPLICATE (98.68%): {'guid': 'df7kE~(DT}', 'front': 'Motion to move the cursor [count] WORDS forward', 'back': '`[count]W`<br><br><img src=\"HYaJn.gif\">', 'tags': ['nvim']}\n",
      "\n",
      "['- Motion to move cursor `[count]` words forward?',\n",
      " '?                       -       - ^^^^^        -\\n',\n",
      " '+ Motion to move the cursor [count] WORDS forward',\n",
      " '?                ++++               ^^^^^\\n']\n",
      "\n",
      "---------------------------------------\n",
      "\n",
      "ORIGINAL: guid='o`7XO6LcMT' front='<img src=\"paste-e9bc7c579693a7899ce164fe23d8ecd47eec4454.jpg\">' back='Cardboard' tags=['english'] notetype='KaTeX and Markdown Basic (Color)' deck_name='Default'\n",
      "\n",
      "POTENTIAL DUPLICATE (98.37%): {'guid': 'nt*nI|tBZu', 'front': '<img src=\"paste-3e348f4492cc8329d041ce190d92c55843a390f8.jpg\">', 'back': 'Handrail', 'tags': ['english']}\n",
      "\n",
      "['- <img src=\"paste-e9bc7c579693a7899ce164fe23d8ecd47eec4454.jpg\">',\n",
      " '+ <img src=\"paste-3e348f4492cc8329d041ce190d92c55843a390f8.jpg\">']\n",
      "POTENTIAL DUPLICATE (98.30%): {'guid': 'jnc?Y1Bf!;', 'front': '<img src=\"paste-e5976fdce1be4a6b9ee0cc604f94926c42d8dbce.jpg\">', 'back': 'Hose', 'tags': ['english']}\n",
      "\n",
      "['- <img src=\"paste-e9bc7c579693a7899ce164fe23d8ecd47eec4454.jpg\">',\n",
      " '+ <img src=\"paste-e5976fdce1be4a6b9ee0cc604f94926c42d8dbce.jpg\">']\n",
      "\n",
      "---------------------------------------\n",
      "\n",
      "ORIGINAL: guid='L&xq6wT3=c' front='<img src=\"paste-8d8a20029d3886e08da2c277f59f6eb293878367.jpg\">' back='Basement' tags=['english'] notetype='KaTeX and Markdown Basic (Color)' deck_name='Default'\n",
      "\n",
      "POTENTIAL DUPLICATE (98.31%): {'guid': ']u]IQ,X[z', 'front': '<img src=\"paste-8b08aae1d7eda9a1672cf8f70198d75f4a324836.jpg\">', 'back': 'Wrench', 'tags': ['english']}\n",
      "\n",
      "['- <img src=\"paste-8d8a20029d3886e08da2c277f59f6eb293878367.jpg\">',\n",
      " '+ <img src=\"paste-8b08aae1d7eda9a1672cf8f70198d75f4a324836.jpg\">']\n",
      "POTENTIAL DUPLICATE (98.23%): {'guid': 'nt*nI|tBZu', 'front': '<img src=\"paste-3e348f4492cc8329d041ce190d92c55843a390f8.jpg\">', 'back': 'Handrail', 'tags': ['english']}\n",
      "\n",
      "['- <img src=\"paste-8d8a20029d3886e08da2c277f59f6eb293878367.jpg\">',\n",
      " '+ <img src=\"paste-3e348f4492cc8329d041ce190d92c55843a390f8.jpg\">']\n",
      "\n",
      "---------------------------------------\n",
      "\n"
     ]
    }
   ],
   "source": [
    "from difflib import Differ\n",
    "from pprint import pprint\n",
    "\n",
    "differ = Differ()\n",
    "\n",
    "cnt = 0\n",
    "for note in deck:\n",
    "    hits = qdrant.query_points(\n",
    "        collection_name=\"anki_deck\",\n",
    "        query=encoder.encode(note.front).tolist(),\n",
    "        limit=3,\n",
    "        score_threshold=0.95,\n",
    "    )\n",
    "    if len(hits.points) > 1:  #\n",
    "        print(f\"ORIGINAL: {note}\\n\")\n",
    "        for hit in hits.points:\n",
    "            if str(note.guid) != hit.payload[\"guid\"]:\n",
    "                print(f\"POTENTIAL DUPLICATE ({hit.score:.2%}): {hit.payload}\\n\")\n",
    "                result = differ.compare([note.front], [hit.payload[\"front\"]])\n",
    "                pprint(list(result))\n",
    "        print(\"\\n---------------------------------------\\n\")\n",
    "        cnt += 1\n",
    "        if cnt > 10:\n",
    "            break"
   ]
  },
  {
   "cell_type": "code",
   "execution_count": null,
   "id": "bfe3053c-36c3-458b-96d1-77e97827ab5f",
   "metadata": {},
   "outputs": [],
   "source": []
  }
 ],
 "metadata": {
  "kernelspec": {
   "display_name": "Python 3 (ipykernel)",
   "language": "python",
   "name": "python3"
  },
  "language_info": {
   "codemirror_mode": {
    "name": "ipython",
    "version": 3
   },
   "file_extension": ".py",
   "mimetype": "text/x-python",
   "name": "python",
   "nbconvert_exporter": "python",
   "pygments_lexer": "ipython3",
   "version": "3.12.8"
  }
 },
 "nbformat": 4,
 "nbformat_minor": 5
}
